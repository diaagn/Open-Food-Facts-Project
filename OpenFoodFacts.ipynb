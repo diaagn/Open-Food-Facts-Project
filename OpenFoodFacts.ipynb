{
 "cells": [
  {
   "cell_type": "markdown",
   "id": "eb63a8db-fa30-45f0-a4df-3f46efe32f0e",
   "metadata": {},
   "source": [
    "# Introduction\n",
    "Ce rapport présente une analyse des données nutritionnelles à l'aide de PySpark, un framework de traitement des données distribuées. L'objectif de cette analyse est de nettoyer et de traiter les données sur les produits alimentaires, les régimes alimentaires et les utilisateurs pour générer un menu hebdomadaire équilibré.\n",
    "\n",
    "# 1) Récupération des données\n",
    "Pour récupérer les données OpenFoodFacts, nous avons exploité la source de données accessible à l'adresse https://fr.openfoodfacts.org/data. À partir de cette source, nous avons téléchargé le fichier CSV contenant les informations sur les produits alimentaires. Ensuite, en utilisant PySpark, nous avons chargé et traité ces données dans notre environnement de développement Eclipse. De plus, nous avons affiché la structure racine du fichier ainsi que le nombre de lignes et de colonnes pour évaluer le volume de donnée"
   ]
  },
  {
   "cell_type": "code",
   "execution_count": 2,
   "id": "0f32e4c0-ec10-40b0-bbef-1be1120a314c",
   "metadata": {},
   "outputs": [],
   "source": [
    "# Importation des bibliothéques\n",
    "from pyspark.sql import SparkSession\n",
    "from pyspark.sql.functions import col, lit, regexp_replace\n",
    "from pyspark.sql.types import IntegerType"
   ]
  },
  {
   "cell_type": "markdown",
   "id": "13544373-d02b-46d2-8261-3f351329ff5c",
   "metadata": {},
   "source": [
    "# 1.1) Chargement des données\n",
    "Les données sont chargées à partir de fichiers CSV locaux. Trois ensembles de données sont utilisés:\n",
    "\n",
    "Données des produits alimentaires provenant d'Openfoodfacts\n",
    "Données sur les régimes nutritionnels\n",
    "Données des utilisateurs et de leurs régimes alimentaires"
   ]
  },
  {
   "cell_type": "code",
   "execution_count": 4,
   "id": "d4f531c2-d9c8-4bd7-ad91-74c1ff4a9be3",
   "metadata": {},
   "outputs": [
    {
     "name": "stderr",
     "output_type": "stream",
     "text": [
      "24/03/01 14:27:35 WARN Utils: Your hostname, sokhna-GF75-Thin-10SCSR resolves to a loopback address: 127.0.1.1; using 172.20.10.4 instead (on interface enx3ecd362a2b81)\n",
      "24/03/01 14:27:35 WARN Utils: Set SPARK_LOCAL_IP if you need to bind to another address\n",
      "Setting default log level to \"WARN\".\n",
      "To adjust logging level use sc.setLogLevel(newLevel). For SparkR, use setLogLevel(newLevel).\n",
      "24/03/01 14:27:35 WARN NativeCodeLoader: Unable to load native-hadoop library for your platform... using builtin-java classes where applicable\n",
      "24/03/01 14:28:33 WARN SparkStringUtils: Truncated the string representation of a plan since it was too large. This behavior can be adjusted by setting 'spark.sql.debug.maxToStringFields'.\n"
     ]
    },
    {
     "data": {
      "text/html": [
       "<table border='1'>\n",
       "<tr><th>code</th><th>url</th><th>creator</th><th>created_t</th><th>created_datetime</th><th>last_modified_t</th><th>last_modified_datetime</th><th>last_modified_by</th><th>last_updated_t</th><th>last_updated_datetime</th><th>product_name</th><th>abbreviated_product_name</th><th>generic_name</th><th>quantity</th><th>packaging</th><th>packaging_tags</th><th>packaging_en</th><th>packaging_text</th><th>brands</th><th>brands_tags</th><th>categories</th><th>categories_tags</th><th>categories_en</th><th>origins</th><th>origins_tags</th><th>origins_en</th><th>manufacturing_places</th><th>manufacturing_places_tags</th><th>labels</th><th>labels_tags</th><th>labels_en</th><th>emb_codes</th><th>emb_codes_tags</th><th>first_packaging_code_geo</th><th>cities</th><th>cities_tags</th><th>purchase_places</th><th>stores</th><th>countries</th><th>countries_tags</th><th>countries_en</th><th>ingredients_text</th><th>ingredients_tags</th><th>ingredients_analysis_tags</th><th>allergens</th><th>allergens_en</th><th>traces</th><th>traces_tags</th><th>traces_en</th><th>serving_size</th><th>serving_quantity</th><th>no_nutrition_data</th><th>additives_n</th><th>additives</th><th>additives_tags</th><th>additives_en</th><th>nutriscore_score</th><th>nutriscore_grade</th><th>nova_group</th><th>pnns_groups_1</th><th>pnns_groups_2</th><th>food_groups</th><th>food_groups_tags</th><th>food_groups_en</th><th>states</th><th>states_tags</th><th>states_en</th><th>brand_owner</th><th>ecoscore_score</th><th>ecoscore_grade</th><th>nutrient_levels_tags</th><th>product_quantity</th><th>owner</th><th>data_quality_errors_tags</th><th>unique_scans_n</th><th>popularity_tags</th><th>completeness</th><th>last_image_t</th><th>last_image_datetime</th><th>main_category</th><th>main_category_en</th><th>image_url</th><th>image_small_url</th><th>image_ingredients_url</th><th>image_ingredients_small_url</th><th>image_nutrition_url</th><th>image_nutrition_small_url</th><th>energy-kj_100g</th><th>energy-kcal_100g</th><th>energy_100g</th><th>energy-from-fat_100g</th><th>fat_100g</th><th>saturated-fat_100g</th><th>butyric-acid_100g</th><th>caproic-acid_100g</th><th>caprylic-acid_100g</th><th>capric-acid_100g</th><th>lauric-acid_100g</th><th>myristic-acid_100g</th><th>palmitic-acid_100g</th><th>stearic-acid_100g</th><th>arachidic-acid_100g</th><th>behenic-acid_100g</th><th>lignoceric-acid_100g</th><th>cerotic-acid_100g</th><th>montanic-acid_100g</th><th>melissic-acid_100g</th><th>unsaturated-fat_100g</th><th>monounsaturated-fat_100g</th><th>omega-9-fat_100g</th><th>polyunsaturated-fat_100g</th><th>omega-3-fat_100g</th><th>omega-6-fat_100g</th><th>alpha-linolenic-acid_100g</th><th>eicosapentaenoic-acid_100g</th><th>docosahexaenoic-acid_100g</th><th>linoleic-acid_100g</th><th>arachidonic-acid_100g</th><th>gamma-linolenic-acid_100g</th><th>dihomo-gamma-linolenic-acid_100g</th><th>oleic-acid_100g</th><th>elaidic-acid_100g</th><th>gondoic-acid_100g</th><th>mead-acid_100g</th><th>erucic-acid_100g</th><th>nervonic-acid_100g</th><th>trans-fat_100g</th><th>cholesterol_100g</th><th>carbohydrates_100g</th><th>sugars_100g</th><th>added-sugars_100g</th><th>sucrose_100g</th><th>glucose_100g</th><th>fructose_100g</th><th>lactose_100g</th><th>maltose_100g</th><th>maltodextrins_100g</th><th>starch_100g</th><th>polyols_100g</th><th>erythritol_100g</th><th>fiber_100g</th><th>soluble-fiber_100g</th><th>insoluble-fiber_100g</th><th>proteins_100g</th><th>casein_100g</th><th>serum-proteins_100g</th><th>nucleotides_100g</th><th>salt_100g</th><th>added-salt_100g</th><th>sodium_100g</th><th>alcohol_100g</th><th>vitamin-a_100g</th><th>beta-carotene_100g</th><th>vitamin-d_100g</th><th>vitamin-e_100g</th><th>vitamin-k_100g</th><th>vitamin-c_100g</th><th>vitamin-b1_100g</th><th>vitamin-b2_100g</th><th>vitamin-pp_100g</th><th>vitamin-b6_100g</th><th>vitamin-b9_100g</th><th>folates_100g</th><th>vitamin-b12_100g</th><th>biotin_100g</th><th>pantothenic-acid_100g</th><th>silica_100g</th><th>bicarbonate_100g</th><th>potassium_100g</th><th>chloride_100g</th><th>calcium_100g</th><th>phosphorus_100g</th><th>iron_100g</th><th>magnesium_100g</th><th>zinc_100g</th><th>copper_100g</th><th>manganese_100g</th><th>fluoride_100g</th><th>selenium_100g</th><th>chromium_100g</th><th>molybdenum_100g</th><th>iodine_100g</th><th>caffeine_100g</th><th>taurine_100g</th><th>ph_100g</th><th>fruits-vegetables-nuts_100g</th><th>fruits-vegetables-nuts-dried_100g</th><th>fruits-vegetables-nuts-estimate_100g</th><th>fruits-vegetables-nuts-estimate-from-ingredients_100g</th><th>collagen-meat-protein-ratio_100g</th><th>cocoa_100g</th><th>chlorophyl_100g</th><th>carbon-footprint_100g</th><th>carbon-footprint-from-meat-or-fish_100g</th><th>nutrition-score-fr_100g</th><th>nutrition-score-uk_100g</th><th>glycemic-index_100g</th><th>water-hardness_100g</th><th>choline_100g</th><th>phylloquinone_100g</th><th>beta-glucan_100g</th><th>inositol_100g</th><th>carnitine_100g</th><th>sulphate_100g</th><th>nitrate_100g</th><th>acidity_100g</th></tr>\n",
       "<tr><td>225.0</td><td>http://world-en.o...</td><td>nutrinet-sante</td><td>1623855208</td><td>2021-06-16 16:53:28</td><td>1692101569</td><td>2023-08-15 14:12:49</td><td>digg</td><td>1707747939</td><td>2024-02-12 15:25:39</td><td>jeunes pousses</td><td>NULL</td><td>NULL</td><td>NULL</td><td>NULL</td><td>NULL</td><td>NULL</td><td>NULL</td><td>endives</td><td>endives</td><td>Aliments et boiss...</td><td>en:plant-based-fo...</td><td>Plant-based foods...</td><td>NULL</td><td>NULL</td><td>NULL</td><td>NULL</td><td>NULL</td><td>NULL</td><td>NULL</td><td>NULL</td><td>NULL</td><td>NULL</td><td>NULL</td><td>NULL</td><td>NULL</td><td>NULL</td><td>NULL</td><td>en:france</td><td>en:france</td><td>France</td><td>NULL</td><td>NULL</td><td>NULL</td><td>NULL</td><td>NULL</td><td>NULL</td><td>NULL</td><td>NULL</td><td>NULL</td><td>NULL</td><td>NULL</td><td>NULL</td><td>NULL</td><td>NULL</td><td>NULL</td><td>NULL</td><td>unknown</td><td>NULL</td><td>Fruits and vegeta...</td><td>Vegetables</td><td>en:vegetables</td><td>en:fruits-and-veg...</td><td>Fruits and vegeta...</td><td>en:to-be-complete...</td><td>en:to-be-complete...</td><td>To be completed,N...</td><td>NULL</td><td>79.0</td><td>b</td><td>NULL</td><td>NULL</td><td>NULL</td><td>NULL</td><td>NULL</td><td>NULL</td><td>0.3</td><td>NULL</td><td>NULL</td><td>en:spinach-young-...</td><td>Spinach young leaves</td><td>NULL</td><td>NULL</td><td>NULL</td><td>NULL</td><td>NULL</td><td>NULL</td><td>NULL</td><td>NULL</td><td>NULL</td><td>NULL</td><td>NULL</td><td>NULL</td><td>NULL</td><td>NULL</td><td>NULL</td><td>NULL</td><td>NULL</td><td>NULL</td><td>NULL</td><td>NULL</td><td>NULL</td><td>NULL</td><td>NULL</td><td>NULL</td><td>NULL</td><td>NULL</td><td>NULL</td><td>NULL</td><td>NULL</td><td>NULL</td><td>NULL</td><td>NULL</td><td>NULL</td><td>NULL</td><td>NULL</td><td>NULL</td><td>NULL</td><td>NULL</td><td>NULL</td><td>NULL</td><td>NULL</td><td>NULL</td><td>NULL</td><td>NULL</td><td>NULL</td><td>NULL</td><td>NULL</td><td>NULL</td><td>NULL</td><td>NULL</td><td>NULL</td><td>NULL</td><td>NULL</td><td>NULL</td><td>NULL</td><td>NULL</td><td>NULL</td><td>NULL</td><td>NULL</td><td>NULL</td><td>NULL</td><td>NULL</td><td>NULL</td><td>NULL</td><td>NULL</td><td>NULL</td><td>NULL</td><td>NULL</td><td>NULL</td><td>NULL</td><td>NULL</td><td>NULL</td><td>NULL</td><td>NULL</td><td>NULL</td><td>NULL</td><td>NULL</td><td>NULL</td><td>NULL</td><td>NULL</td><td>NULL</td><td>NULL</td><td>NULL</td><td>NULL</td><td>NULL</td><td>NULL</td><td>NULL</td><td>NULL</td><td>NULL</td><td>NULL</td><td>NULL</td><td>NULL</td><td>NULL</td><td>NULL</td><td>NULL</td><td>NULL</td><td>NULL</td><td>NULL</td><td>NULL</td><td>NULL</td><td>NULL</td><td>NULL</td><td>NULL</td><td>NULL</td><td>NULL</td><td>NULL</td><td>NULL</td><td>NULL</td><td>NULL</td><td>NULL</td><td>NULL</td><td>NULL</td><td>NULL</td><td>NULL</td><td>NULL</td><td>NULL</td><td>NULL</td><td>NULL</td><td>NULL</td><td>NULL</td><td>NULL</td><td>NULL</td><td>NULL</td><td>NULL</td><td>NULL</td></tr>\n",
       "<tr><td>2.07025004E8</td><td>http://world-en.o...</td><td>kiliweb</td><td>1656948610</td><td>2022-07-04 17:30:10</td><td>1656948613</td><td>2022-07-04 17:30:13</td><td>kiliweb</td><td>1707864218</td><td>2024-02-13 23:43:38</td><td>Andr&egrave;</td><td>NULL</td><td>NULL</td><td>NULL</td><td>NULL</td><td>NULL</td><td>NULL</td><td>NULL</td><td>NULL</td><td>NULL</td><td>NULL</td><td>NULL</td><td>NULL</td><td>NULL</td><td>NULL</td><td>NULL</td><td>NULL</td><td>NULL</td><td>NULL</td><td>NULL</td><td>NULL</td><td>NULL</td><td>NULL</td><td>NULL</td><td>NULL</td><td>NULL</td><td>NULL</td><td>NULL</td><td>en:de</td><td>en:germany</td><td>Germany</td><td>NULL</td><td>NULL</td><td>NULL</td><td>NULL</td><td>NULL</td><td>NULL</td><td>NULL</td><td>NULL</td><td>NULL</td><td>NULL</td><td>NULL</td><td>NULL</td><td>NULL</td><td>NULL</td><td>NULL</td><td>NULL</td><td>unknown</td><td>NULL</td><td>unknown</td><td>unknown</td><td>NULL</td><td>NULL</td><td>NULL</td><td>en:to-be-complete...</td><td>en:to-be-complete...</td><td>To be completed,N...</td><td>NULL</td><td>NULL</td><td>unknown</td><td>NULL</td><td>NULL</td><td>NULL</td><td>en:energy-value-i...</td><td>NULL</td><td>NULL</td><td>0.2625</td><td>1656948613</td><td>2022-07-04 17:30:13</td><td>NULL</td><td>NULL</td><td>NULL</td><td>NULL</td><td>NULL</td><td>NULL</td><td>https://images.op...</td><td>https://images.op...</td><td>NULL</td><td>165.0</td><td>690.0</td><td>NULL</td><td>2.0</td><td>2.0</td><td>NULL</td><td>NULL</td><td>NULL</td><td>NULL</td><td>NULL</td><td>NULL</td><td>NULL</td><td>NULL</td><td>NULL</td><td>NULL</td><td>NULL</td><td>NULL</td><td>NULL</td><td>NULL</td><td>NULL</td><td>NULL</td><td>NULL</td><td>NULL</td><td>NULL</td><td>NULL</td><td>NULL</td><td>NULL</td><td>NULL</td><td>NULL</td><td>NULL</td><td>NULL</td><td>NULL</td><td>NULL</td><td>NULL</td><td>NULL</td><td>NULL</td><td>NULL</td><td>NULL</td><td>NULL</td><td>NULL</td><td>65.0</td><td>12.6</td><td>NULL</td><td>NULL</td><td>NULL</td><td>NULL</td><td>NULL</td><td>NULL</td><td>NULL</td><td>NULL</td><td>NULL</td><td>NULL</td><td>3.0</td><td>NULL</td><td>NULL</td><td>1.5</td><td>NULL</td><td>NULL</td><td>NULL</td><td>NULL</td><td>NULL</td><td>NULL</td><td>NULL</td><td>NULL</td><td>NULL</td><td>NULL</td><td>NULL</td><td>NULL</td><td>NULL</td><td>NULL</td><td>NULL</td><td>NULL</td><td>NULL</td><td>NULL</td><td>NULL</td><td>NULL</td><td>NULL</td><td>NULL</td><td>NULL</td><td>NULL</td><td>NULL</td><td>NULL</td><td>NULL</td><td>NULL</td><td>NULL</td><td>NULL</td><td>NULL</td><td>NULL</td><td>NULL</td><td>NULL</td><td>NULL</td><td>NULL</td><td>NULL</td><td>NULL</td><td>NULL</td><td>NULL</td><td>NULL</td><td>NULL</td><td>NULL</td><td>NULL</td><td>NULL</td><td>NULL</td><td>NULL</td><td>NULL</td><td>NULL</td><td>NULL</td><td>NULL</td><td>NULL</td><td>NULL</td><td>NULL</td><td>NULL</td><td>NULL</td><td>NULL</td><td>NULL</td><td>NULL</td><td>NULL</td><td>NULL</td><td>NULL</td></tr>\n",
       "<tr><td>3429145.0</td><td>http://world-en.o...</td><td>kiliweb</td><td>1630483911</td><td>2021-09-01 10:11:51</td><td>1682646029</td><td>2023-04-28 03:40:29</td><td>isabel626</td><td>1707843647</td><td>2024-02-13 18:00:47</td><td>L.casei</td><td>NULL</td><td>NULL</td><td>NULL</td><td>NULL</td><td>NULL</td><td>NULL</td><td>NULL</td><td>NULL</td><td>NULL</td><td>NULL</td><td>NULL</td><td>NULL</td><td>Spain</td><td>en:spain</td><td>Spain</td><td>NULL</td><td>NULL</td><td>Punto Verde</td><td>en:green-dot</td><td>Green Dot</td><td>NULL</td><td>NULL</td><td>NULL</td><td>NULL</td><td>NULL</td><td>NULL</td><td>NULL</td><td>Spain</td><td>en:spain</td><td>Spain</td><td>Leche semidesnata...</td><td>en:semi-skimmed-m...</td><td>en:palm-oil-free,...</td><td>NULL</td><td>NULL</td><td>NULL</td><td>NULL</td><td>NULL</td><td>NULL</td><td>NULL</td><td>NULL</td><td>0</td><td>NULL</td><td>NULL</td><td>NULL</td><td>NULL</td><td>unknown</td><td>NULL</td><td>unknown</td><td>unknown</td><td>NULL</td><td>NULL</td><td>NULL</td><td>en:to-be-complete...</td><td>en:to-be-complete...</td><td>To be completed,N...</td><td>NULL</td><td>NULL</td><td>unknown</td><td>NULL</td><td>NULL</td><td>NULL</td><td>NULL</td><td>NULL</td><td>NULL</td><td>0.4875</td><td>1630483912</td><td>2021-09-01 10:11:52</td><td>NULL</td><td>NULL</td><td>https://images.op...</td><td>https://images.op...</td><td>https://images.op...</td><td>https://images.op...</td><td>https://images.op...</td><td>https://images.op...</td><td>NULL</td><td>NULL</td><td>NULL</td><td>NULL</td><td>1.4</td><td>0.9</td><td>NULL</td><td>NULL</td><td>NULL</td><td>NULL</td><td>NULL</td><td>NULL</td><td>NULL</td><td>NULL</td><td>NULL</td><td>NULL</td><td>NULL</td><td>NULL</td><td>NULL</td><td>NULL</td><td>NULL</td><td>NULL</td><td>NULL</td><td>NULL</td><td>NULL</td><td>NULL</td><td>NULL</td><td>NULL</td><td>NULL</td><td>NULL</td><td>NULL</td><td>NULL</td><td>NULL</td><td>NULL</td><td>NULL</td><td>NULL</td><td>NULL</td><td>NULL</td><td>NULL</td><td>NULL</td><td>NULL</td><td>9.8</td><td>9.8</td><td>NULL</td><td>NULL</td><td>NULL</td><td>NULL</td><td>NULL</td><td>NULL</td><td>NULL</td><td>NULL</td><td>NULL</td><td>NULL</td><td>NULL</td><td>NULL</td><td>NULL</td><td>2.7</td><td>NULL</td><td>NULL</td><td>NULL</td><td>0.1</td><td>NULL</td><td>0.04</td><td>NULL</td><td>NULL</td><td>NULL</td><td>NULL</td><td>NULL</td><td>NULL</td><td>NULL</td><td>NULL</td><td>NULL</td><td>NULL</td><td>NULL</td><td>NULL</td><td>NULL</td><td>NULL</td><td>NULL</td><td>NULL</td><td>NULL</td><td>NULL</td><td>NULL</td><td>NULL</td><td>NULL</td><td>NULL</td><td>NULL</td><td>NULL</td><td>NULL</td><td>NULL</td><td>NULL</td><td>NULL</td><td>NULL</td><td>NULL</td><td>NULL</td><td>NULL</td><td>NULL</td><td>NULL</td><td>NULL</td><td>NULL</td><td>NULL</td><td>NULL</td><td>0.0</td><td>NULL</td><td>NULL</td><td>NULL</td><td>NULL</td><td>NULL</td><td>NULL</td><td>NULL</td><td>NULL</td><td>NULL</td><td>NULL</td><td>NULL</td><td>NULL</td><td>NULL</td><td>NULL</td><td>NULL</td><td>NULL</td><td>NULL</td></tr>\n",
       "<tr><td>2.6772226E7</td><td>http://world-en.o...</td><td>kiliweb</td><td>1654250311</td><td>2022-06-03 11:58:31</td><td>1654270474</td><td>2022-06-03 17:34:34</td><td>quentinbrd</td><td>1707742177</td><td>2024-02-12 13:49:37</td><td>Skyr</td><td>NULL</td><td>NULL</td><td>480 g</td><td>NULL</td><td>NULL</td><td>NULL</td><td>NULL</td><td>Danone</td><td>danone</td><td>Produits laitiers...</td><td>en:dairies,en:fer...</td><td>Dairies,Fermented...</td><td>NULL</td><td>NULL</td><td>NULL</td><td>NULL</td><td>NULL</td><td>NULL</td><td>NULL</td><td>NULL</td><td>NULL</td><td>NULL</td><td>NULL</td><td>NULL</td><td>NULL</td><td>NULL</td><td>NULL</td><td>France</td><td>en:france</td><td>France</td><td>NULL</td><td>NULL</td><td>NULL</td><td>NULL</td><td>NULL</td><td>NULL</td><td>NULL</td><td>NULL</td><td>NULL</td><td>NULL</td><td>NULL</td><td>NULL</td><td>NULL</td><td>NULL</td><td>NULL</td><td>-5</td><td>a</td><td>NULL</td><td>Milk and dairy pr...</td><td>Dairy desserts</td><td>en:dairy-desserts</td><td>en:milk-and-dairy...</td><td>Milk and dairy pr...</td><td>en:to-be-complete...</td><td>en:to-be-complete...</td><td>To be completed,N...</td><td>NULL</td><td>67.0</td><td>b</td><td>en:fat-in-low-qua...</td><td>480.0</td><td>NULL</td><td>NULL</td><td>NULL</td><td>NULL</td><td>0.575</td><td>1654250314</td><td>2022-06-03 11:58:34</td><td>en:cream-cheeses</td><td>Cream cheeses</td><td>https://images.op...</td><td>https://images.op...</td><td>NULL</td><td>NULL</td><td>https://images.op...</td><td>https://images.op...</td><td>NULL</td><td>57.0</td><td>238.0</td><td>NULL</td><td>0.2</td><td>0.1</td><td>NULL</td><td>NULL</td><td>NULL</td><td>NULL</td><td>NULL</td><td>NULL</td><td>NULL</td><td>NULL</td><td>NULL</td><td>NULL</td><td>NULL</td><td>NULL</td><td>NULL</td><td>NULL</td><td>NULL</td><td>NULL</td><td>NULL</td><td>NULL</td><td>NULL</td><td>NULL</td><td>NULL</td><td>NULL</td><td>NULL</td><td>NULL</td><td>NULL</td><td>NULL</td><td>NULL</td><td>NULL</td><td>NULL</td><td>NULL</td><td>NULL</td><td>NULL</td><td>NULL</td><td>NULL</td><td>NULL</td><td>3.9</td><td>3.9</td><td>NULL</td><td>NULL</td><td>NULL</td><td>NULL</td><td>NULL</td><td>NULL</td><td>NULL</td><td>NULL</td><td>NULL</td><td>NULL</td><td>NULL</td><td>NULL</td><td>NULL</td><td>10.0</td><td>NULL</td><td>NULL</td><td>NULL</td><td>0.09</td><td>NULL</td><td>0.036</td><td>NULL</td><td>NULL</td><td>NULL</td><td>NULL</td><td>NULL</td><td>NULL</td><td>NULL</td><td>NULL</td><td>NULL</td><td>NULL</td><td>NULL</td><td>NULL</td><td>NULL</td><td>NULL</td><td>NULL</td><td>NULL</td><td>NULL</td><td>NULL</td><td>NULL</td><td>NULL</td><td>NULL</td><td>NULL</td><td>NULL</td><td>NULL</td><td>NULL</td><td>NULL</td><td>NULL</td><td>NULL</td><td>NULL</td><td>NULL</td><td>NULL</td><td>NULL</td><td>NULL</td><td>NULL</td><td>NULL</td><td>NULL</td><td>NULL</td><td>NULL</td><td>NULL</td><td>NULL</td><td>NULL</td><td>NULL</td><td>NULL</td><td>NULL</td><td>-5</td><td>NULL</td><td>NULL</td><td>NULL</td><td>NULL</td><td>NULL</td><td>NULL</td><td>NULL</td><td>NULL</td><td>NULL</td><td>NULL</td><td>NULL</td></tr>\n",
       "<tr><td>17.0</td><td>http://world-en.o...</td><td>kiliweb</td><td>1529059080</td><td>2018-06-15 12:38:00</td><td>1561463718</td><td>2019-06-25 13:55:18</td><td>kiliweb</td><td>1707490056</td><td>2024-02-09 15:47:36</td><td>Vit&oacute;ria crackers</td><td>NULL</td><td>NULL</td><td>NULL</td><td>NULL</td><td>NULL</td><td>NULL</td><td>NULL</td><td>NULL</td><td>NULL</td><td>NULL</td><td>NULL</td><td>NULL</td><td>NULL</td><td>NULL</td><td>NULL</td><td>NULL</td><td>NULL</td><td>NULL</td><td>NULL</td><td>NULL</td><td>NULL</td><td>NULL</td><td>NULL</td><td>NULL</td><td>NULL</td><td>NULL</td><td>NULL</td><td>France</td><td>en:france</td><td>France</td><td>NULL</td><td>NULL</td><td>NULL</td><td>NULL</td><td>NULL</td><td>NULL</td><td>NULL</td><td>NULL</td><td>NULL</td><td>NULL</td><td>NULL</td><td>NULL</td><td>NULL</td><td>NULL</td><td>NULL</td><td>NULL</td><td>unknown</td><td>NULL</td><td>unknown</td><td>unknown</td><td>NULL</td><td>NULL</td><td>NULL</td><td>en:to-be-complete...</td><td>en:to-be-complete...</td><td>To be completed,N...</td><td>NULL</td><td>NULL</td><td>unknown</td><td>NULL</td><td>NULL</td><td>NULL</td><td>NULL</td><td>1</td><td>top-75-percent-sc...</td><td>0.275</td><td>1529059087</td><td>2018-06-15 12:38:07</td><td>NULL</td><td>NULL</td><td>https://images.op...</td><td>https://images.op...</td><td>https://images.op...</td><td>https://images.op...</td><td>NULL</td><td>NULL</td><td>NULL</td><td>375.0</td><td>1569.0</td><td>NULL</td><td>7.0</td><td>3.08</td><td>NULL</td><td>NULL</td><td>NULL</td><td>NULL</td><td>NULL</td><td>NULL</td><td>NULL</td><td>NULL</td><td>NULL</td><td>NULL</td><td>NULL</td><td>NULL</td><td>NULL</td><td>NULL</td><td>NULL</td><td>NULL</td><td>NULL</td><td>NULL</td><td>NULL</td><td>NULL</td><td>NULL</td><td>NULL</td><td>NULL</td><td>NULL</td><td>NULL</td><td>NULL</td><td>NULL</td><td>NULL</td><td>NULL</td><td>NULL</td><td>NULL</td><td>NULL</td><td>NULL</td><td>NULL</td><td>NULL</td><td>70.1</td><td>15.0</td><td>NULL</td><td>NULL</td><td>NULL</td><td>NULL</td><td>NULL</td><td>NULL</td><td>NULL</td><td>NULL</td><td>NULL</td><td>NULL</td><td>NULL</td><td>NULL</td><td>NULL</td><td>7.8</td><td>NULL</td><td>NULL</td><td>NULL</td><td>1.4</td><td>NULL</td><td>0.56</td><td>NULL</td><td>NULL</td><td>NULL</td><td>NULL</td><td>NULL</td><td>NULL</td><td>NULL</td><td>NULL</td><td>NULL</td><td>NULL</td><td>NULL</td><td>NULL</td><td>NULL</td><td>NULL</td><td>NULL</td><td>NULL</td><td>NULL</td><td>NULL</td><td>NULL</td><td>NULL</td><td>NULL</td><td>NULL</td><td>NULL</td><td>NULL</td><td>NULL</td><td>NULL</td><td>NULL</td><td>NULL</td><td>NULL</td><td>NULL</td><td>NULL</td><td>NULL</td><td>NULL</td><td>NULL</td><td>NULL</td><td>NULL</td><td>NULL</td><td>NULL</td><td>NULL</td><td>NULL</td><td>NULL</td><td>NULL</td><td>NULL</td><td>NULL</td><td>NULL</td><td>NULL</td><td>NULL</td><td>NULL</td><td>NULL</td><td>NULL</td><td>NULL</td><td>NULL</td><td>NULL</td><td>NULL</td><td>NULL</td><td>NULL</td></tr>\n",
       "<tr><td>31.0</td><td>http://world-en.o...</td><td>isagoofy</td><td>1539464774</td><td>2018-10-13 23:06:14</td><td>1539464817</td><td>2018-10-13 23:06:57</td><td>isagoofy</td><td>1707603439</td><td>2024-02-10 23:17:19</td><td>Cacao</td><td>NULL</td><td>NULL</td><td>130 g</td><td>NULL</td><td>NULL</td><td>NULL</td><td>NULL</td><td>NULL</td><td>NULL</td><td>NULL</td><td>NULL</td><td>NULL</td><td>NULL</td><td>NULL</td><td>NULL</td><td>NULL</td><td>NULL</td><td>NULL</td><td>NULL</td><td>NULL</td><td>NULL</td><td>NULL</td><td>NULL</td><td>NULL</td><td>NULL</td><td>NULL</td><td>NULL</td><td>France</td><td>en:france</td><td>France</td><td>NULL</td><td>NULL</td><td>NULL</td><td>NULL</td><td>NULL</td><td>NULL</td><td>NULL</td><td>NULL</td><td>NULL</td><td>NULL</td><td>NULL</td><td>NULL</td><td>NULL</td><td>NULL</td><td>NULL</td><td>NULL</td><td>unknown</td><td>NULL</td><td>unknown</td><td>unknown</td><td>NULL</td><td>NULL</td><td>NULL</td><td>en:to-be-complete...</td><td>en:to-be-complete...</td><td>To be completed,N...</td><td>NULL</td><td>NULL</td><td>unknown</td><td>NULL</td><td>130.0</td><td>NULL</td><td>NULL</td><td>2</td><td>top-75-percent-sc...</td><td>0.2625</td><td>1539464775</td><td>2018-10-13 23:06:15</td><td>NULL</td><td>NULL</td><td>https://images.op...</td><td>https://images.op...</td><td>NULL</td><td>NULL</td><td>NULL</td><td>NULL</td><td>NULL</td><td>NULL</td><td>NULL</td><td>NULL</td><td>NULL</td><td>NULL</td><td>NULL</td><td>NULL</td><td>NULL</td><td>NULL</td><td>NULL</td><td>NULL</td><td>NULL</td><td>NULL</td><td>NULL</td><td>NULL</td><td>NULL</td><td>NULL</td><td>NULL</td><td>NULL</td><td>NULL</td><td>NULL</td><td>NULL</td><td>NULL</td><td>NULL</td><td>NULL</td><td>NULL</td><td>NULL</td><td>NULL</td><td>NULL</td><td>NULL</td><td>NULL</td><td>NULL</td><td>NULL</td><td>NULL</td><td>NULL</td><td>NULL</td><td>NULL</td><td>NULL</td><td>NULL</td><td>NULL</td><td>NULL</td><td>NULL</td><td>NULL</td><td>NULL</td><td>NULL</td><td>NULL</td><td>NULL</td><td>NULL</td><td>NULL</td><td>NULL</td><td>NULL</td><td>NULL</td><td>NULL</td><td>NULL</td><td>NULL</td><td>NULL</td><td>NULL</td><td>NULL</td><td>NULL</td><td>NULL</td><td>NULL</td><td>NULL</td><td>NULL</td><td>NULL</td><td>NULL</td><td>NULL</td><td>NULL</td><td>NULL</td><td>NULL</td><td>NULL</td><td>NULL</td><td>NULL</td><td>NULL</td><td>NULL</td><td>NULL</td><td>NULL</td><td>NULL</td><td>NULL</td><td>NULL</td><td>NULL</td><td>NULL</td><td>NULL</td><td>NULL</td><td>NULL</td><td>NULL</td><td>NULL</td><td>NULL</td><td>NULL</td><td>NULL</td><td>NULL</td><td>NULL</td><td>NULL</td><td>NULL</td><td>NULL</td><td>NULL</td><td>NULL</td><td>NULL</td><td>NULL</td><td>NULL</td><td>NULL</td><td>NULL</td><td>NULL</td><td>NULL</td><td>NULL</td><td>NULL</td><td>NULL</td><td>NULL</td><td>NULL</td><td>NULL</td><td>NULL</td><td>NULL</td><td>NULL</td><td>NULL</td><td>NULL</td><td>NULL</td><td>NULL</td><td>NULL</td><td>NULL</td></tr>\n",
       "<tr><td>3327986.0</td><td>http://world-en.o...</td><td>kiliweb</td><td>1574175736</td><td>2019-11-19 16:02:16</td><td>1624390765</td><td>2021-06-22 21:39:25</td><td>sylvariane</td><td>1707636585</td><td>2024-02-11 08:29:45</td><td>Filetes de pollo ...</td><td>NULL</td><td>NULL</td><td>NULL</td><td>NULL</td><td>NULL</td><td>NULL</td><td>NULL</td><td>NULL</td><td>NULL</td><td>NULL</td><td>NULL</td><td>NULL</td><td>NULL</td><td>NULL</td><td>NULL</td><td>NULL</td><td>NULL</td><td>NULL</td><td>NULL</td><td>NULL</td><td>NULL</td><td>NULL</td><td>NULL</td><td>NULL</td><td>NULL</td><td>NULL</td><td>NULL</td><td>Espagne</td><td>en:spain</td><td>Spain</td><td>NULL</td><td>NULL</td><td>NULL</td><td>NULL</td><td>NULL</td><td>NULL</td><td>NULL</td><td>NULL</td><td>NULL</td><td>NULL</td><td>NULL</td><td>NULL</td><td>NULL</td><td>NULL</td><td>NULL</td><td>NULL</td><td>unknown</td><td>NULL</td><td>unknown</td><td>unknown</td><td>NULL</td><td>NULL</td><td>NULL</td><td>en:to-be-complete...</td><td>en:to-be-complete...</td><td>To be completed,N...</td><td>NULL</td><td>NULL</td><td>unknown</td><td>NULL</td><td>NULL</td><td>NULL</td><td>NULL</td><td>NULL</td><td>NULL</td><td>0.275</td><td>1574175737</td><td>2019-11-19 16:02:17</td><td>NULL</td><td>NULL</td><td>https://images.op...</td><td>https://images.op...</td><td>NULL</td><td>NULL</td><td>https://images.op...</td><td>https://images.op...</td><td>685.8</td><td>163.9</td><td>685.8</td><td>NULL</td><td>1.9</td><td>1.0</td><td>NULL</td><td>NULL</td><td>NULL</td><td>NULL</td><td>NULL</td><td>NULL</td><td>NULL</td><td>NULL</td><td>NULL</td><td>NULL</td><td>NULL</td><td>NULL</td><td>NULL</td><td>NULL</td><td>NULL</td><td>NULL</td><td>NULL</td><td>NULL</td><td>NULL</td><td>NULL</td><td>NULL</td><td>NULL</td><td>NULL</td><td>NULL</td><td>NULL</td><td>NULL</td><td>NULL</td><td>NULL</td><td>NULL</td><td>NULL</td><td>NULL</td><td>NULL</td><td>NULL</td><td>NULL</td><td>NULL</td><td>NULL</td><td>NULL</td><td>NULL</td><td>NULL</td><td>NULL</td><td>NULL</td><td>NULL</td><td>NULL</td><td>NULL</td><td>NULL</td><td>NULL</td><td>NULL</td><td>NULL</td><td>NULL</td><td>NULL</td><td>15.3</td><td>NULL</td><td>NULL</td><td>NULL</td><td>1.1</td><td>NULL</td><td>0.44</td><td>NULL</td><td>NULL</td><td>NULL</td><td>NULL</td><td>NULL</td><td>NULL</td><td>NULL</td><td>NULL</td><td>NULL</td><td>NULL</td><td>NULL</td><td>NULL</td><td>NULL</td><td>NULL</td><td>NULL</td><td>NULL</td><td>NULL</td><td>NULL</td><td>NULL</td><td>NULL</td><td>NULL</td><td>NULL</td><td>NULL</td><td>NULL</td><td>NULL</td><td>NULL</td><td>NULL</td><td>NULL</td><td>NULL</td><td>NULL</td><td>NULL</td><td>NULL</td><td>NULL</td><td>NULL</td><td>NULL</td><td>NULL</td><td>NULL</td><td>NULL</td><td>NULL</td><td>NULL</td><td>NULL</td><td>NULL</td><td>NULL</td><td>NULL</td><td>NULL</td><td>NULL</td><td>NULL</td><td>NULL</td><td>NULL</td><td>NULL</td><td>NULL</td><td>NULL</td><td>NULL</td><td>NULL</td><td>NULL</td><td>NULL</td></tr>\n",
       "<tr><td>4128579.0</td><td>http://world-en.o...</td><td>kiliweb</td><td>1649449251</td><td>2022-04-08 22:20:51</td><td>1649449920</td><td>2022-04-08 22:32:00</td><td>roboto-app</td><td>1707858660</td><td>2024-02-13 22:11:00</td><td>Burger Meat Pollo</td><td>NULL</td><td>NULL</td><td>NULL</td><td>NULL</td><td>NULL</td><td>NULL</td><td>NULL</td><td>NULL</td><td>NULL</td><td>NULL</td><td>NULL</td><td>NULL</td><td>NULL</td><td>NULL</td><td>NULL</td><td>NULL</td><td>NULL</td><td>NULL</td><td>NULL</td><td>NULL</td><td>NULL</td><td>NULL</td><td>NULL</td><td>NULL</td><td>NULL</td><td>NULL</td><td>NULL</td><td>en:es</td><td>en:spain</td><td>Spain</td><td>NULL</td><td>NULL</td><td>NULL</td><td>NULL</td><td>NULL</td><td>NULL</td><td>NULL</td><td>NULL</td><td>NULL</td><td>NULL</td><td>NULL</td><td>NULL</td><td>NULL</td><td>NULL</td><td>NULL</td><td>NULL</td><td>unknown</td><td>NULL</td><td>unknown</td><td>unknown</td><td>NULL</td><td>NULL</td><td>NULL</td><td>en:to-be-complete...</td><td>en:to-be-complete...</td><td>To be completed,N...</td><td>NULL</td><td>NULL</td><td>unknown</td><td>NULL</td><td>NULL</td><td>NULL</td><td>NULL</td><td>NULL</td><td>NULL</td><td>0.375</td><td>1649449255</td><td>2022-04-08 22:20:55</td><td>NULL</td><td>NULL</td><td>https://images.op...</td><td>https://images.op...</td><td>NULL</td><td>NULL</td><td>https://images.op...</td><td>https://images.op...</td><td>NULL</td><td>194.0</td><td>812.0</td><td>NULL</td><td>11.0</td><td>3.9</td><td>NULL</td><td>NULL</td><td>NULL</td><td>NULL</td><td>NULL</td><td>NULL</td><td>NULL</td><td>NULL</td><td>NULL</td><td>NULL</td><td>NULL</td><td>NULL</td><td>NULL</td><td>NULL</td><td>NULL</td><td>NULL</td><td>NULL</td><td>NULL</td><td>NULL</td><td>NULL</td><td>NULL</td><td>NULL</td><td>NULL</td><td>NULL</td><td>NULL</td><td>NULL</td><td>NULL</td><td>NULL</td><td>NULL</td><td>NULL</td><td>NULL</td><td>NULL</td><td>NULL</td><td>NULL</td><td>NULL</td><td>5.7</td><td>0.05</td><td>NULL</td><td>NULL</td><td>NULL</td><td>NULL</td><td>NULL</td><td>NULL</td><td>NULL</td><td>NULL</td><td>NULL</td><td>NULL</td><td>NULL</td><td>NULL</td><td>NULL</td><td>18.0</td><td>NULL</td><td>NULL</td><td>NULL</td><td>NULL</td><td>NULL</td><td>NULL</td><td>NULL</td><td>NULL</td><td>NULL</td><td>NULL</td><td>NULL</td><td>NULL</td><td>NULL</td><td>NULL</td><td>NULL</td><td>NULL</td><td>NULL</td><td>NULL</td><td>NULL</td><td>NULL</td><td>NULL</td><td>NULL</td><td>NULL</td><td>NULL</td><td>NULL</td><td>NULL</td><td>NULL</td><td>NULL</td><td>NULL</td><td>NULL</td><td>NULL</td><td>NULL</td><td>NULL</td><td>NULL</td><td>NULL</td><td>NULL</td><td>NULL</td><td>NULL</td><td>NULL</td><td>NULL</td><td>NULL</td><td>NULL</td><td>NULL</td><td>NULL</td><td>NULL</td><td>NULL</td><td>NULL</td><td>NULL</td><td>NULL</td><td>NULL</td><td>NULL</td><td>NULL</td><td>NULL</td><td>NULL</td><td>NULL</td><td>NULL</td><td>NULL</td><td>NULL</td><td>NULL</td><td>NULL</td><td>NULL</td><td>NULL</td></tr>\n",
       "<tr><td>4622327.0</td><td>http://world-en.o...</td><td>kiliweb</td><td>1619501895</td><td>2021-04-27 07:38:15</td><td>1682719936</td><td>2023-04-29 00:12:16</td><td>roboto-app</td><td>1707834288</td><td>2024-02-13 15:24:48</td><td>Hamburguesas de t...</td><td>NULL</td><td>NULL</td><td>NULL</td><td>NULL</td><td>NULL</td><td>NULL</td><td>NULL</td><td>NULL</td><td>NULL</td><td>NULL</td><td>NULL</td><td>NULL</td><td>NULL</td><td>NULL</td><td>NULL</td><td>NULL</td><td>NULL</td><td>NULL</td><td>NULL</td><td>NULL</td><td>NULL</td><td>NULL</td><td>NULL</td><td>NULL</td><td>NULL</td><td>NULL</td><td>NULL</td><td>en:es</td><td>en:spain</td><td>Spain</td><td>NULL</td><td>NULL</td><td>NULL</td><td>NULL</td><td>NULL</td><td>NULL</td><td>NULL</td><td>NULL</td><td>NULL</td><td>NULL</td><td>NULL</td><td>NULL</td><td>NULL</td><td>NULL</td><td>NULL</td><td>NULL</td><td>unknown</td><td>NULL</td><td>unknown</td><td>unknown</td><td>NULL</td><td>NULL</td><td>NULL</td><td>en:to-be-complete...</td><td>en:to-be-complete...</td><td>To be completed,N...</td><td>NULL</td><td>NULL</td><td>unknown</td><td>NULL</td><td>NULL</td><td>NULL</td><td>en:energy-value-i...</td><td>NULL</td><td>NULL</td><td>0.375</td><td>1619501896</td><td>2021-04-27 07:38:16</td><td>NULL</td><td>NULL</td><td>https://images.op...</td><td>https://images.op...</td><td>NULL</td><td>NULL</td><td>https://images.op...</td><td>https://images.op...</td><td>NULL</td><td>874.9</td><td>3661.0</td><td>NULL</td><td>15.1</td><td>6.1</td><td>NULL</td><td>NULL</td><td>NULL</td><td>NULL</td><td>NULL</td><td>NULL</td><td>NULL</td><td>NULL</td><td>NULL</td><td>NULL</td><td>NULL</td><td>NULL</td><td>NULL</td><td>NULL</td><td>NULL</td><td>NULL</td><td>NULL</td><td>NULL</td><td>NULL</td><td>NULL</td><td>NULL</td><td>NULL</td><td>NULL</td><td>NULL</td><td>NULL</td><td>NULL</td><td>NULL</td><td>NULL</td><td>NULL</td><td>NULL</td><td>NULL</td><td>NULL</td><td>NULL</td><td>NULL</td><td>NULL</td><td>2.6</td><td>1.0</td><td>NULL</td><td>NULL</td><td>NULL</td><td>NULL</td><td>NULL</td><td>NULL</td><td>NULL</td><td>NULL</td><td>NULL</td><td>NULL</td><td>NULL</td><td>NULL</td><td>NULL</td><td>15.7</td><td>NULL</td><td>NULL</td><td>NULL</td><td>2.1</td><td>NULL</td><td>0.84</td><td>NULL</td><td>NULL</td><td>NULL</td><td>NULL</td><td>NULL</td><td>NULL</td><td>NULL</td><td>NULL</td><td>NULL</td><td>NULL</td><td>NULL</td><td>NULL</td><td>NULL</td><td>NULL</td><td>NULL</td><td>NULL</td><td>NULL</td><td>NULL</td><td>NULL</td><td>NULL</td><td>NULL</td><td>NULL</td><td>NULL</td><td>NULL</td><td>NULL</td><td>NULL</td><td>NULL</td><td>NULL</td><td>NULL</td><td>NULL</td><td>NULL</td><td>NULL</td><td>NULL</td><td>NULL</td><td>NULL</td><td>NULL</td><td>NULL</td><td>NULL</td><td>NULL</td><td>NULL</td><td>NULL</td><td>NULL</td><td>NULL</td><td>NULL</td><td>NULL</td><td>NULL</td><td>NULL</td><td>NULL</td><td>NULL</td><td>NULL</td><td>NULL</td><td>NULL</td><td>NULL</td><td>NULL</td><td>NULL</td><td>NULL</td></tr>\n",
       "<tr><td>6021.0</td><td>http://world-en.o...</td><td>kiliweb</td><td>1673478017</td><td>2023-01-12 00:00:17</td><td>1673478020</td><td>2023-01-12 00:00:20</td><td>kiliweb</td><td>1707874550</td><td>2024-02-14 02:35:50</td><td>Blueberry Cobbler...</td><td>NULL</td><td>NULL</td><td>NULL</td><td>NULL</td><td>NULL</td><td>NULL</td><td>NULL</td><td>NULL</td><td>NULL</td><td>NULL</td><td>NULL</td><td>NULL</td><td>NULL</td><td>NULL</td><td>NULL</td><td>NULL</td><td>NULL</td><td>NULL</td><td>NULL</td><td>NULL</td><td>NULL</td><td>NULL</td><td>NULL</td><td>NULL</td><td>NULL</td><td>NULL</td><td>NULL</td><td>en:us</td><td>en:united-states</td><td>United States</td><td>NULL</td><td>NULL</td><td>NULL</td><td>NULL</td><td>NULL</td><td>NULL</td><td>NULL</td><td>NULL</td><td>NULL</td><td>NULL</td><td>NULL</td><td>NULL</td><td>NULL</td><td>NULL</td><td>NULL</td><td>NULL</td><td>unknown</td><td>NULL</td><td>unknown</td><td>unknown</td><td>NULL</td><td>NULL</td><td>NULL</td><td>en:to-be-complete...</td><td>en:to-be-complete...</td><td>To be completed,N...</td><td>NULL</td><td>NULL</td><td>unknown</td><td>NULL</td><td>NULL</td><td>NULL</td><td>NULL</td><td>NULL</td><td>NULL</td><td>0.275</td><td>1673478020</td><td>2023-01-12 00:00:20</td><td>NULL</td><td>NULL</td><td>https://images.op...</td><td>https://images.op...</td><td>NULL</td><td>NULL</td><td>https://images.op...</td><td>https://images.op...</td><td>NULL</td><td>0.0</td><td>0.0</td><td>NULL</td><td>0.0</td><td>0.0</td><td>NULL</td><td>NULL</td><td>NULL</td><td>NULL</td><td>NULL</td><td>NULL</td><td>NULL</td><td>NULL</td><td>NULL</td><td>NULL</td><td>NULL</td><td>NULL</td><td>NULL</td><td>NULL</td><td>NULL</td><td>NULL</td><td>NULL</td><td>NULL</td><td>NULL</td><td>NULL</td><td>NULL</td><td>NULL</td><td>NULL</td><td>NULL</td><td>NULL</td><td>NULL</td><td>NULL</td><td>NULL</td><td>NULL</td><td>NULL</td><td>NULL</td><td>NULL</td><td>NULL</td><td>NULL</td><td>NULL</td><td>0.0</td><td>0.0</td><td>NULL</td><td>NULL</td><td>NULL</td><td>NULL</td><td>NULL</td><td>NULL</td><td>NULL</td><td>NULL</td><td>NULL</td><td>NULL</td><td>0.0</td><td>NULL</td><td>NULL</td><td>0.0</td><td>NULL</td><td>NULL</td><td>NULL</td><td>0.0</td><td>NULL</td><td>0.0</td><td>NULL</td><td>NULL</td><td>NULL</td><td>NULL</td><td>NULL</td><td>NULL</td><td>NULL</td><td>NULL</td><td>NULL</td><td>NULL</td><td>NULL</td><td>NULL</td><td>NULL</td><td>NULL</td><td>NULL</td><td>NULL</td><td>NULL</td><td>NULL</td><td>NULL</td><td>NULL</td><td>NULL</td><td>NULL</td><td>NULL</td><td>NULL</td><td>NULL</td><td>NULL</td><td>NULL</td><td>NULL</td><td>NULL</td><td>NULL</td><td>NULL</td><td>NULL</td><td>NULL</td><td>NULL</td><td>NULL</td><td>NULL</td><td>NULL</td><td>NULL</td><td>NULL</td><td>NULL</td><td>NULL</td><td>NULL</td><td>NULL</td><td>NULL</td><td>NULL</td><td>NULL</td><td>NULL</td><td>NULL</td><td>NULL</td><td>NULL</td><td>NULL</td><td>NULL</td><td>NULL</td><td>NULL</td><td>NULL</td><td>NULL</td></tr>\n",
       "<tr><td>1.0</td><td>http://world-en.o...</td><td>inf</td><td>1634745456</td><td>2021-10-20 17:57:36</td><td>1634745530</td><td>2021-10-20 17:58:50</td><td>inf</td><td>1707846674</td><td>2024-02-13 18:51:14</td><td>hyde icon</td><td>NULL</td><td>NULL</td><td>NULL</td><td>NULL</td><td>NULL</td><td>NULL</td><td>NULL</td><td>NULL</td><td>NULL</td><td>NULL</td><td>NULL</td><td>NULL</td><td>NULL</td><td>NULL</td><td>NULL</td><td>NULL</td><td>NULL</td><td>NULL</td><td>NULL</td><td>NULL</td><td>NULL</td><td>NULL</td><td>NULL</td><td>NULL</td><td>NULL</td><td>NULL</td><td>NULL</td><td>en:United States</td><td>en:united-states</td><td>United States</td><td>beta alanine, cre...</td><td>en:beta-alanine,e...</td><td>en:palm-oil-conte...</td><td>NULL</td><td>NULL</td><td>NULL</td><td>NULL</td><td>NULL</td><td>NULL</td><td>NULL</td><td>NULL</td><td>5</td><td>NULL</td><td>en:e296,en:e330,e...</td><td>E296 - Malic acid...</td><td>NULL</td><td>unknown</td><td>4</td><td>unknown</td><td>unknown</td><td>NULL</td><td>NULL</td><td>NULL</td><td>en:to-be-complete...</td><td>en:to-be-complete...</td><td>To be completed,N...</td><td>NULL</td><td>NULL</td><td>unknown</td><td>NULL</td><td>NULL</td><td>NULL</td><td>NULL</td><td>NULL</td><td>NULL</td><td>0.3</td><td>NULL</td><td>NULL</td><td>NULL</td><td>NULL</td><td>NULL</td><td>NULL</td><td>NULL</td><td>NULL</td><td>NULL</td><td>NULL</td><td>NULL</td><td>NULL</td><td>NULL</td><td>NULL</td><td>NULL</td><td>NULL</td><td>NULL</td><td>NULL</td><td>NULL</td><td>NULL</td><td>NULL</td><td>NULL</td><td>NULL</td><td>NULL</td><td>NULL</td><td>NULL</td><td>NULL</td><td>NULL</td><td>NULL</td><td>NULL</td><td>NULL</td><td>NULL</td><td>NULL</td><td>NULL</td><td>NULL</td><td>NULL</td><td>NULL</td><td>NULL</td><td>NULL</td><td>NULL</td><td>NULL</td><td>NULL</td><td>NULL</td><td>NULL</td><td>NULL</td><td>NULL</td><td>NULL</td><td>NULL</td><td>NULL</td><td>NULL</td><td>NULL</td><td>NULL</td><td>NULL</td><td>NULL</td><td>NULL</td><td>NULL</td><td>NULL</td><td>NULL</td><td>NULL</td><td>NULL</td><td>NULL</td><td>NULL</td><td>NULL</td><td>NULL</td><td>NULL</td><td>NULL</td><td>NULL</td><td>NULL</td><td>NULL</td><td>NULL</td><td>NULL</td><td>NULL</td><td>NULL</td><td>NULL</td><td>NULL</td><td>NULL</td><td>NULL</td><td>NULL</td><td>NULL</td><td>NULL</td><td>NULL</td><td>NULL</td><td>NULL</td><td>NULL</td><td>NULL</td><td>NULL</td><td>NULL</td><td>NULL</td><td>NULL</td><td>NULL</td><td>NULL</td><td>NULL</td><td>NULL</td><td>NULL</td><td>NULL</td><td>NULL</td><td>NULL</td><td>NULL</td><td>NULL</td><td>NULL</td><td>NULL</td><td>NULL</td><td>NULL</td><td>NULL</td><td>NULL</td><td>NULL</td><td>NULL</td><td>NULL</td><td>NULL</td><td>NULL</td><td>NULL</td><td>0.0266075134277344</td><td>NULL</td><td>NULL</td><td>NULL</td><td>NULL</td><td>NULL</td><td>NULL</td><td>NULL</td><td>NULL</td><td>NULL</td><td>NULL</td><td>NULL</td><td>NULL</td><td>NULL</td><td>NULL</td><td>NULL</td><td>NULL</td><td>NULL</td></tr>\n",
       "<tr><td>100.0</td><td>http://world-en.o...</td><td>del51</td><td>1444572561</td><td>2015-10-11 16:09:21</td><td>1444659212</td><td>2015-10-12 16:13:32</td><td>del51</td><td>1707490057</td><td>2024-02-09 15:47:37</td><td> moutarde au mo&ucirc;t...</td><td>NULL</td><td>NULL</td><td>100g</td><td>NULL</td><td>NULL</td><td>NULL</td><td>NULL</td><td>courte paille</td><td>courte-paille</td><td>Condiments, Sauce...</td><td>en:condiments,en:...</td><td>Condiments,Sauces...</td><td>NULL</td><td>NULL</td><td>NULL</td><td>NULL</td><td>NULL</td><td>Delois france</td><td>fr:delois-france</td><td>fr:delois-france</td><td>NULL</td><td>NULL</td><td>NULL</td><td>NULL</td><td>NULL</td><td>NULL</td><td>courte paille</td><td>France</td><td>en:france</td><td>France</td><td>eau graines de t&eacute;...</td><td>fr:eau-graines-de...</td><td>en:palm-oil-conte...</td><td>en:mustard</td><td>NULL</td><td>NULL</td><td>NULL</td><td>NULL</td><td>NULL</td><td>NULL</td><td>NULL</td><td>0</td><td>NULL</td><td>NULL</td><td>NULL</td><td>18</td><td>d</td><td>NULL</td><td>Fat and sauces</td><td>Dressings and sauces</td><td>en:dressings-and-...</td><td>en:fats-and-sauce...</td><td>Fats and sauces,D...</td><td>en:to-be-complete...</td><td>en:to-be-complete...</td><td>To be completed,N...</td><td>NULL</td><td>54.0</td><td>c</td><td>en:fat-in-moderat...</td><td>100.0</td><td>NULL</td><td>NULL</td><td>NULL</td><td>NULL</td><td>0.7625</td><td>1444572697</td><td>2015-10-11 16:11:37</td><td>en:groceries</td><td>Groceries</td><td>https://images.op...</td><td>https://images.op...</td><td>NULL</td><td>NULL</td><td>NULL</td><td>NULL</td><td>936.0</td><td>NULL</td><td>936.0</td><td>NULL</td><td>8.2</td><td>2.2</td><td>NULL</td><td>NULL</td><td>NULL</td><td>NULL</td><td>NULL</td><td>NULL</td><td>NULL</td><td>NULL</td><td>NULL</td><td>NULL</td><td>NULL</td><td>NULL</td><td>NULL</td><td>NULL</td><td>NULL</td><td>NULL</td><td>NULL</td><td>NULL</td><td>NULL</td><td>NULL</td><td>NULL</td><td>NULL</td><td>NULL</td><td>NULL</td><td>NULL</td><td>NULL</td><td>NULL</td><td>NULL</td><td>NULL</td><td>NULL</td><td>NULL</td><td>NULL</td><td>NULL</td><td>NULL</td><td>NULL</td><td>29.0</td><td>22.0</td><td>NULL</td><td>NULL</td><td>NULL</td><td>NULL</td><td>NULL</td><td>NULL</td><td>NULL</td><td>NULL</td><td>NULL</td><td>NULL</td><td>0.0</td><td>NULL</td><td>NULL</td><td>5.1</td><td>NULL</td><td>NULL</td><td>NULL</td><td>4.6</td><td>NULL</td><td>1.84</td><td>NULL</td><td>NULL</td><td>NULL</td><td>NULL</td><td>NULL</td><td>NULL</td><td>NULL</td><td>NULL</td><td>NULL</td><td>NULL</td><td>NULL</td><td>NULL</td><td>NULL</td><td>NULL</td><td>NULL</td><td>NULL</td><td>NULL</td><td>NULL</td><td>NULL</td><td>NULL</td><td>NULL</td><td>NULL</td><td>NULL</td><td>NULL</td><td>NULL</td><td>NULL</td><td>NULL</td><td>NULL</td><td>NULL</td><td>NULL</td><td>NULL</td><td>NULL</td><td>NULL</td><td>NULL</td><td>NULL</td><td>NULL</td><td>NULL</td><td>NULL</td><td>0.0</td><td>NULL</td><td>NULL</td><td>NULL</td><td>NULL</td><td>NULL</td><td>18</td><td>NULL</td><td>NULL</td><td>NULL</td><td>NULL</td><td>NULL</td><td>NULL</td><td>NULL</td><td>NULL</td><td>NULL</td><td>NULL</td><td>NULL</td></tr>\n",
       "<tr><td>123.0</td><td>http://world-en.o...</td><td>kiliweb</td><td>1535737982</td><td>2018-08-31 19:53:02</td><td>1535737986</td><td>2018-08-31 19:53:06</td><td>NULL</td><td>1707490057</td><td>2024-02-09 15:47:37</td><td>Sauce Sweety chil...</td><td>NULL</td><td>NULL</td><td>NULL</td><td>NULL</td><td>NULL</td><td>NULL</td><td>NULL</td><td>NULL</td><td>NULL</td><td>NULL</td><td>NULL</td><td>NULL</td><td>NULL</td><td>NULL</td><td>NULL</td><td>NULL</td><td>NULL</td><td>NULL</td><td>NULL</td><td>NULL</td><td>NULL</td><td>NULL</td><td>NULL</td><td>NULL</td><td>NULL</td><td>NULL</td><td>NULL</td><td>France</td><td>en:france</td><td>France</td><td>NULL</td><td>NULL</td><td>NULL</td><td>NULL</td><td>NULL</td><td>NULL</td><td>NULL</td><td>NULL</td><td>NULL</td><td>NULL</td><td>NULL</td><td>NULL</td><td>NULL</td><td>NULL</td><td>NULL</td><td>NULL</td><td>unknown</td><td>NULL</td><td>unknown</td><td>unknown</td><td>NULL</td><td>NULL</td><td>NULL</td><td>en:to-be-complete...</td><td>en:to-be-complete...</td><td>To be completed,N...</td><td>NULL</td><td>NULL</td><td>unknown</td><td>NULL</td><td>NULL</td><td>NULL</td><td>NULL</td><td>1</td><td>top-75-percent-sc...</td><td>0.275</td><td>1535737985</td><td>2018-08-31 19:53:05</td><td>NULL</td><td>NULL</td><td>https://images.op...</td><td>https://images.op...</td><td>https://images.op...</td><td>https://images.op...</td><td>NULL</td><td>NULL</td><td>NULL</td><td>21.0</td><td>88.0</td><td>NULL</td><td>0.0</td><td>0.0</td><td>NULL</td><td>NULL</td><td>NULL</td><td>NULL</td><td>NULL</td><td>NULL</td><td>NULL</td><td>NULL</td><td>NULL</td><td>NULL</td><td>NULL</td><td>NULL</td><td>NULL</td><td>NULL</td><td>NULL</td><td>NULL</td><td>NULL</td><td>NULL</td><td>NULL</td><td>NULL</td><td>NULL</td><td>NULL</td><td>NULL</td><td>NULL</td><td>NULL</td><td>NULL</td><td>NULL</td><td>NULL</td><td>NULL</td><td>NULL</td><td>NULL</td><td>NULL</td><td>NULL</td><td>NULL</td><td>NULL</td><td>4.8</td><td>0.4</td><td>NULL</td><td>NULL</td><td>NULL</td><td>NULL</td><td>NULL</td><td>NULL</td><td>NULL</td><td>NULL</td><td>NULL</td><td>NULL</td><td>NULL</td><td>NULL</td><td>NULL</td><td>0.2</td><td>NULL</td><td>NULL</td><td>NULL</td><td>2.04</td><td>NULL</td><td>0.816</td><td>NULL</td><td>NULL</td><td>NULL</td><td>NULL</td><td>NULL</td><td>NULL</td><td>NULL</td><td>NULL</td><td>NULL</td><td>NULL</td><td>NULL</td><td>NULL</td><td>NULL</td><td>NULL</td><td>NULL</td><td>NULL</td><td>NULL</td><td>NULL</td><td>NULL</td><td>NULL</td><td>NULL</td><td>NULL</td><td>NULL</td><td>NULL</td><td>NULL</td><td>NULL</td><td>NULL</td><td>NULL</td><td>NULL</td><td>NULL</td><td>NULL</td><td>NULL</td><td>NULL</td><td>NULL</td><td>NULL</td><td>NULL</td><td>NULL</td><td>NULL</td><td>NULL</td><td>NULL</td><td>NULL</td><td>NULL</td><td>NULL</td><td>NULL</td><td>NULL</td><td>NULL</td><td>NULL</td><td>NULL</td><td>NULL</td><td>NULL</td><td>NULL</td><td>NULL</td><td>NULL</td><td>NULL</td><td>NULL</td><td>NULL</td></tr>\n",
       "<tr><td>178.0</td><td>http://world-en.o...</td><td>kiliweb</td><td>1542456332</td><td>2018-11-17 13:05:32</td><td>1542456333</td><td>2018-11-17 13:05:33</td><td>NULL</td><td>1707606731</td><td>2024-02-11 00:12:11</td><td>Mini coco</td><td>NULL</td><td>NULL</td><td>NULL</td><td>NULL</td><td>NULL</td><td>NULL</td><td>NULL</td><td>NULL</td><td>NULL</td><td>NULL</td><td>NULL</td><td>NULL</td><td>NULL</td><td>NULL</td><td>NULL</td><td>NULL</td><td>NULL</td><td>NULL</td><td>NULL</td><td>NULL</td><td>NULL</td><td>NULL</td><td>NULL</td><td>NULL</td><td>NULL</td><td>NULL</td><td>NULL</td><td>France</td><td>en:france</td><td>France</td><td>NULL</td><td>NULL</td><td>NULL</td><td>NULL</td><td>NULL</td><td>NULL</td><td>NULL</td><td>NULL</td><td>NULL</td><td>NULL</td><td>NULL</td><td>NULL</td><td>NULL</td><td>NULL</td><td>NULL</td><td>NULL</td><td>unknown</td><td>NULL</td><td>unknown</td><td>unknown</td><td>NULL</td><td>NULL</td><td>NULL</td><td>en:to-be-complete...</td><td>en:to-be-complete...</td><td>To be completed,N...</td><td>NULL</td><td>NULL</td><td>unknown</td><td>NULL</td><td>NULL</td><td>NULL</td><td>NULL</td><td>1</td><td>bottom-25-percent...</td><td>0.275</td><td>1542456333</td><td>2018-11-17 13:05:33</td><td>NULL</td><td>NULL</td><td>https://images.op...</td><td>https://images.op...</td><td>https://images.op...</td><td>https://images.op...</td><td>NULL</td><td>NULL</td><td>NULL</td><td>60.0</td><td>251.0</td><td>NULL</td><td>3.0</td><td>1.0</td><td>NULL</td><td>NULL</td><td>NULL</td><td>NULL</td><td>NULL</td><td>NULL</td><td>NULL</td><td>NULL</td><td>NULL</td><td>NULL</td><td>NULL</td><td>NULL</td><td>NULL</td><td>NULL</td><td>NULL</td><td>NULL</td><td>NULL</td><td>NULL</td><td>NULL</td><td>NULL</td><td>NULL</td><td>NULL</td><td>NULL</td><td>NULL</td><td>NULL</td><td>NULL</td><td>NULL</td><td>NULL</td><td>NULL</td><td>NULL</td><td>NULL</td><td>NULL</td><td>NULL</td><td>NULL</td><td>NULL</td><td>10.0</td><td>3.0</td><td>NULL</td><td>NULL</td><td>NULL</td><td>NULL</td><td>NULL</td><td>NULL</td><td>NULL</td><td>NULL</td><td>NULL</td><td>NULL</td><td>NULL</td><td>NULL</td><td>NULL</td><td>2.0</td><td>NULL</td><td>NULL</td><td>NULL</td><td>1.15</td><td>NULL</td><td>0.46</td><td>NULL</td><td>NULL</td><td>NULL</td><td>NULL</td><td>NULL</td><td>NULL</td><td>NULL</td><td>NULL</td><td>NULL</td><td>NULL</td><td>NULL</td><td>NULL</td><td>NULL</td><td>NULL</td><td>NULL</td><td>NULL</td><td>NULL</td><td>NULL</td><td>NULL</td><td>NULL</td><td>NULL</td><td>NULL</td><td>NULL</td><td>NULL</td><td>NULL</td><td>NULL</td><td>NULL</td><td>NULL</td><td>NULL</td><td>NULL</td><td>NULL</td><td>NULL</td><td>NULL</td><td>NULL</td><td>NULL</td><td>NULL</td><td>NULL</td><td>NULL</td><td>NULL</td><td>NULL</td><td>NULL</td><td>NULL</td><td>NULL</td><td>NULL</td><td>NULL</td><td>NULL</td><td>NULL</td><td>NULL</td><td>NULL</td><td>NULL</td><td>NULL</td><td>NULL</td><td>NULL</td><td>NULL</td><td>NULL</td><td>NULL</td></tr>\n",
       "<tr><td>208.0</td><td>http://world-en.o...</td><td>kiliweb</td><td>1544207680</td><td>2018-12-07 19:34:40</td><td>1544207683</td><td>2018-12-07 19:34:43</td><td>NULL</td><td>1707608166</td><td>2024-02-11 00:36:06</td><td>Pistou d'ail des ...</td><td>NULL</td><td>NULL</td><td>NULL</td><td>NULL</td><td>NULL</td><td>NULL</td><td>NULL</td><td>NULL</td><td>NULL</td><td>NULL</td><td>NULL</td><td>NULL</td><td>NULL</td><td>NULL</td><td>NULL</td><td>NULL</td><td>NULL</td><td>NULL</td><td>NULL</td><td>NULL</td><td>NULL</td><td>NULL</td><td>NULL</td><td>NULL</td><td>NULL</td><td>NULL</td><td>NULL</td><td>France</td><td>en:france</td><td>France</td><td>NULL</td><td>NULL</td><td>NULL</td><td>NULL</td><td>NULL</td><td>NULL</td><td>NULL</td><td>NULL</td><td>NULL</td><td>NULL</td><td>NULL</td><td>NULL</td><td>NULL</td><td>NULL</td><td>NULL</td><td>NULL</td><td>unknown</td><td>NULL</td><td>unknown</td><td>unknown</td><td>NULL</td><td>NULL</td><td>NULL</td><td>en:to-be-complete...</td><td>en:to-be-complete...</td><td>To be completed,N...</td><td>NULL</td><td>NULL</td><td>unknown</td><td>NULL</td><td>NULL</td><td>NULL</td><td>NULL</td><td>1</td><td>bottom-25-percent...</td><td>0.175</td><td>1544207682</td><td>2018-12-07 19:34:42</td><td>NULL</td><td>NULL</td><td>https://images.op...</td><td>https://images.op...</td><td>https://images.op...</td><td>https://images.op...</td><td>NULL</td><td>NULL</td><td>NULL</td><td>NULL</td><td>NULL</td><td>NULL</td><td>NULL</td><td>NULL</td><td>NULL</td><td>NULL</td><td>NULL</td><td>NULL</td><td>NULL</td><td>NULL</td><td>NULL</td><td>NULL</td><td>NULL</td><td>NULL</td><td>NULL</td><td>NULL</td><td>NULL</td><td>NULL</td><td>NULL</td><td>NULL</td><td>NULL</td><td>NULL</td><td>NULL</td><td>NULL</td><td>NULL</td><td>NULL</td><td>NULL</td><td>NULL</td><td>NULL</td><td>NULL</td><td>NULL</td><td>NULL</td><td>NULL</td><td>NULL</td><td>NULL</td><td>NULL</td><td>NULL</td><td>NULL</td><td>NULL</td><td>NULL</td><td>NULL</td><td>NULL</td><td>NULL</td><td>NULL</td><td>NULL</td><td>NULL</td><td>NULL</td><td>NULL</td><td>NULL</td><td>NULL</td><td>NULL</td><td>NULL</td><td>NULL</td><td>NULL</td><td>NULL</td><td>NULL</td><td>NULL</td><td>NULL</td><td>NULL</td><td>NULL</td><td>NULL</td><td>NULL</td><td>NULL</td><td>NULL</td><td>NULL</td><td>NULL</td><td>NULL</td><td>NULL</td><td>NULL</td><td>NULL</td><td>NULL</td><td>NULL</td><td>NULL</td><td>NULL</td><td>NULL</td><td>NULL</td><td>NULL</td><td>NULL</td><td>NULL</td><td>NULL</td><td>NULL</td><td>NULL</td><td>NULL</td><td>NULL</td><td>NULL</td><td>NULL</td><td>NULL</td><td>NULL</td><td>NULL</td><td>NULL</td><td>NULL</td><td>NULL</td><td>NULL</td><td>NULL</td><td>NULL</td><td>NULL</td><td>NULL</td><td>NULL</td><td>NULL</td><td>NULL</td><td>NULL</td><td>NULL</td><td>NULL</td><td>NULL</td><td>NULL</td><td>NULL</td><td>NULL</td><td>NULL</td><td>NULL</td><td>NULL</td><td>NULL</td><td>NULL</td><td>NULL</td><td>NULL</td><td>NULL</td><td>NULL</td><td>NULL</td></tr>\n",
       "<tr><td>25.0</td><td>http://world-en.o...</td><td>kiliweb</td><td>1689444820</td><td>2023-07-15 20:13:40</td><td>1689444824</td><td>2023-07-15 20:13:44</td><td>kiliweb</td><td>1707737169</td><td>2024-02-12 12:26:09</td><td>Th&eacute; noir glac&eacute; pomme</td><td>NULL</td><td>NULL</td><td>NULL</td><td>NULL</td><td>NULL</td><td>NULL</td><td>NULL</td><td>NULL</td><td>NULL</td><td>NULL</td><td>NULL</td><td>NULL</td><td>NULL</td><td>NULL</td><td>NULL</td><td>NULL</td><td>NULL</td><td>NULL</td><td>NULL</td><td>NULL</td><td>NULL</td><td>NULL</td><td>NULL</td><td>NULL</td><td>NULL</td><td>NULL</td><td>NULL</td><td>en:fr</td><td>en:france</td><td>France</td><td>NULL</td><td>NULL</td><td>NULL</td><td>NULL</td><td>NULL</td><td>NULL</td><td>NULL</td><td>NULL</td><td>NULL</td><td>NULL</td><td>NULL</td><td>NULL</td><td>NULL</td><td>NULL</td><td>NULL</td><td>NULL</td><td>unknown</td><td>NULL</td><td>unknown</td><td>unknown</td><td>NULL</td><td>NULL</td><td>NULL</td><td>en:to-be-complete...</td><td>en:to-be-complete...</td><td>To be completed,N...</td><td>NULL</td><td>NULL</td><td>unknown</td><td>NULL</td><td>NULL</td><td>NULL</td><td>NULL</td><td>NULL</td><td>NULL</td><td>0.275</td><td>1689444824</td><td>2023-07-15 20:13:44</td><td>NULL</td><td>NULL</td><td>https://images.op...</td><td>https://images.op...</td><td>NULL</td><td>NULL</td><td>https://images.op...</td><td>https://images.op...</td><td>NULL</td><td>52.0</td><td>218.0</td><td>NULL</td><td>0.5</td><td>0.1</td><td>NULL</td><td>NULL</td><td>NULL</td><td>NULL</td><td>NULL</td><td>NULL</td><td>NULL</td><td>NULL</td><td>NULL</td><td>NULL</td><td>NULL</td><td>NULL</td><td>NULL</td><td>NULL</td><td>NULL</td><td>NULL</td><td>NULL</td><td>NULL</td><td>NULL</td><td>NULL</td><td>NULL</td><td>NULL</td><td>NULL</td><td>NULL</td><td>NULL</td><td>NULL</td><td>NULL</td><td>NULL</td><td>NULL</td><td>NULL</td><td>NULL</td><td>NULL</td><td>NULL</td><td>NULL</td><td>NULL</td><td>12.0</td><td>11.0</td><td>NULL</td><td>NULL</td><td>NULL</td><td>NULL</td><td>NULL</td><td>NULL</td><td>NULL</td><td>NULL</td><td>NULL</td><td>NULL</td><td>NULL</td><td>NULL</td><td>NULL</td><td>0.5</td><td>NULL</td><td>NULL</td><td>NULL</td><td>NULL</td><td>NULL</td><td>NULL</td><td>NULL</td><td>NULL</td><td>NULL</td><td>NULL</td><td>NULL</td><td>NULL</td><td>NULL</td><td>NULL</td><td>NULL</td><td>NULL</td><td>NULL</td><td>NULL</td><td>NULL</td><td>NULL</td><td>NULL</td><td>NULL</td><td>NULL</td><td>NULL</td><td>NULL</td><td>NULL</td><td>NULL</td><td>NULL</td><td>NULL</td><td>NULL</td><td>NULL</td><td>NULL</td><td>NULL</td><td>NULL</td><td>NULL</td><td>NULL</td><td>NULL</td><td>NULL</td><td>NULL</td><td>NULL</td><td>NULL</td><td>NULL</td><td>NULL</td><td>NULL</td><td>NULL</td><td>NULL</td><td>NULL</td><td>NULL</td><td>NULL</td><td>NULL</td><td>NULL</td><td>NULL</td><td>NULL</td><td>NULL</td><td>NULL</td><td>NULL</td><td>NULL</td><td>NULL</td><td>NULL</td><td>NULL</td><td>NULL</td><td>NULL</td></tr>\n",
       "<tr><td>284.0</td><td>http://world-en.o...</td><td>kiliweb</td><td>1547120245</td><td>2019-01-10 12:37:25</td><td>1563551052</td><td>2019-07-19 17:44:12</td><td>NULL</td><td>1707610257</td><td>2024-02-11 01:10:57</td><td>Pain ma&iuml;s</td><td>NULL</td><td>NULL</td><td>NULL</td><td>NULL</td><td>NULL</td><td>NULL</td><td>NULL</td><td>NULL</td><td>NULL</td><td>NULL</td><td>NULL</td><td>NULL</td><td>NULL</td><td>NULL</td><td>NULL</td><td>NULL</td><td>NULL</td><td>NULL</td><td>NULL</td><td>NULL</td><td>NULL</td><td>NULL</td><td>NULL</td><td>NULL</td><td>NULL</td><td>NULL</td><td>NULL</td><td>en:france</td><td>en:france</td><td>France</td><td>NULL</td><td>NULL</td><td>NULL</td><td>NULL</td><td>NULL</td><td>NULL</td><td>NULL</td><td>NULL</td><td>NULL</td><td>NULL</td><td>NULL</td><td>NULL</td><td>NULL</td><td>NULL</td><td>NULL</td><td>NULL</td><td>unknown</td><td>NULL</td><td>unknown</td><td>unknown</td><td>NULL</td><td>NULL</td><td>NULL</td><td>en:to-be-complete...</td><td>en:to-be-complete...</td><td>To be completed,N...</td><td>NULL</td><td>NULL</td><td>unknown</td><td>NULL</td><td>NULL</td><td>NULL</td><td>NULL</td><td>2</td><td>top-75-percent-sc...</td><td>0.175</td><td>1547120246</td><td>2019-01-10 12:37:26</td><td>NULL</td><td>NULL</td><td>https://images.op...</td><td>https://images.op...</td><td>https://images.op...</td><td>https://images.op...</td><td>NULL</td><td>NULL</td><td>NULL</td><td>NULL</td><td>NULL</td><td>NULL</td><td>NULL</td><td>NULL</td><td>NULL</td><td>NULL</td><td>NULL</td><td>NULL</td><td>NULL</td><td>NULL</td><td>NULL</td><td>NULL</td><td>NULL</td><td>NULL</td><td>NULL</td><td>NULL</td><td>NULL</td><td>NULL</td><td>NULL</td><td>NULL</td><td>NULL</td><td>NULL</td><td>NULL</td><td>NULL</td><td>NULL</td><td>NULL</td><td>NULL</td><td>NULL</td><td>NULL</td><td>NULL</td><td>NULL</td><td>NULL</td><td>NULL</td><td>NULL</td><td>NULL</td><td>NULL</td><td>NULL</td><td>NULL</td><td>NULL</td><td>NULL</td><td>NULL</td><td>NULL</td><td>NULL</td><td>NULL</td><td>NULL</td><td>NULL</td><td>NULL</td><td>NULL</td><td>NULL</td><td>NULL</td><td>NULL</td><td>NULL</td><td>NULL</td><td>NULL</td><td>NULL</td><td>NULL</td><td>NULL</td><td>NULL</td><td>NULL</td><td>NULL</td><td>NULL</td><td>NULL</td><td>NULL</td><td>NULL</td><td>NULL</td><td>NULL</td><td>NULL</td><td>NULL</td><td>NULL</td><td>NULL</td><td>NULL</td><td>NULL</td><td>NULL</td><td>NULL</td><td>NULL</td><td>NULL</td><td>NULL</td><td>NULL</td><td>NULL</td><td>NULL</td><td>NULL</td><td>NULL</td><td>NULL</td><td>NULL</td><td>NULL</td><td>NULL</td><td>NULL</td><td>NULL</td><td>NULL</td><td>NULL</td><td>NULL</td><td>NULL</td><td>NULL</td><td>NULL</td><td>NULL</td><td>NULL</td><td>NULL</td><td>NULL</td><td>NULL</td><td>NULL</td><td>NULL</td><td>NULL</td><td>NULL</td><td>NULL</td><td>NULL</td><td>NULL</td><td>NULL</td><td>NULL</td><td>NULL</td><td>NULL</td><td>NULL</td><td>NULL</td><td>NULL</td><td>NULL</td><td>NULL</td><td>NULL</td><td>NULL</td></tr>\n",
       "<tr><td>291.0</td><td>http://world-en.o...</td><td>kiliweb</td><td>1534239669</td><td>2018-08-14 11:41:09</td><td>1534239732</td><td>2018-08-14 11:42:12</td><td>kiliweb</td><td>1707490057</td><td>2024-02-09 15:47:37</td><td>Mendiants</td><td>NULL</td><td>NULL</td><td>NULL</td><td>NULL</td><td>NULL</td><td>NULL</td><td>NULL</td><td>NULL</td><td>NULL</td><td>NULL</td><td>NULL</td><td>NULL</td><td>NULL</td><td>NULL</td><td>NULL</td><td>NULL</td><td>NULL</td><td>NULL</td><td>NULL</td><td>NULL</td><td>NULL</td><td>NULL</td><td>NULL</td><td>NULL</td><td>NULL</td><td>NULL</td><td>NULL</td><td>France</td><td>en:france</td><td>France</td><td>NULL</td><td>NULL</td><td>NULL</td><td>NULL</td><td>NULL</td><td>NULL</td><td>NULL</td><td>NULL</td><td>NULL</td><td>NULL</td><td>NULL</td><td>NULL</td><td>NULL</td><td>NULL</td><td>NULL</td><td>NULL</td><td>unknown</td><td>NULL</td><td>unknown</td><td>unknown</td><td>NULL</td><td>NULL</td><td>NULL</td><td>en:to-be-complete...</td><td>en:to-be-complete...</td><td>To be completed,N...</td><td>NULL</td><td>NULL</td><td>unknown</td><td>NULL</td><td>NULL</td><td>NULL</td><td>NULL</td><td>NULL</td><td>NULL</td><td>0.175</td><td>1534239684</td><td>2018-08-14 11:41:24</td><td>NULL</td><td>NULL</td><td>https://images.op...</td><td>https://images.op...</td><td>https://images.op...</td><td>https://images.op...</td><td>NULL</td><td>NULL</td><td>NULL</td><td>NULL</td><td>NULL</td><td>NULL</td><td>NULL</td><td>NULL</td><td>NULL</td><td>NULL</td><td>NULL</td><td>NULL</td><td>NULL</td><td>NULL</td><td>NULL</td><td>NULL</td><td>NULL</td><td>NULL</td><td>NULL</td><td>NULL</td><td>NULL</td><td>NULL</td><td>NULL</td><td>NULL</td><td>NULL</td><td>NULL</td><td>NULL</td><td>NULL</td><td>NULL</td><td>NULL</td><td>NULL</td><td>NULL</td><td>NULL</td><td>NULL</td><td>NULL</td><td>NULL</td><td>NULL</td><td>NULL</td><td>NULL</td><td>NULL</td><td>NULL</td><td>NULL</td><td>NULL</td><td>NULL</td><td>NULL</td><td>NULL</td><td>NULL</td><td>NULL</td><td>NULL</td><td>NULL</td><td>NULL</td><td>NULL</td><td>NULL</td><td>NULL</td><td>NULL</td><td>NULL</td><td>NULL</td><td>NULL</td><td>NULL</td><td>NULL</td><td>NULL</td><td>NULL</td><td>NULL</td><td>NULL</td><td>NULL</td><td>NULL</td><td>NULL</td><td>NULL</td><td>NULL</td><td>NULL</td><td>NULL</td><td>NULL</td><td>NULL</td><td>NULL</td><td>NULL</td><td>NULL</td><td>NULL</td><td>NULL</td><td>NULL</td><td>NULL</td><td>NULL</td><td>NULL</td><td>NULL</td><td>NULL</td><td>NULL</td><td>NULL</td><td>NULL</td><td>NULL</td><td>NULL</td><td>NULL</td><td>NULL</td><td>NULL</td><td>NULL</td><td>NULL</td><td>NULL</td><td>NULL</td><td>NULL</td><td>NULL</td><td>NULL</td><td>NULL</td><td>NULL</td><td>NULL</td><td>NULL</td><td>NULL</td><td>NULL</td><td>NULL</td><td>NULL</td><td>NULL</td><td>NULL</td><td>NULL</td><td>NULL</td><td>NULL</td><td>NULL</td><td>NULL</td><td>NULL</td><td>NULL</td><td>NULL</td><td>NULL</td><td>NULL</td><td>NULL</td><td>NULL</td></tr>\n",
       "<tr><td>54.0</td><td>http://world-en.o...</td><td>kiliweb</td><td>1582569031</td><td>2020-02-24 19:30:31</td><td>1582569032</td><td>2020-02-24 19:30:32</td><td>kiliweb</td><td>1707644939</td><td>2024-02-11 10:48:59</td><td>Limonade artisana...</td><td>NULL</td><td>NULL</td><td>NULL</td><td>NULL</td><td>NULL</td><td>NULL</td><td>NULL</td><td>NULL</td><td>NULL</td><td>NULL</td><td>NULL</td><td>NULL</td><td>NULL</td><td>NULL</td><td>NULL</td><td>NULL</td><td>NULL</td><td>NULL</td><td>NULL</td><td>NULL</td><td>NULL</td><td>NULL</td><td>NULL</td><td>NULL</td><td>NULL</td><td>NULL</td><td>NULL</td><td>en:fr</td><td>en:france</td><td>France</td><td>NULL</td><td>NULL</td><td>NULL</td><td>NULL</td><td>NULL</td><td>NULL</td><td>NULL</td><td>NULL</td><td>NULL</td><td>NULL</td><td>NULL</td><td>NULL</td><td>NULL</td><td>NULL</td><td>NULL</td><td>NULL</td><td>unknown</td><td>NULL</td><td>unknown</td><td>unknown</td><td>NULL</td><td>NULL</td><td>NULL</td><td>en:to-be-complete...</td><td>en:to-be-complete...</td><td>To be completed,N...</td><td>NULL</td><td>NULL</td><td>unknown</td><td>NULL</td><td>NULL</td><td>NULL</td><td>NULL</td><td>NULL</td><td>NULL</td><td>0.1625</td><td>1582569031</td><td>2020-02-24 19:30:31</td><td>NULL</td><td>NULL</td><td>https://images.op...</td><td>https://images.op...</td><td>NULL</td><td>NULL</td><td>NULL</td><td>NULL</td><td>NULL</td><td>NULL</td><td>NULL</td><td>NULL</td><td>NULL</td><td>NULL</td><td>NULL</td><td>NULL</td><td>NULL</td><td>NULL</td><td>NULL</td><td>NULL</td><td>NULL</td><td>NULL</td><td>NULL</td><td>NULL</td><td>NULL</td><td>NULL</td><td>NULL</td><td>NULL</td><td>NULL</td><td>NULL</td><td>NULL</td><td>NULL</td><td>NULL</td><td>NULL</td><td>NULL</td><td>NULL</td><td>NULL</td><td>NULL</td><td>NULL</td><td>NULL</td><td>NULL</td><td>NULL</td><td>NULL</td><td>NULL</td><td>NULL</td><td>NULL</td><td>NULL</td><td>NULL</td><td>NULL</td><td>NULL</td><td>NULL</td><td>NULL</td><td>NULL</td><td>NULL</td><td>NULL</td><td>NULL</td><td>NULL</td><td>NULL</td><td>NULL</td><td>NULL</td><td>NULL</td><td>NULL</td><td>NULL</td><td>NULL</td><td>NULL</td><td>NULL</td><td>NULL</td><td>NULL</td><td>NULL</td><td>NULL</td><td>NULL</td><td>NULL</td><td>NULL</td><td>NULL</td><td>NULL</td><td>NULL</td><td>NULL</td><td>NULL</td><td>NULL</td><td>NULL</td><td>NULL</td><td>NULL</td><td>NULL</td><td>NULL</td><td>NULL</td><td>NULL</td><td>NULL</td><td>NULL</td><td>NULL</td><td>NULL</td><td>NULL</td><td>NULL</td><td>NULL</td><td>NULL</td><td>NULL</td><td>NULL</td><td>NULL</td><td>NULL</td><td>NULL</td><td>NULL</td><td>NULL</td><td>NULL</td><td>NULL</td><td>NULL</td><td>NULL</td><td>NULL</td><td>NULL</td><td>NULL</td><td>NULL</td><td>NULL</td><td>NULL</td><td>NULL</td><td>NULL</td><td>NULL</td><td>NULL</td><td>NULL</td><td>NULL</td><td>NULL</td><td>NULL</td><td>NULL</td><td>NULL</td><td>NULL</td><td>NULL</td><td>NULL</td><td>NULL</td><td>NULL</td><td>NULL</td></tr>\n",
       "<tr><td>63.0</td><td>http://world-en.o...</td><td>kiliweb</td><td>1673620307</td><td>2023-01-13 15:31:47</td><td>1673620309</td><td>2023-01-13 15:31:49</td><td>kiliweb</td><td>1707739660</td><td>2024-02-12 13:07:40</td><td>Tablette Tanzanie</td><td>NULL</td><td>NULL</td><td>NULL</td><td>NULL</td><td>NULL</td><td>NULL</td><td>NULL</td><td>NULL</td><td>NULL</td><td>NULL</td><td>NULL</td><td>NULL</td><td>NULL</td><td>NULL</td><td>NULL</td><td>NULL</td><td>NULL</td><td>NULL</td><td>NULL</td><td>NULL</td><td>NULL</td><td>NULL</td><td>NULL</td><td>NULL</td><td>NULL</td><td>NULL</td><td>NULL</td><td>en:fr</td><td>en:france</td><td>France</td><td>NULL</td><td>NULL</td><td>NULL</td><td>NULL</td><td>NULL</td><td>NULL</td><td>NULL</td><td>NULL</td><td>NULL</td><td>NULL</td><td>NULL</td><td>NULL</td><td>NULL</td><td>NULL</td><td>NULL</td><td>NULL</td><td>unknown</td><td>NULL</td><td>unknown</td><td>unknown</td><td>NULL</td><td>NULL</td><td>NULL</td><td>en:to-be-complete...</td><td>en:to-be-complete...</td><td>To be completed,N...</td><td>NULL</td><td>NULL</td><td>unknown</td><td>NULL</td><td>NULL</td><td>NULL</td><td>NULL</td><td>NULL</td><td>NULL</td><td>0.1625</td><td>1673620309</td><td>2023-01-13 15:31:49</td><td>NULL</td><td>NULL</td><td>https://images.op...</td><td>https://images.op...</td><td>NULL</td><td>NULL</td><td>NULL</td><td>NULL</td><td>NULL</td><td>NULL</td><td>NULL</td><td>NULL</td><td>NULL</td><td>NULL</td><td>NULL</td><td>NULL</td><td>NULL</td><td>NULL</td><td>NULL</td><td>NULL</td><td>NULL</td><td>NULL</td><td>NULL</td><td>NULL</td><td>NULL</td><td>NULL</td><td>NULL</td><td>NULL</td><td>NULL</td><td>NULL</td><td>NULL</td><td>NULL</td><td>NULL</td><td>NULL</td><td>NULL</td><td>NULL</td><td>NULL</td><td>NULL</td><td>NULL</td><td>NULL</td><td>NULL</td><td>NULL</td><td>NULL</td><td>NULL</td><td>NULL</td><td>NULL</td><td>NULL</td><td>NULL</td><td>NULL</td><td>NULL</td><td>NULL</td><td>NULL</td><td>NULL</td><td>NULL</td><td>NULL</td><td>NULL</td><td>NULL</td><td>NULL</td><td>NULL</td><td>NULL</td><td>NULL</td><td>NULL</td><td>NULL</td><td>NULL</td><td>NULL</td><td>NULL</td><td>NULL</td><td>NULL</td><td>NULL</td><td>NULL</td><td>NULL</td><td>NULL</td><td>NULL</td><td>NULL</td><td>NULL</td><td>NULL</td><td>NULL</td><td>NULL</td><td>NULL</td><td>NULL</td><td>NULL</td><td>NULL</td><td>NULL</td><td>NULL</td><td>NULL</td><td>NULL</td><td>NULL</td><td>NULL</td><td>NULL</td><td>NULL</td><td>NULL</td><td>NULL</td><td>NULL</td><td>NULL</td><td>NULL</td><td>NULL</td><td>NULL</td><td>NULL</td><td>NULL</td><td>NULL</td><td>NULL</td><td>NULL</td><td>NULL</td><td>NULL</td><td>NULL</td><td>NULL</td><td>NULL</td><td>NULL</td><td>NULL</td><td>NULL</td><td>NULL</td><td>NULL</td><td>NULL</td><td>NULL</td><td>NULL</td><td>NULL</td><td>NULL</td><td>NULL</td><td>NULL</td><td>NULL</td><td>NULL</td><td>NULL</td><td>NULL</td><td>NULL</td><td>NULL</td><td>NULL</td><td>NULL</td></tr>\n",
       "</table>\n",
       "only showing top 20 rows\n"
      ],
      "text/plain": [
       "+------------+--------------------+--------------+----------+-------------------+---------------+----------------------+----------------+--------------+---------------------+--------------------+------------------------+------------+--------+---------+--------------+------------+--------------+-------------+-------------+--------------------+--------------------+--------------------+-------+------------+----------+--------------------+-------------------------+-------------+----------------+----------------+---------+--------------+------------------------+------+-----------+---------------+-------------+----------------+----------------+-------------+--------------------+--------------------+-------------------------+----------+------------+------+-----------+---------+------------+----------------+-----------------+-----------+---------+--------------------+--------------------+----------------+----------------+----------+--------------------+--------------------+--------------------+--------------------+--------------------+--------------------+--------------------+--------------------+-----------+--------------+--------------+--------------------+----------------+-----+------------------------+--------------+--------------------+------------+------------+-------------------+--------------------+--------------------+--------------------+--------------------+---------------------+---------------------------+--------------------+-------------------------+--------------+----------------+-----------+--------------------+--------+------------------+-----------------+-----------------+------------------+----------------+----------------+------------------+------------------+-----------------+-------------------+-----------------+--------------------+-----------------+------------------+------------------+--------------------+------------------------+----------------+------------------------+----------------+----------------+-------------------------+--------------------------+-------------------------+------------------+---------------------+-------------------------+--------------------------------+---------------+-----------------+-----------------+--------------+----------------+------------------+--------------+----------------+------------------+-----------+-----------------+------------+------------+-------------+------------+------------+------------------+-----------+------------+---------------+----------+------------------+--------------------+-------------+-----------+-------------------+----------------+---------+---------------+-----------+------------+--------------+------------------+--------------+--------------+--------------+--------------+---------------+---------------+---------------+---------------+---------------+------------+----------------+-----------+---------------------+-----------+----------------+--------------+-------------+------------+---------------+---------+--------------+---------+-----------+--------------+-------------+-------------+-------------+---------------+-----------+-------------+------------+-------+---------------------------+---------------------------------+------------------------------------+-----------------------------------------------------+--------------------------------+----------+---------------+---------------------+---------------------------------------+-----------------------+-----------------------+-------------------+-------------------+------------+------------------+----------------+-------------+--------------+-------------+------------+------------+\n",
       "|        code|                 url|       creator| created_t|   created_datetime|last_modified_t|last_modified_datetime|last_modified_by|last_updated_t|last_updated_datetime|        product_name|abbreviated_product_name|generic_name|quantity|packaging|packaging_tags|packaging_en|packaging_text|       brands|  brands_tags|          categories|     categories_tags|       categories_en|origins|origins_tags|origins_en|manufacturing_places|manufacturing_places_tags|       labels|     labels_tags|       labels_en|emb_codes|emb_codes_tags|first_packaging_code_geo|cities|cities_tags|purchase_places|       stores|       countries|  countries_tags| countries_en|    ingredients_text|    ingredients_tags|ingredients_analysis_tags| allergens|allergens_en|traces|traces_tags|traces_en|serving_size|serving_quantity|no_nutrition_data|additives_n|additives|      additives_tags|        additives_en|nutriscore_score|nutriscore_grade|nova_group|       pnns_groups_1|       pnns_groups_2|         food_groups|    food_groups_tags|      food_groups_en|              states|         states_tags|           states_en|brand_owner|ecoscore_score|ecoscore_grade|nutrient_levels_tags|product_quantity|owner|data_quality_errors_tags|unique_scans_n|     popularity_tags|completeness|last_image_t|last_image_datetime|       main_category|    main_category_en|           image_url|     image_small_url|image_ingredients_url|image_ingredients_small_url| image_nutrition_url|image_nutrition_small_url|energy-kj_100g|energy-kcal_100g|energy_100g|energy-from-fat_100g|fat_100g|saturated-fat_100g|butyric-acid_100g|caproic-acid_100g|caprylic-acid_100g|capric-acid_100g|lauric-acid_100g|myristic-acid_100g|palmitic-acid_100g|stearic-acid_100g|arachidic-acid_100g|behenic-acid_100g|lignoceric-acid_100g|cerotic-acid_100g|montanic-acid_100g|melissic-acid_100g|unsaturated-fat_100g|monounsaturated-fat_100g|omega-9-fat_100g|polyunsaturated-fat_100g|omega-3-fat_100g|omega-6-fat_100g|alpha-linolenic-acid_100g|eicosapentaenoic-acid_100g|docosahexaenoic-acid_100g|linoleic-acid_100g|arachidonic-acid_100g|gamma-linolenic-acid_100g|dihomo-gamma-linolenic-acid_100g|oleic-acid_100g|elaidic-acid_100g|gondoic-acid_100g|mead-acid_100g|erucic-acid_100g|nervonic-acid_100g|trans-fat_100g|cholesterol_100g|carbohydrates_100g|sugars_100g|added-sugars_100g|sucrose_100g|glucose_100g|fructose_100g|lactose_100g|maltose_100g|maltodextrins_100g|starch_100g|polyols_100g|erythritol_100g|fiber_100g|soluble-fiber_100g|insoluble-fiber_100g|proteins_100g|casein_100g|serum-proteins_100g|nucleotides_100g|salt_100g|added-salt_100g|sodium_100g|alcohol_100g|vitamin-a_100g|beta-carotene_100g|vitamin-d_100g|vitamin-e_100g|vitamin-k_100g|vitamin-c_100g|vitamin-b1_100g|vitamin-b2_100g|vitamin-pp_100g|vitamin-b6_100g|vitamin-b9_100g|folates_100g|vitamin-b12_100g|biotin_100g|pantothenic-acid_100g|silica_100g|bicarbonate_100g|potassium_100g|chloride_100g|calcium_100g|phosphorus_100g|iron_100g|magnesium_100g|zinc_100g|copper_100g|manganese_100g|fluoride_100g|selenium_100g|chromium_100g|molybdenum_100g|iodine_100g|caffeine_100g|taurine_100g|ph_100g|fruits-vegetables-nuts_100g|fruits-vegetables-nuts-dried_100g|fruits-vegetables-nuts-estimate_100g|fruits-vegetables-nuts-estimate-from-ingredients_100g|collagen-meat-protein-ratio_100g|cocoa_100g|chlorophyl_100g|carbon-footprint_100g|carbon-footprint-from-meat-or-fish_100g|nutrition-score-fr_100g|nutrition-score-uk_100g|glycemic-index_100g|water-hardness_100g|choline_100g|phylloquinone_100g|beta-glucan_100g|inositol_100g|carnitine_100g|sulphate_100g|nitrate_100g|acidity_100g|\n",
       "+------------+--------------------+--------------+----------+-------------------+---------------+----------------------+----------------+--------------+---------------------+--------------------+------------------------+------------+--------+---------+--------------+------------+--------------+-------------+-------------+--------------------+--------------------+--------------------+-------+------------+----------+--------------------+-------------------------+-------------+----------------+----------------+---------+--------------+------------------------+------+-----------+---------------+-------------+----------------+----------------+-------------+--------------------+--------------------+-------------------------+----------+------------+------+-----------+---------+------------+----------------+-----------------+-----------+---------+--------------------+--------------------+----------------+----------------+----------+--------------------+--------------------+--------------------+--------------------+--------------------+--------------------+--------------------+--------------------+-----------+--------------+--------------+--------------------+----------------+-----+------------------------+--------------+--------------------+------------+------------+-------------------+--------------------+--------------------+--------------------+--------------------+---------------------+---------------------------+--------------------+-------------------------+--------------+----------------+-----------+--------------------+--------+------------------+-----------------+-----------------+------------------+----------------+----------------+------------------+------------------+-----------------+-------------------+-----------------+--------------------+-----------------+------------------+------------------+--------------------+------------------------+----------------+------------------------+----------------+----------------+-------------------------+--------------------------+-------------------------+------------------+---------------------+-------------------------+--------------------------------+---------------+-----------------+-----------------+--------------+----------------+------------------+--------------+----------------+------------------+-----------+-----------------+------------+------------+-------------+------------+------------+------------------+-----------+------------+---------------+----------+------------------+--------------------+-------------+-----------+-------------------+----------------+---------+---------------+-----------+------------+--------------+------------------+--------------+--------------+--------------+--------------+---------------+---------------+---------------+---------------+---------------+------------+----------------+-----------+---------------------+-----------+----------------+--------------+-------------+------------+---------------+---------+--------------+---------+-----------+--------------+-------------+-------------+-------------+---------------+-----------+-------------+------------+-------+---------------------------+---------------------------------+------------------------------------+-----------------------------------------------------+--------------------------------+----------+---------------+---------------------+---------------------------------------+-----------------------+-----------------------+-------------------+-------------------+------------+------------------+----------------+-------------+--------------+-------------+------------+------------+\n",
       "|       225.0|http://world-en.o...|nutrinet-sante|1623855208|2021-06-16 16:53:28|     1692101569|   2023-08-15 14:12:49|            digg|    1707747939|  2024-02-12 15:25:39|      jeunes pousses|                    NULL|        NULL|    NULL|     NULL|          NULL|        NULL|          NULL|      endives|      endives|Aliments et boiss...|en:plant-based-fo...|Plant-based foods...|   NULL|        NULL|      NULL|                NULL|                     NULL|         NULL|            NULL|            NULL|     NULL|          NULL|                    NULL|  NULL|       NULL|           NULL|         NULL|       en:france|       en:france|       France|                NULL|                NULL|                     NULL|      NULL|        NULL|  NULL|       NULL|     NULL|        NULL|            NULL|             NULL|       NULL|     NULL|                NULL|                NULL|            NULL|         unknown|      NULL|Fruits and vegeta...|          Vegetables|       en:vegetables|en:fruits-and-veg...|Fruits and vegeta...|en:to-be-complete...|en:to-be-complete...|To be completed,N...|       NULL|          79.0|             b|                NULL|            NULL| NULL|                    NULL|          NULL|                NULL|         0.3|        NULL|               NULL|en:spinach-young-...|Spinach young leaves|                NULL|                NULL|                 NULL|                       NULL|                NULL|                     NULL|          NULL|            NULL|       NULL|                NULL|    NULL|              NULL|             NULL|             NULL|              NULL|            NULL|            NULL|              NULL|              NULL|             NULL|               NULL|             NULL|                NULL|             NULL|              NULL|              NULL|                NULL|                    NULL|            NULL|                    NULL|            NULL|            NULL|                     NULL|                      NULL|                     NULL|              NULL|                 NULL|                     NULL|                            NULL|           NULL|             NULL|             NULL|          NULL|            NULL|              NULL|          NULL|            NULL|              NULL|       NULL|             NULL|        NULL|        NULL|         NULL|        NULL|        NULL|              NULL|       NULL|        NULL|           NULL|      NULL|              NULL|                NULL|         NULL|       NULL|               NULL|            NULL|     NULL|           NULL|       NULL|        NULL|          NULL|              NULL|          NULL|          NULL|          NULL|          NULL|           NULL|           NULL|           NULL|           NULL|           NULL|        NULL|            NULL|       NULL|                 NULL|       NULL|            NULL|          NULL|         NULL|        NULL|           NULL|     NULL|          NULL|     NULL|       NULL|          NULL|         NULL|         NULL|         NULL|           NULL|       NULL|         NULL|        NULL|   NULL|                       NULL|                             NULL|                                NULL|                                                 NULL|                            NULL|      NULL|           NULL|                 NULL|                                   NULL|                   NULL|                   NULL|               NULL|               NULL|        NULL|              NULL|            NULL|         NULL|          NULL|         NULL|        NULL|        NULL|\n",
       "|2.07025004E8|http://world-en.o...|       kiliweb|1656948610|2022-07-04 17:30:10|     1656948613|   2022-07-04 17:30:13|         kiliweb|    1707864218|  2024-02-13 23:43:38|               Andrè|                    NULL|        NULL|    NULL|     NULL|          NULL|        NULL|          NULL|         NULL|         NULL|                NULL|                NULL|                NULL|   NULL|        NULL|      NULL|                NULL|                     NULL|         NULL|            NULL|            NULL|     NULL|          NULL|                    NULL|  NULL|       NULL|           NULL|         NULL|           en:de|      en:germany|      Germany|                NULL|                NULL|                     NULL|      NULL|        NULL|  NULL|       NULL|     NULL|        NULL|            NULL|             NULL|       NULL|     NULL|                NULL|                NULL|            NULL|         unknown|      NULL|             unknown|             unknown|                NULL|                NULL|                NULL|en:to-be-complete...|en:to-be-complete...|To be completed,N...|       NULL|          NULL|       unknown|                NULL|            NULL| NULL|    en:energy-value-i...|          NULL|                NULL|      0.2625|  1656948613|2022-07-04 17:30:13|                NULL|                NULL|                NULL|                NULL|                 NULL|                       NULL|https://images.op...|     https://images.op...|          NULL|           165.0|      690.0|                NULL|     2.0|               2.0|             NULL|             NULL|              NULL|            NULL|            NULL|              NULL|              NULL|             NULL|               NULL|             NULL|                NULL|             NULL|              NULL|              NULL|                NULL|                    NULL|            NULL|                    NULL|            NULL|            NULL|                     NULL|                      NULL|                     NULL|              NULL|                 NULL|                     NULL|                            NULL|           NULL|             NULL|             NULL|          NULL|            NULL|              NULL|          NULL|            NULL|              65.0|       12.6|             NULL|        NULL|        NULL|         NULL|        NULL|        NULL|              NULL|       NULL|        NULL|           NULL|       3.0|              NULL|                NULL|          1.5|       NULL|               NULL|            NULL|     NULL|           NULL|       NULL|        NULL|          NULL|              NULL|          NULL|          NULL|          NULL|          NULL|           NULL|           NULL|           NULL|           NULL|           NULL|        NULL|            NULL|       NULL|                 NULL|       NULL|            NULL|          NULL|         NULL|        NULL|           NULL|     NULL|          NULL|     NULL|       NULL|          NULL|         NULL|         NULL|         NULL|           NULL|       NULL|         NULL|        NULL|   NULL|                       NULL|                             NULL|                                NULL|                                                 NULL|                            NULL|      NULL|           NULL|                 NULL|                                   NULL|                   NULL|                   NULL|               NULL|               NULL|        NULL|              NULL|            NULL|         NULL|          NULL|         NULL|        NULL|        NULL|\n",
       "|   3429145.0|http://world-en.o...|       kiliweb|1630483911|2021-09-01 10:11:51|     1682646029|   2023-04-28 03:40:29|       isabel626|    1707843647|  2024-02-13 18:00:47|             L.casei|                    NULL|        NULL|    NULL|     NULL|          NULL|        NULL|          NULL|         NULL|         NULL|                NULL|                NULL|                NULL|  Spain|    en:spain|     Spain|                NULL|                     NULL|  Punto Verde|    en:green-dot|       Green Dot|     NULL|          NULL|                    NULL|  NULL|       NULL|           NULL|         NULL|           Spain|        en:spain|        Spain|Leche semidesnata...|en:semi-skimmed-m...|     en:palm-oil-free,...|      NULL|        NULL|  NULL|       NULL|     NULL|        NULL|            NULL|             NULL|          0|     NULL|                NULL|                NULL|            NULL|         unknown|      NULL|             unknown|             unknown|                NULL|                NULL|                NULL|en:to-be-complete...|en:to-be-complete...|To be completed,N...|       NULL|          NULL|       unknown|                NULL|            NULL| NULL|                    NULL|          NULL|                NULL|      0.4875|  1630483912|2021-09-01 10:11:52|                NULL|                NULL|https://images.op...|https://images.op...| https://images.op...|       https://images.op...|https://images.op...|     https://images.op...|          NULL|            NULL|       NULL|                NULL|     1.4|               0.9|             NULL|             NULL|              NULL|            NULL|            NULL|              NULL|              NULL|             NULL|               NULL|             NULL|                NULL|             NULL|              NULL|              NULL|                NULL|                    NULL|            NULL|                    NULL|            NULL|            NULL|                     NULL|                      NULL|                     NULL|              NULL|                 NULL|                     NULL|                            NULL|           NULL|             NULL|             NULL|          NULL|            NULL|              NULL|          NULL|            NULL|               9.8|        9.8|             NULL|        NULL|        NULL|         NULL|        NULL|        NULL|              NULL|       NULL|        NULL|           NULL|      NULL|              NULL|                NULL|          2.7|       NULL|               NULL|            NULL|      0.1|           NULL|       0.04|        NULL|          NULL|              NULL|          NULL|          NULL|          NULL|          NULL|           NULL|           NULL|           NULL|           NULL|           NULL|        NULL|            NULL|       NULL|                 NULL|       NULL|            NULL|          NULL|         NULL|        NULL|           NULL|     NULL|          NULL|     NULL|       NULL|          NULL|         NULL|         NULL|         NULL|           NULL|       NULL|         NULL|        NULL|   NULL|                       NULL|                             NULL|                                NULL|                                                  0.0|                            NULL|      NULL|           NULL|                 NULL|                                   NULL|                   NULL|                   NULL|               NULL|               NULL|        NULL|              NULL|            NULL|         NULL|          NULL|         NULL|        NULL|        NULL|\n",
       "| 2.6772226E7|http://world-en.o...|       kiliweb|1654250311|2022-06-03 11:58:31|     1654270474|   2022-06-03 17:34:34|      quentinbrd|    1707742177|  2024-02-12 13:49:37|                Skyr|                    NULL|        NULL|   480 g|     NULL|          NULL|        NULL|          NULL|       Danone|       danone|Produits laitiers...|en:dairies,en:fer...|Dairies,Fermented...|   NULL|        NULL|      NULL|                NULL|                     NULL|         NULL|            NULL|            NULL|     NULL|          NULL|                    NULL|  NULL|       NULL|           NULL|         NULL|          France|       en:france|       France|                NULL|                NULL|                     NULL|      NULL|        NULL|  NULL|       NULL|     NULL|        NULL|            NULL|             NULL|       NULL|     NULL|                NULL|                NULL|              -5|               a|      NULL|Milk and dairy pr...|      Dairy desserts|   en:dairy-desserts|en:milk-and-dairy...|Milk and dairy pr...|en:to-be-complete...|en:to-be-complete...|To be completed,N...|       NULL|          67.0|             b|en:fat-in-low-qua...|           480.0| NULL|                    NULL|          NULL|                NULL|       0.575|  1654250314|2022-06-03 11:58:34|    en:cream-cheeses|       Cream cheeses|https://images.op...|https://images.op...|                 NULL|                       NULL|https://images.op...|     https://images.op...|          NULL|            57.0|      238.0|                NULL|     0.2|               0.1|             NULL|             NULL|              NULL|            NULL|            NULL|              NULL|              NULL|             NULL|               NULL|             NULL|                NULL|             NULL|              NULL|              NULL|                NULL|                    NULL|            NULL|                    NULL|            NULL|            NULL|                     NULL|                      NULL|                     NULL|              NULL|                 NULL|                     NULL|                            NULL|           NULL|             NULL|             NULL|          NULL|            NULL|              NULL|          NULL|            NULL|               3.9|        3.9|             NULL|        NULL|        NULL|         NULL|        NULL|        NULL|              NULL|       NULL|        NULL|           NULL|      NULL|              NULL|                NULL|         10.0|       NULL|               NULL|            NULL|     0.09|           NULL|      0.036|        NULL|          NULL|              NULL|          NULL|          NULL|          NULL|          NULL|           NULL|           NULL|           NULL|           NULL|           NULL|        NULL|            NULL|       NULL|                 NULL|       NULL|            NULL|          NULL|         NULL|        NULL|           NULL|     NULL|          NULL|     NULL|       NULL|          NULL|         NULL|         NULL|         NULL|           NULL|       NULL|         NULL|        NULL|   NULL|                       NULL|                             NULL|                                NULL|                                                 NULL|                            NULL|      NULL|           NULL|                 NULL|                                   NULL|                     -5|                   NULL|               NULL|               NULL|        NULL|              NULL|            NULL|         NULL|          NULL|         NULL|        NULL|        NULL|\n",
       "|        17.0|http://world-en.o...|       kiliweb|1529059080|2018-06-15 12:38:00|     1561463718|   2019-06-25 13:55:18|         kiliweb|    1707490056|  2024-02-09 15:47:36|    Vitória crackers|                    NULL|        NULL|    NULL|     NULL|          NULL|        NULL|          NULL|         NULL|         NULL|                NULL|                NULL|                NULL|   NULL|        NULL|      NULL|                NULL|                     NULL|         NULL|            NULL|            NULL|     NULL|          NULL|                    NULL|  NULL|       NULL|           NULL|         NULL|          France|       en:france|       France|                NULL|                NULL|                     NULL|      NULL|        NULL|  NULL|       NULL|     NULL|        NULL|            NULL|             NULL|       NULL|     NULL|                NULL|                NULL|            NULL|         unknown|      NULL|             unknown|             unknown|                NULL|                NULL|                NULL|en:to-be-complete...|en:to-be-complete...|To be completed,N...|       NULL|          NULL|       unknown|                NULL|            NULL| NULL|                    NULL|             1|top-75-percent-sc...|       0.275|  1529059087|2018-06-15 12:38:07|                NULL|                NULL|https://images.op...|https://images.op...| https://images.op...|       https://images.op...|                NULL|                     NULL|          NULL|           375.0|     1569.0|                NULL|     7.0|              3.08|             NULL|             NULL|              NULL|            NULL|            NULL|              NULL|              NULL|             NULL|               NULL|             NULL|                NULL|             NULL|              NULL|              NULL|                NULL|                    NULL|            NULL|                    NULL|            NULL|            NULL|                     NULL|                      NULL|                     NULL|              NULL|                 NULL|                     NULL|                            NULL|           NULL|             NULL|             NULL|          NULL|            NULL|              NULL|          NULL|            NULL|              70.1|       15.0|             NULL|        NULL|        NULL|         NULL|        NULL|        NULL|              NULL|       NULL|        NULL|           NULL|      NULL|              NULL|                NULL|          7.8|       NULL|               NULL|            NULL|      1.4|           NULL|       0.56|        NULL|          NULL|              NULL|          NULL|          NULL|          NULL|          NULL|           NULL|           NULL|           NULL|           NULL|           NULL|        NULL|            NULL|       NULL|                 NULL|       NULL|            NULL|          NULL|         NULL|        NULL|           NULL|     NULL|          NULL|     NULL|       NULL|          NULL|         NULL|         NULL|         NULL|           NULL|       NULL|         NULL|        NULL|   NULL|                       NULL|                             NULL|                                NULL|                                                 NULL|                            NULL|      NULL|           NULL|                 NULL|                                   NULL|                   NULL|                   NULL|               NULL|               NULL|        NULL|              NULL|            NULL|         NULL|          NULL|         NULL|        NULL|        NULL|\n",
       "|        31.0|http://world-en.o...|      isagoofy|1539464774|2018-10-13 23:06:14|     1539464817|   2018-10-13 23:06:57|        isagoofy|    1707603439|  2024-02-10 23:17:19|               Cacao|                    NULL|        NULL|   130 g|     NULL|          NULL|        NULL|          NULL|         NULL|         NULL|                NULL|                NULL|                NULL|   NULL|        NULL|      NULL|                NULL|                     NULL|         NULL|            NULL|            NULL|     NULL|          NULL|                    NULL|  NULL|       NULL|           NULL|         NULL|          France|       en:france|       France|                NULL|                NULL|                     NULL|      NULL|        NULL|  NULL|       NULL|     NULL|        NULL|            NULL|             NULL|       NULL|     NULL|                NULL|                NULL|            NULL|         unknown|      NULL|             unknown|             unknown|                NULL|                NULL|                NULL|en:to-be-complete...|en:to-be-complete...|To be completed,N...|       NULL|          NULL|       unknown|                NULL|           130.0| NULL|                    NULL|             2|top-75-percent-sc...|      0.2625|  1539464775|2018-10-13 23:06:15|                NULL|                NULL|https://images.op...|https://images.op...|                 NULL|                       NULL|                NULL|                     NULL|          NULL|            NULL|       NULL|                NULL|    NULL|              NULL|             NULL|             NULL|              NULL|            NULL|            NULL|              NULL|              NULL|             NULL|               NULL|             NULL|                NULL|             NULL|              NULL|              NULL|                NULL|                    NULL|            NULL|                    NULL|            NULL|            NULL|                     NULL|                      NULL|                     NULL|              NULL|                 NULL|                     NULL|                            NULL|           NULL|             NULL|             NULL|          NULL|            NULL|              NULL|          NULL|            NULL|              NULL|       NULL|             NULL|        NULL|        NULL|         NULL|        NULL|        NULL|              NULL|       NULL|        NULL|           NULL|      NULL|              NULL|                NULL|         NULL|       NULL|               NULL|            NULL|     NULL|           NULL|       NULL|        NULL|          NULL|              NULL|          NULL|          NULL|          NULL|          NULL|           NULL|           NULL|           NULL|           NULL|           NULL|        NULL|            NULL|       NULL|                 NULL|       NULL|            NULL|          NULL|         NULL|        NULL|           NULL|     NULL|          NULL|     NULL|       NULL|          NULL|         NULL|         NULL|         NULL|           NULL|       NULL|         NULL|        NULL|   NULL|                       NULL|                             NULL|                                NULL|                                                 NULL|                            NULL|      NULL|           NULL|                 NULL|                                   NULL|                   NULL|                   NULL|               NULL|               NULL|        NULL|              NULL|            NULL|         NULL|          NULL|         NULL|        NULL|        NULL|\n",
       "|   3327986.0|http://world-en.o...|       kiliweb|1574175736|2019-11-19 16:02:16|     1624390765|   2021-06-22 21:39:25|      sylvariane|    1707636585|  2024-02-11 08:29:45|Filetes de pollo ...|                    NULL|        NULL|    NULL|     NULL|          NULL|        NULL|          NULL|         NULL|         NULL|                NULL|                NULL|                NULL|   NULL|        NULL|      NULL|                NULL|                     NULL|         NULL|            NULL|            NULL|     NULL|          NULL|                    NULL|  NULL|       NULL|           NULL|         NULL|         Espagne|        en:spain|        Spain|                NULL|                NULL|                     NULL|      NULL|        NULL|  NULL|       NULL|     NULL|        NULL|            NULL|             NULL|       NULL|     NULL|                NULL|                NULL|            NULL|         unknown|      NULL|             unknown|             unknown|                NULL|                NULL|                NULL|en:to-be-complete...|en:to-be-complete...|To be completed,N...|       NULL|          NULL|       unknown|                NULL|            NULL| NULL|                    NULL|          NULL|                NULL|       0.275|  1574175737|2019-11-19 16:02:17|                NULL|                NULL|https://images.op...|https://images.op...|                 NULL|                       NULL|https://images.op...|     https://images.op...|         685.8|           163.9|      685.8|                NULL|     1.9|               1.0|             NULL|             NULL|              NULL|            NULL|            NULL|              NULL|              NULL|             NULL|               NULL|             NULL|                NULL|             NULL|              NULL|              NULL|                NULL|                    NULL|            NULL|                    NULL|            NULL|            NULL|                     NULL|                      NULL|                     NULL|              NULL|                 NULL|                     NULL|                            NULL|           NULL|             NULL|             NULL|          NULL|            NULL|              NULL|          NULL|            NULL|              NULL|       NULL|             NULL|        NULL|        NULL|         NULL|        NULL|        NULL|              NULL|       NULL|        NULL|           NULL|      NULL|              NULL|                NULL|         15.3|       NULL|               NULL|            NULL|      1.1|           NULL|       0.44|        NULL|          NULL|              NULL|          NULL|          NULL|          NULL|          NULL|           NULL|           NULL|           NULL|           NULL|           NULL|        NULL|            NULL|       NULL|                 NULL|       NULL|            NULL|          NULL|         NULL|        NULL|           NULL|     NULL|          NULL|     NULL|       NULL|          NULL|         NULL|         NULL|         NULL|           NULL|       NULL|         NULL|        NULL|   NULL|                       NULL|                             NULL|                                NULL|                                                 NULL|                            NULL|      NULL|           NULL|                 NULL|                                   NULL|                   NULL|                   NULL|               NULL|               NULL|        NULL|              NULL|            NULL|         NULL|          NULL|         NULL|        NULL|        NULL|\n",
       "|   4128579.0|http://world-en.o...|       kiliweb|1649449251|2022-04-08 22:20:51|     1649449920|   2022-04-08 22:32:00|      roboto-app|    1707858660|  2024-02-13 22:11:00|   Burger Meat Pollo|                    NULL|        NULL|    NULL|     NULL|          NULL|        NULL|          NULL|         NULL|         NULL|                NULL|                NULL|                NULL|   NULL|        NULL|      NULL|                NULL|                     NULL|         NULL|            NULL|            NULL|     NULL|          NULL|                    NULL|  NULL|       NULL|           NULL|         NULL|           en:es|        en:spain|        Spain|                NULL|                NULL|                     NULL|      NULL|        NULL|  NULL|       NULL|     NULL|        NULL|            NULL|             NULL|       NULL|     NULL|                NULL|                NULL|            NULL|         unknown|      NULL|             unknown|             unknown|                NULL|                NULL|                NULL|en:to-be-complete...|en:to-be-complete...|To be completed,N...|       NULL|          NULL|       unknown|                NULL|            NULL| NULL|                    NULL|          NULL|                NULL|       0.375|  1649449255|2022-04-08 22:20:55|                NULL|                NULL|https://images.op...|https://images.op...|                 NULL|                       NULL|https://images.op...|     https://images.op...|          NULL|           194.0|      812.0|                NULL|    11.0|               3.9|             NULL|             NULL|              NULL|            NULL|            NULL|              NULL|              NULL|             NULL|               NULL|             NULL|                NULL|             NULL|              NULL|              NULL|                NULL|                    NULL|            NULL|                    NULL|            NULL|            NULL|                     NULL|                      NULL|                     NULL|              NULL|                 NULL|                     NULL|                            NULL|           NULL|             NULL|             NULL|          NULL|            NULL|              NULL|          NULL|            NULL|               5.7|       0.05|             NULL|        NULL|        NULL|         NULL|        NULL|        NULL|              NULL|       NULL|        NULL|           NULL|      NULL|              NULL|                NULL|         18.0|       NULL|               NULL|            NULL|     NULL|           NULL|       NULL|        NULL|          NULL|              NULL|          NULL|          NULL|          NULL|          NULL|           NULL|           NULL|           NULL|           NULL|           NULL|        NULL|            NULL|       NULL|                 NULL|       NULL|            NULL|          NULL|         NULL|        NULL|           NULL|     NULL|          NULL|     NULL|       NULL|          NULL|         NULL|         NULL|         NULL|           NULL|       NULL|         NULL|        NULL|   NULL|                       NULL|                             NULL|                                NULL|                                                 NULL|                            NULL|      NULL|           NULL|                 NULL|                                   NULL|                   NULL|                   NULL|               NULL|               NULL|        NULL|              NULL|            NULL|         NULL|          NULL|         NULL|        NULL|        NULL|\n",
       "|   4622327.0|http://world-en.o...|       kiliweb|1619501895|2021-04-27 07:38:15|     1682719936|   2023-04-29 00:12:16|      roboto-app|    1707834288|  2024-02-13 15:24:48|Hamburguesas de t...|                    NULL|        NULL|    NULL|     NULL|          NULL|        NULL|          NULL|         NULL|         NULL|                NULL|                NULL|                NULL|   NULL|        NULL|      NULL|                NULL|                     NULL|         NULL|            NULL|            NULL|     NULL|          NULL|                    NULL|  NULL|       NULL|           NULL|         NULL|           en:es|        en:spain|        Spain|                NULL|                NULL|                     NULL|      NULL|        NULL|  NULL|       NULL|     NULL|        NULL|            NULL|             NULL|       NULL|     NULL|                NULL|                NULL|            NULL|         unknown|      NULL|             unknown|             unknown|                NULL|                NULL|                NULL|en:to-be-complete...|en:to-be-complete...|To be completed,N...|       NULL|          NULL|       unknown|                NULL|            NULL| NULL|    en:energy-value-i...|          NULL|                NULL|       0.375|  1619501896|2021-04-27 07:38:16|                NULL|                NULL|https://images.op...|https://images.op...|                 NULL|                       NULL|https://images.op...|     https://images.op...|          NULL|           874.9|     3661.0|                NULL|    15.1|               6.1|             NULL|             NULL|              NULL|            NULL|            NULL|              NULL|              NULL|             NULL|               NULL|             NULL|                NULL|             NULL|              NULL|              NULL|                NULL|                    NULL|            NULL|                    NULL|            NULL|            NULL|                     NULL|                      NULL|                     NULL|              NULL|                 NULL|                     NULL|                            NULL|           NULL|             NULL|             NULL|          NULL|            NULL|              NULL|          NULL|            NULL|               2.6|        1.0|             NULL|        NULL|        NULL|         NULL|        NULL|        NULL|              NULL|       NULL|        NULL|           NULL|      NULL|              NULL|                NULL|         15.7|       NULL|               NULL|            NULL|      2.1|           NULL|       0.84|        NULL|          NULL|              NULL|          NULL|          NULL|          NULL|          NULL|           NULL|           NULL|           NULL|           NULL|           NULL|        NULL|            NULL|       NULL|                 NULL|       NULL|            NULL|          NULL|         NULL|        NULL|           NULL|     NULL|          NULL|     NULL|       NULL|          NULL|         NULL|         NULL|         NULL|           NULL|       NULL|         NULL|        NULL|   NULL|                       NULL|                             NULL|                                NULL|                                                 NULL|                            NULL|      NULL|           NULL|                 NULL|                                   NULL|                   NULL|                   NULL|               NULL|               NULL|        NULL|              NULL|            NULL|         NULL|          NULL|         NULL|        NULL|        NULL|\n",
       "|      6021.0|http://world-en.o...|       kiliweb|1673478017|2023-01-12 00:00:17|     1673478020|   2023-01-12 00:00:20|         kiliweb|    1707874550|  2024-02-14 02:35:50|Blueberry Cobbler...|                    NULL|        NULL|    NULL|     NULL|          NULL|        NULL|          NULL|         NULL|         NULL|                NULL|                NULL|                NULL|   NULL|        NULL|      NULL|                NULL|                     NULL|         NULL|            NULL|            NULL|     NULL|          NULL|                    NULL|  NULL|       NULL|           NULL|         NULL|           en:us|en:united-states|United States|                NULL|                NULL|                     NULL|      NULL|        NULL|  NULL|       NULL|     NULL|        NULL|            NULL|             NULL|       NULL|     NULL|                NULL|                NULL|            NULL|         unknown|      NULL|             unknown|             unknown|                NULL|                NULL|                NULL|en:to-be-complete...|en:to-be-complete...|To be completed,N...|       NULL|          NULL|       unknown|                NULL|            NULL| NULL|                    NULL|          NULL|                NULL|       0.275|  1673478020|2023-01-12 00:00:20|                NULL|                NULL|https://images.op...|https://images.op...|                 NULL|                       NULL|https://images.op...|     https://images.op...|          NULL|             0.0|        0.0|                NULL|     0.0|               0.0|             NULL|             NULL|              NULL|            NULL|            NULL|              NULL|              NULL|             NULL|               NULL|             NULL|                NULL|             NULL|              NULL|              NULL|                NULL|                    NULL|            NULL|                    NULL|            NULL|            NULL|                     NULL|                      NULL|                     NULL|              NULL|                 NULL|                     NULL|                            NULL|           NULL|             NULL|             NULL|          NULL|            NULL|              NULL|          NULL|            NULL|               0.0|        0.0|             NULL|        NULL|        NULL|         NULL|        NULL|        NULL|              NULL|       NULL|        NULL|           NULL|       0.0|              NULL|                NULL|          0.0|       NULL|               NULL|            NULL|      0.0|           NULL|        0.0|        NULL|          NULL|              NULL|          NULL|          NULL|          NULL|          NULL|           NULL|           NULL|           NULL|           NULL|           NULL|        NULL|            NULL|       NULL|                 NULL|       NULL|            NULL|          NULL|         NULL|        NULL|           NULL|     NULL|          NULL|     NULL|       NULL|          NULL|         NULL|         NULL|         NULL|           NULL|       NULL|         NULL|        NULL|   NULL|                       NULL|                             NULL|                                NULL|                                                 NULL|                            NULL|      NULL|           NULL|                 NULL|                                   NULL|                   NULL|                   NULL|               NULL|               NULL|        NULL|              NULL|            NULL|         NULL|          NULL|         NULL|        NULL|        NULL|\n",
       "|         1.0|http://world-en.o...|           inf|1634745456|2021-10-20 17:57:36|     1634745530|   2021-10-20 17:58:50|             inf|    1707846674|  2024-02-13 18:51:14|           hyde icon|                    NULL|        NULL|    NULL|     NULL|          NULL|        NULL|          NULL|         NULL|         NULL|                NULL|                NULL|                NULL|   NULL|        NULL|      NULL|                NULL|                     NULL|         NULL|            NULL|            NULL|     NULL|          NULL|                    NULL|  NULL|       NULL|           NULL|         NULL|en:United States|en:united-states|United States|beta alanine, cre...|en:beta-alanine,e...|     en:palm-oil-conte...|      NULL|        NULL|  NULL|       NULL|     NULL|        NULL|            NULL|             NULL|          5|     NULL|en:e296,en:e330,e...|E296 - Malic acid...|            NULL|         unknown|         4|             unknown|             unknown|                NULL|                NULL|                NULL|en:to-be-complete...|en:to-be-complete...|To be completed,N...|       NULL|          NULL|       unknown|                NULL|            NULL| NULL|                    NULL|          NULL|                NULL|         0.3|        NULL|               NULL|                NULL|                NULL|                NULL|                NULL|                 NULL|                       NULL|                NULL|                     NULL|          NULL|            NULL|       NULL|                NULL|    NULL|              NULL|             NULL|             NULL|              NULL|            NULL|            NULL|              NULL|              NULL|             NULL|               NULL|             NULL|                NULL|             NULL|              NULL|              NULL|                NULL|                    NULL|            NULL|                    NULL|            NULL|            NULL|                     NULL|                      NULL|                     NULL|              NULL|                 NULL|                     NULL|                            NULL|           NULL|             NULL|             NULL|          NULL|            NULL|              NULL|          NULL|            NULL|              NULL|       NULL|             NULL|        NULL|        NULL|         NULL|        NULL|        NULL|              NULL|       NULL|        NULL|           NULL|      NULL|              NULL|                NULL|         NULL|       NULL|               NULL|            NULL|     NULL|           NULL|       NULL|        NULL|          NULL|              NULL|          NULL|          NULL|          NULL|          NULL|           NULL|           NULL|           NULL|           NULL|           NULL|        NULL|            NULL|       NULL|                 NULL|       NULL|            NULL|          NULL|         NULL|        NULL|           NULL|     NULL|          NULL|     NULL|       NULL|          NULL|         NULL|         NULL|         NULL|           NULL|       NULL|         NULL|        NULL|   NULL|                       NULL|                             NULL|                                NULL|                                   0.0266075134277344|                            NULL|      NULL|           NULL|                 NULL|                                   NULL|                   NULL|                   NULL|               NULL|               NULL|        NULL|              NULL|            NULL|         NULL|          NULL|         NULL|        NULL|        NULL|\n",
       "|       100.0|http://world-en.o...|         del51|1444572561|2015-10-11 16:09:21|     1444659212|   2015-10-12 16:13:32|           del51|    1707490057|  2024-02-09 15:47:37| moutarde au moût...|                    NULL|        NULL|    100g|     NULL|          NULL|        NULL|          NULL|courte paille|courte-paille|Condiments, Sauce...|en:condiments,en:...|Condiments,Sauces...|   NULL|        NULL|      NULL|                NULL|                     NULL|Delois france|fr:delois-france|fr:delois-france|     NULL|          NULL|                    NULL|  NULL|       NULL|           NULL|courte paille|          France|       en:france|       France|eau graines de té...|fr:eau-graines-de...|     en:palm-oil-conte...|en:mustard|        NULL|  NULL|       NULL|     NULL|        NULL|            NULL|             NULL|          0|     NULL|                NULL|                NULL|              18|               d|      NULL|      Fat and sauces|Dressings and sauces|en:dressings-and-...|en:fats-and-sauce...|Fats and sauces,D...|en:to-be-complete...|en:to-be-complete...|To be completed,N...|       NULL|          54.0|             c|en:fat-in-moderat...|           100.0| NULL|                    NULL|          NULL|                NULL|      0.7625|  1444572697|2015-10-11 16:11:37|        en:groceries|           Groceries|https://images.op...|https://images.op...|                 NULL|                       NULL|                NULL|                     NULL|         936.0|            NULL|      936.0|                NULL|     8.2|               2.2|             NULL|             NULL|              NULL|            NULL|            NULL|              NULL|              NULL|             NULL|               NULL|             NULL|                NULL|             NULL|              NULL|              NULL|                NULL|                    NULL|            NULL|                    NULL|            NULL|            NULL|                     NULL|                      NULL|                     NULL|              NULL|                 NULL|                     NULL|                            NULL|           NULL|             NULL|             NULL|          NULL|            NULL|              NULL|          NULL|            NULL|              29.0|       22.0|             NULL|        NULL|        NULL|         NULL|        NULL|        NULL|              NULL|       NULL|        NULL|           NULL|       0.0|              NULL|                NULL|          5.1|       NULL|               NULL|            NULL|      4.6|           NULL|       1.84|        NULL|          NULL|              NULL|          NULL|          NULL|          NULL|          NULL|           NULL|           NULL|           NULL|           NULL|           NULL|        NULL|            NULL|       NULL|                 NULL|       NULL|            NULL|          NULL|         NULL|        NULL|           NULL|     NULL|          NULL|     NULL|       NULL|          NULL|         NULL|         NULL|         NULL|           NULL|       NULL|         NULL|        NULL|   NULL|                       NULL|                             NULL|                                NULL|                                                  0.0|                            NULL|      NULL|           NULL|                 NULL|                                   NULL|                     18|                   NULL|               NULL|               NULL|        NULL|              NULL|            NULL|         NULL|          NULL|         NULL|        NULL|        NULL|\n",
       "|       123.0|http://world-en.o...|       kiliweb|1535737982|2018-08-31 19:53:02|     1535737986|   2018-08-31 19:53:06|            NULL|    1707490057|  2024-02-09 15:47:37|Sauce Sweety chil...|                    NULL|        NULL|    NULL|     NULL|          NULL|        NULL|          NULL|         NULL|         NULL|                NULL|                NULL|                NULL|   NULL|        NULL|      NULL|                NULL|                     NULL|         NULL|            NULL|            NULL|     NULL|          NULL|                    NULL|  NULL|       NULL|           NULL|         NULL|          France|       en:france|       France|                NULL|                NULL|                     NULL|      NULL|        NULL|  NULL|       NULL|     NULL|        NULL|            NULL|             NULL|       NULL|     NULL|                NULL|                NULL|            NULL|         unknown|      NULL|             unknown|             unknown|                NULL|                NULL|                NULL|en:to-be-complete...|en:to-be-complete...|To be completed,N...|       NULL|          NULL|       unknown|                NULL|            NULL| NULL|                    NULL|             1|top-75-percent-sc...|       0.275|  1535737985|2018-08-31 19:53:05|                NULL|                NULL|https://images.op...|https://images.op...| https://images.op...|       https://images.op...|                NULL|                     NULL|          NULL|            21.0|       88.0|                NULL|     0.0|               0.0|             NULL|             NULL|              NULL|            NULL|            NULL|              NULL|              NULL|             NULL|               NULL|             NULL|                NULL|             NULL|              NULL|              NULL|                NULL|                    NULL|            NULL|                    NULL|            NULL|            NULL|                     NULL|                      NULL|                     NULL|              NULL|                 NULL|                     NULL|                            NULL|           NULL|             NULL|             NULL|          NULL|            NULL|              NULL|          NULL|            NULL|               4.8|        0.4|             NULL|        NULL|        NULL|         NULL|        NULL|        NULL|              NULL|       NULL|        NULL|           NULL|      NULL|              NULL|                NULL|          0.2|       NULL|               NULL|            NULL|     2.04|           NULL|      0.816|        NULL|          NULL|              NULL|          NULL|          NULL|          NULL|          NULL|           NULL|           NULL|           NULL|           NULL|           NULL|        NULL|            NULL|       NULL|                 NULL|       NULL|            NULL|          NULL|         NULL|        NULL|           NULL|     NULL|          NULL|     NULL|       NULL|          NULL|         NULL|         NULL|         NULL|           NULL|       NULL|         NULL|        NULL|   NULL|                       NULL|                             NULL|                                NULL|                                                 NULL|                            NULL|      NULL|           NULL|                 NULL|                                   NULL|                   NULL|                   NULL|               NULL|               NULL|        NULL|              NULL|            NULL|         NULL|          NULL|         NULL|        NULL|        NULL|\n",
       "|       178.0|http://world-en.o...|       kiliweb|1542456332|2018-11-17 13:05:32|     1542456333|   2018-11-17 13:05:33|            NULL|    1707606731|  2024-02-11 00:12:11|           Mini coco|                    NULL|        NULL|    NULL|     NULL|          NULL|        NULL|          NULL|         NULL|         NULL|                NULL|                NULL|                NULL|   NULL|        NULL|      NULL|                NULL|                     NULL|         NULL|            NULL|            NULL|     NULL|          NULL|                    NULL|  NULL|       NULL|           NULL|         NULL|          France|       en:france|       France|                NULL|                NULL|                     NULL|      NULL|        NULL|  NULL|       NULL|     NULL|        NULL|            NULL|             NULL|       NULL|     NULL|                NULL|                NULL|            NULL|         unknown|      NULL|             unknown|             unknown|                NULL|                NULL|                NULL|en:to-be-complete...|en:to-be-complete...|To be completed,N...|       NULL|          NULL|       unknown|                NULL|            NULL| NULL|                    NULL|             1|bottom-25-percent...|       0.275|  1542456333|2018-11-17 13:05:33|                NULL|                NULL|https://images.op...|https://images.op...| https://images.op...|       https://images.op...|                NULL|                     NULL|          NULL|            60.0|      251.0|                NULL|     3.0|               1.0|             NULL|             NULL|              NULL|            NULL|            NULL|              NULL|              NULL|             NULL|               NULL|             NULL|                NULL|             NULL|              NULL|              NULL|                NULL|                    NULL|            NULL|                    NULL|            NULL|            NULL|                     NULL|                      NULL|                     NULL|              NULL|                 NULL|                     NULL|                            NULL|           NULL|             NULL|             NULL|          NULL|            NULL|              NULL|          NULL|            NULL|              10.0|        3.0|             NULL|        NULL|        NULL|         NULL|        NULL|        NULL|              NULL|       NULL|        NULL|           NULL|      NULL|              NULL|                NULL|          2.0|       NULL|               NULL|            NULL|     1.15|           NULL|       0.46|        NULL|          NULL|              NULL|          NULL|          NULL|          NULL|          NULL|           NULL|           NULL|           NULL|           NULL|           NULL|        NULL|            NULL|       NULL|                 NULL|       NULL|            NULL|          NULL|         NULL|        NULL|           NULL|     NULL|          NULL|     NULL|       NULL|          NULL|         NULL|         NULL|         NULL|           NULL|       NULL|         NULL|        NULL|   NULL|                       NULL|                             NULL|                                NULL|                                                 NULL|                            NULL|      NULL|           NULL|                 NULL|                                   NULL|                   NULL|                   NULL|               NULL|               NULL|        NULL|              NULL|            NULL|         NULL|          NULL|         NULL|        NULL|        NULL|\n",
       "|       208.0|http://world-en.o...|       kiliweb|1544207680|2018-12-07 19:34:40|     1544207683|   2018-12-07 19:34:43|            NULL|    1707608166|  2024-02-11 00:36:06|Pistou d'ail des ...|                    NULL|        NULL|    NULL|     NULL|          NULL|        NULL|          NULL|         NULL|         NULL|                NULL|                NULL|                NULL|   NULL|        NULL|      NULL|                NULL|                     NULL|         NULL|            NULL|            NULL|     NULL|          NULL|                    NULL|  NULL|       NULL|           NULL|         NULL|          France|       en:france|       France|                NULL|                NULL|                     NULL|      NULL|        NULL|  NULL|       NULL|     NULL|        NULL|            NULL|             NULL|       NULL|     NULL|                NULL|                NULL|            NULL|         unknown|      NULL|             unknown|             unknown|                NULL|                NULL|                NULL|en:to-be-complete...|en:to-be-complete...|To be completed,N...|       NULL|          NULL|       unknown|                NULL|            NULL| NULL|                    NULL|             1|bottom-25-percent...|       0.175|  1544207682|2018-12-07 19:34:42|                NULL|                NULL|https://images.op...|https://images.op...| https://images.op...|       https://images.op...|                NULL|                     NULL|          NULL|            NULL|       NULL|                NULL|    NULL|              NULL|             NULL|             NULL|              NULL|            NULL|            NULL|              NULL|              NULL|             NULL|               NULL|             NULL|                NULL|             NULL|              NULL|              NULL|                NULL|                    NULL|            NULL|                    NULL|            NULL|            NULL|                     NULL|                      NULL|                     NULL|              NULL|                 NULL|                     NULL|                            NULL|           NULL|             NULL|             NULL|          NULL|            NULL|              NULL|          NULL|            NULL|              NULL|       NULL|             NULL|        NULL|        NULL|         NULL|        NULL|        NULL|              NULL|       NULL|        NULL|           NULL|      NULL|              NULL|                NULL|         NULL|       NULL|               NULL|            NULL|     NULL|           NULL|       NULL|        NULL|          NULL|              NULL|          NULL|          NULL|          NULL|          NULL|           NULL|           NULL|           NULL|           NULL|           NULL|        NULL|            NULL|       NULL|                 NULL|       NULL|            NULL|          NULL|         NULL|        NULL|           NULL|     NULL|          NULL|     NULL|       NULL|          NULL|         NULL|         NULL|         NULL|           NULL|       NULL|         NULL|        NULL|   NULL|                       NULL|                             NULL|                                NULL|                                                 NULL|                            NULL|      NULL|           NULL|                 NULL|                                   NULL|                   NULL|                   NULL|               NULL|               NULL|        NULL|              NULL|            NULL|         NULL|          NULL|         NULL|        NULL|        NULL|\n",
       "|        25.0|http://world-en.o...|       kiliweb|1689444820|2023-07-15 20:13:40|     1689444824|   2023-07-15 20:13:44|         kiliweb|    1707737169|  2024-02-12 12:26:09|Thé noir glacé pomme|                    NULL|        NULL|    NULL|     NULL|          NULL|        NULL|          NULL|         NULL|         NULL|                NULL|                NULL|                NULL|   NULL|        NULL|      NULL|                NULL|                     NULL|         NULL|            NULL|            NULL|     NULL|          NULL|                    NULL|  NULL|       NULL|           NULL|         NULL|           en:fr|       en:france|       France|                NULL|                NULL|                     NULL|      NULL|        NULL|  NULL|       NULL|     NULL|        NULL|            NULL|             NULL|       NULL|     NULL|                NULL|                NULL|            NULL|         unknown|      NULL|             unknown|             unknown|                NULL|                NULL|                NULL|en:to-be-complete...|en:to-be-complete...|To be completed,N...|       NULL|          NULL|       unknown|                NULL|            NULL| NULL|                    NULL|          NULL|                NULL|       0.275|  1689444824|2023-07-15 20:13:44|                NULL|                NULL|https://images.op...|https://images.op...|                 NULL|                       NULL|https://images.op...|     https://images.op...|          NULL|            52.0|      218.0|                NULL|     0.5|               0.1|             NULL|             NULL|              NULL|            NULL|            NULL|              NULL|              NULL|             NULL|               NULL|             NULL|                NULL|             NULL|              NULL|              NULL|                NULL|                    NULL|            NULL|                    NULL|            NULL|            NULL|                     NULL|                      NULL|                     NULL|              NULL|                 NULL|                     NULL|                            NULL|           NULL|             NULL|             NULL|          NULL|            NULL|              NULL|          NULL|            NULL|              12.0|       11.0|             NULL|        NULL|        NULL|         NULL|        NULL|        NULL|              NULL|       NULL|        NULL|           NULL|      NULL|              NULL|                NULL|          0.5|       NULL|               NULL|            NULL|     NULL|           NULL|       NULL|        NULL|          NULL|              NULL|          NULL|          NULL|          NULL|          NULL|           NULL|           NULL|           NULL|           NULL|           NULL|        NULL|            NULL|       NULL|                 NULL|       NULL|            NULL|          NULL|         NULL|        NULL|           NULL|     NULL|          NULL|     NULL|       NULL|          NULL|         NULL|         NULL|         NULL|           NULL|       NULL|         NULL|        NULL|   NULL|                       NULL|                             NULL|                                NULL|                                                 NULL|                            NULL|      NULL|           NULL|                 NULL|                                   NULL|                   NULL|                   NULL|               NULL|               NULL|        NULL|              NULL|            NULL|         NULL|          NULL|         NULL|        NULL|        NULL|\n",
       "|       284.0|http://world-en.o...|       kiliweb|1547120245|2019-01-10 12:37:25|     1563551052|   2019-07-19 17:44:12|            NULL|    1707610257|  2024-02-11 01:10:57|           Pain maïs|                    NULL|        NULL|    NULL|     NULL|          NULL|        NULL|          NULL|         NULL|         NULL|                NULL|                NULL|                NULL|   NULL|        NULL|      NULL|                NULL|                     NULL|         NULL|            NULL|            NULL|     NULL|          NULL|                    NULL|  NULL|       NULL|           NULL|         NULL|       en:france|       en:france|       France|                NULL|                NULL|                     NULL|      NULL|        NULL|  NULL|       NULL|     NULL|        NULL|            NULL|             NULL|       NULL|     NULL|                NULL|                NULL|            NULL|         unknown|      NULL|             unknown|             unknown|                NULL|                NULL|                NULL|en:to-be-complete...|en:to-be-complete...|To be completed,N...|       NULL|          NULL|       unknown|                NULL|            NULL| NULL|                    NULL|             2|top-75-percent-sc...|       0.175|  1547120246|2019-01-10 12:37:26|                NULL|                NULL|https://images.op...|https://images.op...| https://images.op...|       https://images.op...|                NULL|                     NULL|          NULL|            NULL|       NULL|                NULL|    NULL|              NULL|             NULL|             NULL|              NULL|            NULL|            NULL|              NULL|              NULL|             NULL|               NULL|             NULL|                NULL|             NULL|              NULL|              NULL|                NULL|                    NULL|            NULL|                    NULL|            NULL|            NULL|                     NULL|                      NULL|                     NULL|              NULL|                 NULL|                     NULL|                            NULL|           NULL|             NULL|             NULL|          NULL|            NULL|              NULL|          NULL|            NULL|              NULL|       NULL|             NULL|        NULL|        NULL|         NULL|        NULL|        NULL|              NULL|       NULL|        NULL|           NULL|      NULL|              NULL|                NULL|         NULL|       NULL|               NULL|            NULL|     NULL|           NULL|       NULL|        NULL|          NULL|              NULL|          NULL|          NULL|          NULL|          NULL|           NULL|           NULL|           NULL|           NULL|           NULL|        NULL|            NULL|       NULL|                 NULL|       NULL|            NULL|          NULL|         NULL|        NULL|           NULL|     NULL|          NULL|     NULL|       NULL|          NULL|         NULL|         NULL|         NULL|           NULL|       NULL|         NULL|        NULL|   NULL|                       NULL|                             NULL|                                NULL|                                                 NULL|                            NULL|      NULL|           NULL|                 NULL|                                   NULL|                   NULL|                   NULL|               NULL|               NULL|        NULL|              NULL|            NULL|         NULL|          NULL|         NULL|        NULL|        NULL|\n",
       "|       291.0|http://world-en.o...|       kiliweb|1534239669|2018-08-14 11:41:09|     1534239732|   2018-08-14 11:42:12|         kiliweb|    1707490057|  2024-02-09 15:47:37|           Mendiants|                    NULL|        NULL|    NULL|     NULL|          NULL|        NULL|          NULL|         NULL|         NULL|                NULL|                NULL|                NULL|   NULL|        NULL|      NULL|                NULL|                     NULL|         NULL|            NULL|            NULL|     NULL|          NULL|                    NULL|  NULL|       NULL|           NULL|         NULL|          France|       en:france|       France|                NULL|                NULL|                     NULL|      NULL|        NULL|  NULL|       NULL|     NULL|        NULL|            NULL|             NULL|       NULL|     NULL|                NULL|                NULL|            NULL|         unknown|      NULL|             unknown|             unknown|                NULL|                NULL|                NULL|en:to-be-complete...|en:to-be-complete...|To be completed,N...|       NULL|          NULL|       unknown|                NULL|            NULL| NULL|                    NULL|          NULL|                NULL|       0.175|  1534239684|2018-08-14 11:41:24|                NULL|                NULL|https://images.op...|https://images.op...| https://images.op...|       https://images.op...|                NULL|                     NULL|          NULL|            NULL|       NULL|                NULL|    NULL|              NULL|             NULL|             NULL|              NULL|            NULL|            NULL|              NULL|              NULL|             NULL|               NULL|             NULL|                NULL|             NULL|              NULL|              NULL|                NULL|                    NULL|            NULL|                    NULL|            NULL|            NULL|                     NULL|                      NULL|                     NULL|              NULL|                 NULL|                     NULL|                            NULL|           NULL|             NULL|             NULL|          NULL|            NULL|              NULL|          NULL|            NULL|              NULL|       NULL|             NULL|        NULL|        NULL|         NULL|        NULL|        NULL|              NULL|       NULL|        NULL|           NULL|      NULL|              NULL|                NULL|         NULL|       NULL|               NULL|            NULL|     NULL|           NULL|       NULL|        NULL|          NULL|              NULL|          NULL|          NULL|          NULL|          NULL|           NULL|           NULL|           NULL|           NULL|           NULL|        NULL|            NULL|       NULL|                 NULL|       NULL|            NULL|          NULL|         NULL|        NULL|           NULL|     NULL|          NULL|     NULL|       NULL|          NULL|         NULL|         NULL|         NULL|           NULL|       NULL|         NULL|        NULL|   NULL|                       NULL|                             NULL|                                NULL|                                                 NULL|                            NULL|      NULL|           NULL|                 NULL|                                   NULL|                   NULL|                   NULL|               NULL|               NULL|        NULL|              NULL|            NULL|         NULL|          NULL|         NULL|        NULL|        NULL|\n",
       "|        54.0|http://world-en.o...|       kiliweb|1582569031|2020-02-24 19:30:31|     1582569032|   2020-02-24 19:30:32|         kiliweb|    1707644939|  2024-02-11 10:48:59|Limonade artisana...|                    NULL|        NULL|    NULL|     NULL|          NULL|        NULL|          NULL|         NULL|         NULL|                NULL|                NULL|                NULL|   NULL|        NULL|      NULL|                NULL|                     NULL|         NULL|            NULL|            NULL|     NULL|          NULL|                    NULL|  NULL|       NULL|           NULL|         NULL|           en:fr|       en:france|       France|                NULL|                NULL|                     NULL|      NULL|        NULL|  NULL|       NULL|     NULL|        NULL|            NULL|             NULL|       NULL|     NULL|                NULL|                NULL|            NULL|         unknown|      NULL|             unknown|             unknown|                NULL|                NULL|                NULL|en:to-be-complete...|en:to-be-complete...|To be completed,N...|       NULL|          NULL|       unknown|                NULL|            NULL| NULL|                    NULL|          NULL|                NULL|      0.1625|  1582569031|2020-02-24 19:30:31|                NULL|                NULL|https://images.op...|https://images.op...|                 NULL|                       NULL|                NULL|                     NULL|          NULL|            NULL|       NULL|                NULL|    NULL|              NULL|             NULL|             NULL|              NULL|            NULL|            NULL|              NULL|              NULL|             NULL|               NULL|             NULL|                NULL|             NULL|              NULL|              NULL|                NULL|                    NULL|            NULL|                    NULL|            NULL|            NULL|                     NULL|                      NULL|                     NULL|              NULL|                 NULL|                     NULL|                            NULL|           NULL|             NULL|             NULL|          NULL|            NULL|              NULL|          NULL|            NULL|              NULL|       NULL|             NULL|        NULL|        NULL|         NULL|        NULL|        NULL|              NULL|       NULL|        NULL|           NULL|      NULL|              NULL|                NULL|         NULL|       NULL|               NULL|            NULL|     NULL|           NULL|       NULL|        NULL|          NULL|              NULL|          NULL|          NULL|          NULL|          NULL|           NULL|           NULL|           NULL|           NULL|           NULL|        NULL|            NULL|       NULL|                 NULL|       NULL|            NULL|          NULL|         NULL|        NULL|           NULL|     NULL|          NULL|     NULL|       NULL|          NULL|         NULL|         NULL|         NULL|           NULL|       NULL|         NULL|        NULL|   NULL|                       NULL|                             NULL|                                NULL|                                                 NULL|                            NULL|      NULL|           NULL|                 NULL|                                   NULL|                   NULL|                   NULL|               NULL|               NULL|        NULL|              NULL|            NULL|         NULL|          NULL|         NULL|        NULL|        NULL|\n",
       "|        63.0|http://world-en.o...|       kiliweb|1673620307|2023-01-13 15:31:47|     1673620309|   2023-01-13 15:31:49|         kiliweb|    1707739660|  2024-02-12 13:07:40|   Tablette Tanzanie|                    NULL|        NULL|    NULL|     NULL|          NULL|        NULL|          NULL|         NULL|         NULL|                NULL|                NULL|                NULL|   NULL|        NULL|      NULL|                NULL|                     NULL|         NULL|            NULL|            NULL|     NULL|          NULL|                    NULL|  NULL|       NULL|           NULL|         NULL|           en:fr|       en:france|       France|                NULL|                NULL|                     NULL|      NULL|        NULL|  NULL|       NULL|     NULL|        NULL|            NULL|             NULL|       NULL|     NULL|                NULL|                NULL|            NULL|         unknown|      NULL|             unknown|             unknown|                NULL|                NULL|                NULL|en:to-be-complete...|en:to-be-complete...|To be completed,N...|       NULL|          NULL|       unknown|                NULL|            NULL| NULL|                    NULL|          NULL|                NULL|      0.1625|  1673620309|2023-01-13 15:31:49|                NULL|                NULL|https://images.op...|https://images.op...|                 NULL|                       NULL|                NULL|                     NULL|          NULL|            NULL|       NULL|                NULL|    NULL|              NULL|             NULL|             NULL|              NULL|            NULL|            NULL|              NULL|              NULL|             NULL|               NULL|             NULL|                NULL|             NULL|              NULL|              NULL|                NULL|                    NULL|            NULL|                    NULL|            NULL|            NULL|                     NULL|                      NULL|                     NULL|              NULL|                 NULL|                     NULL|                            NULL|           NULL|             NULL|             NULL|          NULL|            NULL|              NULL|          NULL|            NULL|              NULL|       NULL|             NULL|        NULL|        NULL|         NULL|        NULL|        NULL|              NULL|       NULL|        NULL|           NULL|      NULL|              NULL|                NULL|         NULL|       NULL|               NULL|            NULL|     NULL|           NULL|       NULL|        NULL|          NULL|              NULL|          NULL|          NULL|          NULL|          NULL|           NULL|           NULL|           NULL|           NULL|           NULL|        NULL|            NULL|       NULL|                 NULL|       NULL|            NULL|          NULL|         NULL|        NULL|           NULL|     NULL|          NULL|     NULL|       NULL|          NULL|         NULL|         NULL|         NULL|           NULL|       NULL|         NULL|        NULL|   NULL|                       NULL|                             NULL|                                NULL|                                                 NULL|                            NULL|      NULL|           NULL|                 NULL|                                   NULL|                   NULL|                   NULL|               NULL|               NULL|        NULL|              NULL|            NULL|         NULL|          NULL|         NULL|        NULL|        NULL|\n",
       "+------------+--------------------+--------------+----------+-------------------+---------------+----------------------+----------------+--------------+---------------------+--------------------+------------------------+------------+--------+---------+--------------+------------+--------------+-------------+-------------+--------------------+--------------------+--------------------+-------+------------+----------+--------------------+-------------------------+-------------+----------------+----------------+---------+--------------+------------------------+------+-----------+---------------+-------------+----------------+----------------+-------------+--------------------+--------------------+-------------------------+----------+------------+------+-----------+---------+------------+----------------+-----------------+-----------+---------+--------------------+--------------------+----------------+----------------+----------+--------------------+--------------------+--------------------+--------------------+--------------------+--------------------+--------------------+--------------------+-----------+--------------+--------------+--------------------+----------------+-----+------------------------+--------------+--------------------+------------+------------+-------------------+--------------------+--------------------+--------------------+--------------------+---------------------+---------------------------+--------------------+-------------------------+--------------+----------------+-----------+--------------------+--------+------------------+-----------------+-----------------+------------------+----------------+----------------+------------------+------------------+-----------------+-------------------+-----------------+--------------------+-----------------+------------------+------------------+--------------------+------------------------+----------------+------------------------+----------------+----------------+-------------------------+--------------------------+-------------------------+------------------+---------------------+-------------------------+--------------------------------+---------------+-----------------+-----------------+--------------+----------------+------------------+--------------+----------------+------------------+-----------+-----------------+------------+------------+-------------+------------+------------+------------------+-----------+------------+---------------+----------+------------------+--------------------+-------------+-----------+-------------------+----------------+---------+---------------+-----------+------------+--------------+------------------+--------------+--------------+--------------+--------------+---------------+---------------+---------------+---------------+---------------+------------+----------------+-----------+---------------------+-----------+----------------+--------------+-------------+------------+---------------+---------+--------------+---------+-----------+--------------+-------------+-------------+-------------+---------------+-----------+-------------+------------+-------+---------------------------+---------------------------------+------------------------------------+-----------------------------------------------------+--------------------------------+----------+---------------+---------------------+---------------------------------------+-----------------------+-----------------------+-------------------+-------------------+------------+------------------+----------------+-------------+--------------+-------------+------------+------------+\n",
       "only showing top 20 rows"
      ]
     },
     "execution_count": 4,
     "metadata": {},
     "output_type": "execute_result"
    }
   ],
   "source": [
    "from pyspark.sql import SparkSession\n",
    "# Création de la session Spark\n",
    "spark = SparkSession.builder.appName(\"ERP-OpenProductFact\").master(\"local[1]\").getOrCreate()\n",
    "\n",
    "# Configuration pour afficher toutes les colonnes\n",
    "spark.conf.set(\"spark.sql.repl.eagerEval.enabled\", True)\n",
    "filePath=\"/home/sokhna/Téléchargements/en.openfoodfacts.org.products.csv\"\n",
    "# Charger les données CSV dans un DataFrame Spark\n",
    "df_openfoodfacts = spark.read.options(header=True, inferSchema=True, delimiter='\\t').csv(filePath)\n",
    "\n",
    "df_openfoodfacts"
   ]
  },
  {
   "cell_type": "markdown",
   "id": "f4dfd9cc-13a2-44ba-b246-68f9b69a3d3a",
   "metadata": {},
   "source": [
    "# 1.2) Informations sur les données\n",
    "Le fichier comporte 3085838 lignes et 206 colonnes. Le type de données varie entre type textuelle ou numérique.\n",
    "On a défini aussi une fonction **column_info** qui permet de donner les caractéristique d'une colonne spécifique.On a pris la colonne **code** comme exemple pour la tester."
   ]
  },
  {
   "cell_type": "code",
   "execution_count": 5,
   "id": "37faa06b-dc86-45d0-ab62-c27ef0e2ece6",
   "metadata": {},
   "outputs": [
    {
     "name": "stdout",
     "output_type": "stream",
     "text": [
      "root\n",
      " |-- code: double (nullable = true)\n",
      " |-- url: string (nullable = true)\n",
      " |-- creator: string (nullable = true)\n",
      " |-- created_t: integer (nullable = true)\n",
      " |-- created_datetime: timestamp (nullable = true)\n",
      " |-- last_modified_t: integer (nullable = true)\n",
      " |-- last_modified_datetime: timestamp (nullable = true)\n",
      " |-- last_modified_by: string (nullable = true)\n",
      " |-- last_updated_t: integer (nullable = true)\n",
      " |-- last_updated_datetime: timestamp (nullable = true)\n",
      " |-- product_name: string (nullable = true)\n",
      " |-- abbreviated_product_name: string (nullable = true)\n",
      " |-- generic_name: string (nullable = true)\n",
      " |-- quantity: string (nullable = true)\n",
      " |-- packaging: string (nullable = true)\n",
      " |-- packaging_tags: string (nullable = true)\n",
      " |-- packaging_en: string (nullable = true)\n",
      " |-- packaging_text: string (nullable = true)\n",
      " |-- brands: string (nullable = true)\n",
      " |-- brands_tags: string (nullable = true)\n",
      " |-- categories: string (nullable = true)\n",
      " |-- categories_tags: string (nullable = true)\n",
      " |-- categories_en: string (nullable = true)\n",
      " |-- origins: string (nullable = true)\n",
      " |-- origins_tags: string (nullable = true)\n",
      " |-- origins_en: string (nullable = true)\n",
      " |-- manufacturing_places: string (nullable = true)\n",
      " |-- manufacturing_places_tags: string (nullable = true)\n",
      " |-- labels: string (nullable = true)\n",
      " |-- labels_tags: string (nullable = true)\n",
      " |-- labels_en: string (nullable = true)\n",
      " |-- emb_codes: string (nullable = true)\n",
      " |-- emb_codes_tags: string (nullable = true)\n",
      " |-- first_packaging_code_geo: string (nullable = true)\n",
      " |-- cities: string (nullable = true)\n",
      " |-- cities_tags: string (nullable = true)\n",
      " |-- purchase_places: string (nullable = true)\n",
      " |-- stores: string (nullable = true)\n",
      " |-- countries: string (nullable = true)\n",
      " |-- countries_tags: string (nullable = true)\n",
      " |-- countries_en: string (nullable = true)\n",
      " |-- ingredients_text: string (nullable = true)\n",
      " |-- ingredients_tags: string (nullable = true)\n",
      " |-- ingredients_analysis_tags: string (nullable = true)\n",
      " |-- allergens: string (nullable = true)\n",
      " |-- allergens_en: string (nullable = true)\n",
      " |-- traces: string (nullable = true)\n",
      " |-- traces_tags: string (nullable = true)\n",
      " |-- traces_en: string (nullable = true)\n",
      " |-- serving_size: string (nullable = true)\n",
      " |-- serving_quantity: double (nullable = true)\n",
      " |-- no_nutrition_data: string (nullable = true)\n",
      " |-- additives_n: integer (nullable = true)\n",
      " |-- additives: string (nullable = true)\n",
      " |-- additives_tags: string (nullable = true)\n",
      " |-- additives_en: string (nullable = true)\n",
      " |-- nutriscore_score: integer (nullable = true)\n",
      " |-- nutriscore_grade: string (nullable = true)\n",
      " |-- nova_group: integer (nullable = true)\n",
      " |-- pnns_groups_1: string (nullable = true)\n",
      " |-- pnns_groups_2: string (nullable = true)\n",
      " |-- food_groups: string (nullable = true)\n",
      " |-- food_groups_tags: string (nullable = true)\n",
      " |-- food_groups_en: string (nullable = true)\n",
      " |-- states: string (nullable = true)\n",
      " |-- states_tags: string (nullable = true)\n",
      " |-- states_en: string (nullable = true)\n",
      " |-- brand_owner: string (nullable = true)\n",
      " |-- ecoscore_score: double (nullable = true)\n",
      " |-- ecoscore_grade: string (nullable = true)\n",
      " |-- nutrient_levels_tags: string (nullable = true)\n",
      " |-- product_quantity: double (nullable = true)\n",
      " |-- owner: string (nullable = true)\n",
      " |-- data_quality_errors_tags: string (nullable = true)\n",
      " |-- unique_scans_n: integer (nullable = true)\n",
      " |-- popularity_tags: string (nullable = true)\n",
      " |-- completeness: double (nullable = true)\n",
      " |-- last_image_t: integer (nullable = true)\n",
      " |-- last_image_datetime: timestamp (nullable = true)\n",
      " |-- main_category: string (nullable = true)\n",
      " |-- main_category_en: string (nullable = true)\n",
      " |-- image_url: string (nullable = true)\n",
      " |-- image_small_url: string (nullable = true)\n",
      " |-- image_ingredients_url: string (nullable = true)\n",
      " |-- image_ingredients_small_url: string (nullable = true)\n",
      " |-- image_nutrition_url: string (nullable = true)\n",
      " |-- image_nutrition_small_url: string (nullable = true)\n",
      " |-- energy-kj_100g: double (nullable = true)\n",
      " |-- energy-kcal_100g: double (nullable = true)\n",
      " |-- energy_100g: double (nullable = true)\n",
      " |-- energy-from-fat_100g: double (nullable = true)\n",
      " |-- fat_100g: double (nullable = true)\n",
      " |-- saturated-fat_100g: double (nullable = true)\n",
      " |-- butyric-acid_100g: double (nullable = true)\n",
      " |-- caproic-acid_100g: double (nullable = true)\n",
      " |-- caprylic-acid_100g: double (nullable = true)\n",
      " |-- capric-acid_100g: double (nullable = true)\n",
      " |-- lauric-acid_100g: double (nullable = true)\n",
      " |-- myristic-acid_100g: double (nullable = true)\n",
      " |-- palmitic-acid_100g: double (nullable = true)\n",
      " |-- stearic-acid_100g: double (nullable = true)\n",
      " |-- arachidic-acid_100g: double (nullable = true)\n",
      " |-- behenic-acid_100g: double (nullable = true)\n",
      " |-- lignoceric-acid_100g: double (nullable = true)\n",
      " |-- cerotic-acid_100g: double (nullable = true)\n",
      " |-- montanic-acid_100g: double (nullable = true)\n",
      " |-- melissic-acid_100g: double (nullable = true)\n",
      " |-- unsaturated-fat_100g: double (nullable = true)\n",
      " |-- monounsaturated-fat_100g: double (nullable = true)\n",
      " |-- omega-9-fat_100g: double (nullable = true)\n",
      " |-- polyunsaturated-fat_100g: double (nullable = true)\n",
      " |-- omega-3-fat_100g: double (nullable = true)\n",
      " |-- omega-6-fat_100g: double (nullable = true)\n",
      " |-- alpha-linolenic-acid_100g: double (nullable = true)\n",
      " |-- eicosapentaenoic-acid_100g: double (nullable = true)\n",
      " |-- docosahexaenoic-acid_100g: double (nullable = true)\n",
      " |-- linoleic-acid_100g: double (nullable = true)\n",
      " |-- arachidonic-acid_100g: double (nullable = true)\n",
      " |-- gamma-linolenic-acid_100g: double (nullable = true)\n",
      " |-- dihomo-gamma-linolenic-acid_100g: double (nullable = true)\n",
      " |-- oleic-acid_100g: double (nullable = true)\n",
      " |-- elaidic-acid_100g: double (nullable = true)\n",
      " |-- gondoic-acid_100g: double (nullable = true)\n",
      " |-- mead-acid_100g: double (nullable = true)\n",
      " |-- erucic-acid_100g: double (nullable = true)\n",
      " |-- nervonic-acid_100g: double (nullable = true)\n",
      " |-- trans-fat_100g: double (nullable = true)\n",
      " |-- cholesterol_100g: double (nullable = true)\n",
      " |-- carbohydrates_100g: double (nullable = true)\n",
      " |-- sugars_100g: double (nullable = true)\n",
      " |-- added-sugars_100g: double (nullable = true)\n",
      " |-- sucrose_100g: double (nullable = true)\n",
      " |-- glucose_100g: double (nullable = true)\n",
      " |-- fructose_100g: double (nullable = true)\n",
      " |-- lactose_100g: double (nullable = true)\n",
      " |-- maltose_100g: double (nullable = true)\n",
      " |-- maltodextrins_100g: double (nullable = true)\n",
      " |-- starch_100g: double (nullable = true)\n",
      " |-- polyols_100g: double (nullable = true)\n",
      " |-- erythritol_100g: double (nullable = true)\n",
      " |-- fiber_100g: double (nullable = true)\n",
      " |-- soluble-fiber_100g: double (nullable = true)\n",
      " |-- insoluble-fiber_100g: double (nullable = true)\n",
      " |-- proteins_100g: double (nullable = true)\n",
      " |-- casein_100g: double (nullable = true)\n",
      " |-- serum-proteins_100g: double (nullable = true)\n",
      " |-- nucleotides_100g: double (nullable = true)\n",
      " |-- salt_100g: double (nullable = true)\n",
      " |-- added-salt_100g: double (nullable = true)\n",
      " |-- sodium_100g: double (nullable = true)\n",
      " |-- alcohol_100g: double (nullable = true)\n",
      " |-- vitamin-a_100g: double (nullable = true)\n",
      " |-- beta-carotene_100g: double (nullable = true)\n",
      " |-- vitamin-d_100g: double (nullable = true)\n",
      " |-- vitamin-e_100g: double (nullable = true)\n",
      " |-- vitamin-k_100g: double (nullable = true)\n",
      " |-- vitamin-c_100g: double (nullable = true)\n",
      " |-- vitamin-b1_100g: double (nullable = true)\n",
      " |-- vitamin-b2_100g: double (nullable = true)\n",
      " |-- vitamin-pp_100g: double (nullable = true)\n",
      " |-- vitamin-b6_100g: double (nullable = true)\n",
      " |-- vitamin-b9_100g: double (nullable = true)\n",
      " |-- folates_100g: double (nullable = true)\n",
      " |-- vitamin-b12_100g: double (nullable = true)\n",
      " |-- biotin_100g: double (nullable = true)\n",
      " |-- pantothenic-acid_100g: double (nullable = true)\n",
      " |-- silica_100g: double (nullable = true)\n",
      " |-- bicarbonate_100g: double (nullable = true)\n",
      " |-- potassium_100g: double (nullable = true)\n",
      " |-- chloride_100g: double (nullable = true)\n",
      " |-- calcium_100g: double (nullable = true)\n",
      " |-- phosphorus_100g: double (nullable = true)\n",
      " |-- iron_100g: double (nullable = true)\n",
      " |-- magnesium_100g: double (nullable = true)\n",
      " |-- zinc_100g: double (nullable = true)\n",
      " |-- copper_100g: double (nullable = true)\n",
      " |-- manganese_100g: double (nullable = true)\n",
      " |-- fluoride_100g: double (nullable = true)\n",
      " |-- selenium_100g: double (nullable = true)\n",
      " |-- chromium_100g: double (nullable = true)\n",
      " |-- molybdenum_100g: double (nullable = true)\n",
      " |-- iodine_100g: double (nullable = true)\n",
      " |-- caffeine_100g: double (nullable = true)\n",
      " |-- taurine_100g: double (nullable = true)\n",
      " |-- ph_100g: double (nullable = true)\n",
      " |-- fruits-vegetables-nuts_100g: double (nullable = true)\n",
      " |-- fruits-vegetables-nuts-dried_100g: double (nullable = true)\n",
      " |-- fruits-vegetables-nuts-estimate_100g: double (nullable = true)\n",
      " |-- fruits-vegetables-nuts-estimate-from-ingredients_100g: double (nullable = true)\n",
      " |-- collagen-meat-protein-ratio_100g: double (nullable = true)\n",
      " |-- cocoa_100g: double (nullable = true)\n",
      " |-- chlorophyl_100g: double (nullable = true)\n",
      " |-- carbon-footprint_100g: double (nullable = true)\n",
      " |-- carbon-footprint-from-meat-or-fish_100g: double (nullable = true)\n",
      " |-- nutrition-score-fr_100g: integer (nullable = true)\n",
      " |-- nutrition-score-uk_100g: integer (nullable = true)\n",
      " |-- glycemic-index_100g: double (nullable = true)\n",
      " |-- water-hardness_100g: double (nullable = true)\n",
      " |-- choline_100g: double (nullable = true)\n",
      " |-- phylloquinone_100g: double (nullable = true)\n",
      " |-- beta-glucan_100g: double (nullable = true)\n",
      " |-- inositol_100g: double (nullable = true)\n",
      " |-- carnitine_100g: double (nullable = true)\n",
      " |-- sulphate_100g: double (nullable = true)\n",
      " |-- nitrate_100g: double (nullable = true)\n",
      " |-- acidity_100g: double (nullable = true)\n",
      "\n"
     ]
    }
   ],
   "source": [
    "# Affichage du schéma des données\n",
    "df_openfoodfacts.printSchema()"
   ]
  },
  {
   "cell_type": "code",
   "execution_count": 6,
   "id": "e265afe1-2175-416a-952e-e84768a7f390",
   "metadata": {},
   "outputs": [
    {
     "name": "stderr",
     "output_type": "stream",
     "text": [
      "[Stage 4:=======================================================> (66 + 1) / 68]\r"
     ]
    },
    {
     "name": "stdout",
     "output_type": "stream",
     "text": [
      "Nombre total de lignes : 3085838\n",
      "Nombre total de colonnes : 206\n"
     ]
    },
    {
     "name": "stderr",
     "output_type": "stream",
     "text": [
      "                                                                                \r"
     ]
    }
   ],
   "source": [
    "# Nombre total de lignes\n",
    "total_rows = df_openfoodfacts.count()\n",
    "print(\"Nombre total de lignes :\", total_rows)\n",
    "# Nombre total de colonnes\n",
    "total_columns = len(df_openfoodfacts.columns)\n",
    "print(\"Nombre total de colonnes :\", total_columns)"
   ]
  },
  {
   "cell_type": "code",
   "execution_count": 7,
   "id": "19988af2-15bd-4600-b433-85f236e14f7f",
   "metadata": {},
   "outputs": [
    {
     "name": "stdout",
     "output_type": "stream",
     "text": [
      "Informations pour la colonne : code\n"
     ]
    },
    {
     "name": "stderr",
     "output_type": "stream",
     "text": [
      "[Stage 7:========================================================>(67 + 1) / 68]\r"
     ]
    },
    {
     "name": "stdout",
     "output_type": "stream",
     "text": [
      "+-------+--------------------+\n",
      "|summary|                code|\n",
      "+-------+--------------------+\n",
      "|  count|             3085838|\n",
      "|   mean|4.848224249563991E49|\n",
      "| stddev|6.072651250257753E52|\n",
      "|    min|                 1.0|\n",
      "|    max|8.450851484235123E55|\n",
      "+-------+--------------------+\n",
      "\n"
     ]
    },
    {
     "name": "stderr",
     "output_type": "stream",
     "text": [
      "                                                                                \r"
     ]
    }
   ],
   "source": [
    "# Demande information pour une colonne spécifique\n",
    "def column_info(column_name):\n",
    "  \n",
    "    # Vérification si la colonne existe\n",
    "    if column_name in df_openfoodfacts.columns:\n",
    "        # Affichage des informations de la colonne\n",
    "        print(\"Informations pour la colonne :\", column_name)\n",
    "        df_openfoodfacts.select(column_name).describe().show()\n",
    "    else:\n",
    "        print(\"La colonne\", column_name, \"n'existe pas dans le DataFrame.\")\n",
    "\n",
    "# Exemple la colonne code\n",
    "column_info(\"code\")"
   ]
  },
  {
   "cell_type": "markdown",
   "id": "334650fa-73d1-4b64-9ed8-9db0518c4d94",
   "metadata": {},
   "source": [
    "# 2) Nettoyage des données\n",
    "\n",
    "# 2.1) Sélection des Colonnes Utiles :\n",
    "\n",
    "Initialement, nous avons entrepris de nettoyer les données en éliminant toutes les lignes comportant des valeurs NULL. Cependant, nous avons rapidement constaté que l'intégralité du fichier contenait des valeurs NULL, aboutissant ainsi à un tableau vide. Nous avons donc dû explorer une autre approche. Par conséquent, nous avons opté pour la sélection des colonnes pertinentes. Nous avons identifié et conservé uniquement les colonnes jugées essentielles pour répondre à nos besoins. Celles-ci incluent le code produit, le nom du produit, le pays d'origine, le grade nutriscore et les informations nutritionnelles telles que l'énergie, les lipides, les glucides, les protéines et le sel.\n",
    "\n",
    "# 2.2) Suppression des Données Manquantes ou Incomplètes :\n",
    "\n",
    "Nous avons employé des transformations Spark pour filtrer les lignes du DataFrame relatives aux produits alimentaires pour lesquels des informations essentielles étaient absentes ou incomplètes. Cela inclut les produits sans nom ou sans données nutritionnelles significatives. Nous avons choisi de conserver la valeur \"unknown\" pour le nutriscore, car nous avons jugé que cette information n'était pas indispensable mais pouvait être bénéfique si elle était disponible.\n",
    "\n",
    "# 2.3) Filtrage des Valeurs Aberrantes :\n",
    "\n",
    "En exploitant les capacités de traitement distribué d'Apache Spark, nous avons identifié et éliminé les valeurs aberrantes dans les données, en particulier pour les composantes nutritionnelles telles que les lipides, les glucides, les protéines, etc. Les valeurs extrêmes ou peu plausibles ont été filtrées pour garantir la qualité des données. Apres filtrations on retrouve avec 802700 lignes et 9 colonnes.\n"
   ]
  },
  {
   "cell_type": "code",
   "execution_count": 20,
   "id": "7d2309c2-4d6d-40af-9f55-724478ec432e",
   "metadata": {},
   "outputs": [],
   "source": [
    "# Sélection des colonnes à conserver\n",
    "columns_to_keep = [\"code\", \"product_name\", \"countries_en\", \"nutriscore_grade\", \"energy_100g\", \"fat_100g\",\n",
    "                     \"carbohydrates_100g\", \"proteins_100g\", \"salt_100g\"]\n",
    "\n",
    "# Sélection des colonnes dans le DataFrame\n",
    "df_openfoodfacts = df_openfoodfacts.select(*colonnes_a_garder)\n"
   ]
  },
  {
   "cell_type": "code",
   "execution_count": 21,
   "id": "af7e59ae-6183-4664-b152-80eeee5bbd02",
   "metadata": {},
   "outputs": [],
   "source": [
    "    # Suppression les lignes avec des valeurs manquantes ou mal formatées\n",
    "    df_openfoodfacts = open_food_facts_data.filter(\n",
    "        col(\"product_name\").isNotNull() &\n",
    "        col(\"countries_en\").isNotNull() &\n",
    "        col(\"nutriscore_grade\").isNotNull() &\n",
    "        col(\"energy_100g\").isNotNull() &\n",
    "        col(\"fat_100g\").isNotNull() &\n",
    "        col(\"carbohydrates_100g\").isNotNull() &\n",
    "        col(\"proteins_100g\").isNotNull() &\n",
    "        col(\"salt_100g\").isNotNull()\n",
    "    )"
   ]
  },
  {
   "cell_type": "code",
   "execution_count": 42,
   "id": "0148afc8-c0b1-4ee2-b677-eb40bc4b4f18",
   "metadata": {},
   "outputs": [],
   "source": [
    "# Convertir les colonnes pertinentes en type double pour effectuer des calculs\n",
    "for column in columns_to_keep:\n",
    "    if df_openfoodfacts.schema[column].dataType.simpleString() == \"string\":\n",
    "        continue\n",
    "    df_openfoodfacts = df_openfoodfacts.withColumn(column, col(column).cast(\"double\"))\n"
   ]
  },
  {
   "cell_type": "code",
   "execution_count": 43,
   "id": "5f9e4e81-6e89-440a-992e-78677b7dc5ff",
   "metadata": {},
   "outputs": [],
   "source": [
    "# Définir les bornes acceptables pour chaque colonne\n",
    "min_values = [1, 0, 0, 0, 0, 0]  # bornes minimales\n",
    "max_values = [900, 100, 100, 100, 100, 100]  # bornes maximales\n"
   ]
  },
  {
   "cell_type": "code",
   "execution_count": 44,
   "id": "2e2333e6-7b26-4512-a453-77e37d686085",
   "metadata": {},
   "outputs": [],
   "source": [
    "# Filtrage des lignes contenant des valeurs aberrantes\n",
    "for i, column in enumerate(columns_to_keep[4:], start=4):\n",
    "    min_value = min_values[i - 4]\n",
    "    max_value = max_values[i - 4]\n",
    "    df_openfoodfacts = df_openfoodfacts.filter((col(column) >= min_value) & (col(column) <= max_value))\n"
   ]
  },
  {
   "cell_type": "code",
   "execution_count": 46,
   "id": "f0ca558a-f60d-4308-9111-b8156799e637",
   "metadata": {},
   "outputs": [
    {
     "name": "stderr",
     "output_type": "stream",
     "text": [
      "[Stage 33:======================================================> (66 + 1) / 68]\r"
     ]
    },
    {
     "name": "stdout",
     "output_type": "stream",
     "text": [
      "Après le nettoyage, le dataset compte 802700 lignes et 9 colonnes.\n"
     ]
    },
    {
     "name": "stderr",
     "output_type": "stream",
     "text": [
      "                                                                                \r"
     ]
    }
   ],
   "source": [
    " # Nombre de lignes après filtrage\n",
    "row_count_after = df_openfoodfacts.count()\n",
    "# Nombre de colonnes après filtrage\n",
    "column_count_after = len(df_openfoodfacts.columns)\n",
    "print(f\"Après le nettoyage, le dataset compte {row_count_after} lignes et {column_count_after} colonnes.\")\n"
   ]
  },
  {
   "cell_type": "code",
   "execution_count": 47,
   "id": "741639fb-5cb9-43fc-949d-192ba70226d8",
   "metadata": {},
   "outputs": [
    {
     "name": "stdout",
     "output_type": "stream",
     "text": [
      "+-----------+--------------------+------------+----------------+-----------+--------+------------------+-------------+---------+\n",
      "|       code|        product_name|countries_en|nutriscore_grade|energy_100g|fat_100g|carbohydrates_100g|proteins_100g|salt_100g|\n",
      "+-----------+--------------------+------------+----------------+-----------+--------+------------------+-------------+---------+\n",
      "|2.6772226E7|                Skyr|      France|               a|      238.0|     0.2|               3.9|         10.0|     0.09|\n",
      "|      123.0|Sauce Sweety chil...|      France|         unknown|       88.0|     0.0|               4.8|          0.2|     2.04|\n",
      "|      178.0|           Mini coco|      France|         unknown|      251.0|     3.0|              10.0|          2.0|     1.15|\n",
      "|       80.0|    Pur jus de pomme|      France|               d|      264.0|     0.0|              15.5|          0.2|      0.0|\n",
      "|      949.0|Salade de carotte...|      France|               a|      134.0|     0.3|               5.3|          0.9|     0.42|\n",
      "|      970.0|Fromage blanc aux...|      France|         unknown|      540.0|     4.9|              16.3|          4.4|     0.25|\n",
      "|      112.0|     Iogurt de cabra|       Spain|         unknown|      305.0|     4.3|               4.3|          3.3|      0.1|\n",
      "|     1311.0|Salade de fruits ...|      France|         unknown|      418.0|     0.0|              24.0|          0.0|      3.2|\n",
      "|     1328.0|    Chouquettes x 30|      France|         unknown|      657.0|    21.0|              39.0|          7.8|      1.5|\n",
      "|     1564.0| Fromage blanc pêche|      France|         unknown|      410.0|     3.3|               7.6|          4.6|    0.027|\n",
      "|      186.0|  Yaourt au chocolat|      France|         unknown|      494.0|     4.3|              17.1|          2.7|      0.1|\n",
      "|     1885.0|    Compote de poire|      France|               a|      657.0|     0.0|              36.0|          0.6|      0.0|\n",
      "|     2042.0|    Paëlla de poulet|      France|         unknown|      640.0|     9.1|               9.2|          8.3|      2.8|\n",
      "|     2219.0|  Salade shaker chef|      France|         unknown|      301.0|     2.2|               5.2|          7.0|     0.18|\n",
      "|     2257.0|Salade de macedoi...|      France|               b|      598.0|    12.7|               3.9|          1.9|     0.27|\n",
      "|     2264.0|   Baguette Poitevin|      France|         unknown|      866.0|     6.7|              27.5|          8.9|      0.4|\n",
      "|     2363.0|        Suedois thon|      France|         unknown|      678.0|     3.7|              20.7|          9.1|    0.194|\n",
      "|     2400.0|     Ciabatta Bombay|      France|         unknown|      728.0|     2.3|              29.3|          8.9|    0.531|\n",
      "|     3018.0|       Salade tomate|      France|         unknown|       75.0|     0.2|               2.2|          0.9|      5.0|\n",
      "|     3384.0|Mousse chocolat d...|      France|         unknown|      707.0|     5.6|              22.7|          5.8|    0.443|\n",
      "+-----------+--------------------+------------+----------------+-----------+--------+------------------+-------------+---------+\n",
      "only showing top 20 rows\n",
      "\n"
     ]
    }
   ],
   "source": [
    "# Affichage des 20 premières lignes du tableau\n",
    "df_openfoodfacts.show()"
   ]
  },
  {
   "cell_type": "markdown",
   "id": "ef2fc2ec-a585-4701-a79d-62246a831d0d",
   "metadata": {},
   "source": [
    "# 3) Création des fichiers CSV utilisateurs et régimes\n",
    "Nous avons créé deux fichiers :\n",
    "\n",
    "# a. regimes_nutritionnels: \n",
    "ce fichier représente une table de référence pour différents régimes alimentaires avec des seuils recommandés pour certaines valeurs nutritionnelles. Chaque ligne correspond à un régime spécifique avec des valeurs maximales recommandées pour les nutriments tels que les glucides, les protéines, les lipides et les calories.\n",
    "  Ce fichier compose les colonnes suivantes:\n",
    "  \n",
    "  - **régime**: Cette colonne représente le nom du régime alimentaire. Chaque ligne correspond à un régime spécifique, par exemple, \"FODMAP\", \"Mediterraneen\", \"Paleo\", etc.\n",
    "  - **max_glucides_g**: Cette colonne indique la quantité maximale recommandée de glucides (en grammes) par jour pour une personne suivant ce régime alimentaire.\n",
    "  - **max_proteines_g**: Cette colonne indique la quantité maximale recommandée de protéines (en grammes) par jour pour une personne suivant ce régime alimentaire.\n",
    "  - **max_lipides_g**: Cette colonne indique la quantité maximale recommandée de lipides (en grammes) par jour pour une personne suivant ce régime alimentaire.\n",
    "  - **max_calories**: Cette colonne indique la quantité maximale recommandée de calories par jour pour une personne suivant ce régime alimentaire.\n",
    "  \n",
    "  Ce fichier est utilisé dans notre application Spark pour définir les critères de seuils lors de la génération d'un menu alimentaire personnalisé en fonction du régime alimentaire d'un utilisateur. Les colonnes de ce fichier sont sélectionnées et utilisées lors de la jointure avec les données des utilisateurs pour créer un menu personnalisé respectant les recommandations nutritionnelles spécifiques à chaque régime.\n",
    "# b. utilisateurs_regimes: \n",
    "Le fichier représente une table d'utilisateurs avec des informations telles que l'identifiant utilisateur, l'âge, le sexe, le poids et le régime alimentaire suivi par chaque utilisateur.\n",
    "  Les colonnes sont les suivantes :\n",
    "  \n",
    "  - **utilisateur_id**: Cette colonne représente un identifiant unique pour chaque utilisateur. Chaque ligne a un identifiant utilisateur différent.\n",
    "  - **age**: Cette colonne indique l'âge de l'utilisateur.\n",
    "  - **sexe**: Cette colonne représente le sexe de l'utilisateur, généralement \"M\" pour masculin et \"F\" pour féminin.\n",
    "  - **poids**: Cette colonne indique le poids de l'utilisateur.\n",
    "  - **regime_alimentaire**: Cette colonne indique le régime alimentaire suivi par l'utilisateur. Les valeurs peuvent être, par exemple, \"Vegetarien\", \"Cetogene\", \"Vegan\", etc.\n",
    "  \n",
    "  Ces informations sur les utilisateurs sont utilisées dans notre application Spark pour personnaliser les menus alimentaires en fonction des préférences et des besoins nutritionnels de chaque utilisateur. Lorsque nous générons le menu hebdomadaire, nous pouvons utiliser ces informations pour appliquer des filtres spécifiques basés sur le régime alimentaire de chaque utilisateur, en veillant à respecter les seuils recommandés pour les nutriments spécifiés dans le fichier de régimes alimentaires.\n"
   ]
  },
  {
   "cell_type": "code",
   "execution_count": 48,
   "id": "3ecdab01-75bc-4532-a529-869fdf46b986",
   "metadata": {},
   "outputs": [
    {
     "data": {
      "text/html": [
       "<table border='1'>\n",
       "<tr><th>utilisateur_id</th><th>age</th><th>sexe</th><th>poids</th><th>regime_alimentaire</th></tr>\n",
       "<tr><td>1</td><td>30</td><td>M</td><td>70</td><td>Vegetarien</td></tr>\n",
       "<tr><td>2</td><td>25</td><td>F</td><td>65</td><td>Cetogene</td></tr>\n",
       "<tr><td>3</td><td>40</td><td>M</td><td>80</td><td>Vegan</td></tr>\n",
       "<tr><td>4</td><td>35</td><td>F</td><td>60</td><td>Mediterraneen</td></tr>\n",
       "<tr><td>5</td><td>28</td><td>M</td><td>75</td><td>DASH</td></tr>\n",
       "<tr><td>6</td><td>45</td><td>F</td><td>68</td><td>FODMAP</td></tr>\n",
       "<tr><td>7</td><td>32</td><td>M</td><td>85</td><td>Low_Carb</td></tr>\n",
       "<tr><td>8</td><td>27</td><td>F</td><td>62</td><td>Paleo</td></tr>\n",
       "<tr><td>9</td><td>38</td><td>M</td><td>78</td><td>Weight_Watchers</td></tr>\n",
       "<tr><td>10</td><td>29</td><td>F</td><td>70</td><td>Zone</td></tr>\n",
       "<tr><td>11</td><td>33</td><td>M</td><td>72</td><td>Low_FODMAP</td></tr>\n",
       "<tr><td>12</td><td>31</td><td>F</td><td>68</td><td>Mediterraneen_Mod...</td></tr>\n",
       "<tr><td>13</td><td>29</td><td>M</td><td>80</td><td>Dash_Moderne</td></tr>\n",
       "<tr><td>14</td><td>36</td><td>F</td><td>65</td><td>Proteine_Pure</td></tr>\n",
       "<tr><td>15</td><td>30</td><td>M</td><td>75</td><td>Sans_gluten</td></tr>\n",
       "<tr><td>16</td><td>32</td><td>M</td><td>60</td><td>Alcalin</td></tr>\n",
       "</table>\n"
      ],
      "text/plain": [
       "+--------------+---+----+-----+--------------------+\n",
       "|utilisateur_id|age|sexe|poids|  regime_alimentaire|\n",
       "+--------------+---+----+-----+--------------------+\n",
       "|             1| 30|   M|   70|          Vegetarien|\n",
       "|             2| 25|   F|   65|            Cetogene|\n",
       "|             3| 40|   M|   80|               Vegan|\n",
       "|             4| 35|   F|   60|       Mediterraneen|\n",
       "|             5| 28|   M|   75|                DASH|\n",
       "|             6| 45|   F|   68|              FODMAP|\n",
       "|             7| 32|   M|   85|            Low_Carb|\n",
       "|             8| 27|   F|   62|               Paleo|\n",
       "|             9| 38|   M|   78|     Weight_Watchers|\n",
       "|            10| 29|   F|   70|                Zone|\n",
       "|            11| 33|   M|   72|          Low_FODMAP|\n",
       "|            12| 31|   F|   68|Mediterraneen_Mod...|\n",
       "|            13| 29|   M|   80|        Dash_Moderne|\n",
       "|            14| 36|   F|   65|       Proteine_Pure|\n",
       "|            15| 30|   M|   75|         Sans_gluten|\n",
       "|            16| 32|   M|   60|             Alcalin|\n",
       "+--------------+---+----+-----+--------------------+"
      ]
     },
     "execution_count": 48,
     "metadata": {},
     "output_type": "execute_result"
    }
   ],
   "source": [
    "    # Chargement des données des utilisateurs depuis le lien CSV\n",
    "    utilisateurs_data = spark.read.format(\"csv\") \\\n",
    "        .option(\"header\", \"true\") \\\n",
    "        .option(\"delimiter\", \",\") \\\n",
    "        .option(\"encoding\", \"UTF-8\") \\\n",
    "        .load(\"/home/sokhna/Téléchargements/utilisateurs_regimes.csv\")\n",
    "utilisateurs_data"
   ]
  },
  {
   "cell_type": "code",
   "execution_count": 49,
   "id": "8fcf7ea0-c782-46bd-95c9-3db7218db4da",
   "metadata": {},
   "outputs": [
    {
     "data": {
      "text/html": [
       "<table border='1'>\n",
       "<tr><th>regime</th><th>max_glucides_g</th><th>max_proteines_g</th><th>max_lipides_g</th><th>max_calories</th></tr>\n",
       "<tr><td>FODMAP</td><td>50</td><td>30</td><td>20</td><td>200</td></tr>\n",
       "<tr><td>Mediterraneen</td><td>50</td><td>30</td><td>20</td><td>201</td></tr>\n",
       "<tr><td>Paleo</td><td>40</td><td>25</td><td>35</td><td>1800</td></tr>\n",
       "<tr><td>Vegetarien</td><td>55</td><td>25</td><td>25</td><td>2000</td></tr>\n",
       "<tr><td>Cetogene</td><td>10</td><td>70</td><td>80</td><td>1500</td></tr>\n",
       "<tr><td>Vegan</td><td>50</td><td>30</td><td>20</td><td>2000</td></tr>\n",
       "<tr><td>DASH</td><td>60</td><td>20</td><td>25</td><td>2200</td></tr>\n",
       "<tr><td>Weight_Watchers</td><td>40</td><td>25</td><td>25</td><td>1800</td></tr>\n",
       "<tr><td>Sans_gluten</td><td>50</td><td>30</td><td>20</td><td>208</td></tr>\n",
       "<tr><td>Alcalin</td><td>50</td><td>20</td><td>30</td><td>2000</td></tr>\n",
       "<tr><td>Sans_gluten</td><td>50</td><td>30</td><td>20</td><td>210</td></tr>\n",
       "<tr><td>Zone</td><td>40</td><td>30</td><td>30</td><td>2000</td></tr>\n",
       "<tr><td>Low_Carb</td><td>30</td><td>40</td><td>30</td><td>1800</td></tr>\n",
       "<tr><td>Mediterraneen_Mod...</td><td>55</td><td>25</td><td>30</td><td>2100</td></tr>\n",
       "<tr><td>Dash_Moderne</td><td>50</td><td>20</td><td>25</td><td>2000</td></tr>\n",
       "<tr><td>Proteine_Pure</td><td>20</td><td>80</td><td>10</td><td>1500</td></tr>\n",
       "<tr><td>Low_FODMAP</td><td>40</td><td>25</td><td>20</td><td>1800</td></tr>\n",
       "</table>\n"
      ],
      "text/plain": [
       "+--------------------+--------------+---------------+-------------+------------+\n",
       "|              regime|max_glucides_g|max_proteines_g|max_lipides_g|max_calories|\n",
       "+--------------------+--------------+---------------+-------------+------------+\n",
       "|              FODMAP|            50|             30|           20|         200|\n",
       "|       Mediterraneen|            50|             30|           20|         201|\n",
       "|               Paleo|            40|             25|           35|        1800|\n",
       "|          Vegetarien|            55|             25|           25|        2000|\n",
       "|            Cetogene|            10|             70|           80|        1500|\n",
       "|               Vegan|            50|             30|           20|        2000|\n",
       "|                DASH|            60|             20|           25|        2200|\n",
       "|     Weight_Watchers|            40|             25|           25|        1800|\n",
       "|         Sans_gluten|            50|             30|           20|         208|\n",
       "|             Alcalin|            50|             20|           30|        2000|\n",
       "|         Sans_gluten|            50|             30|           20|         210|\n",
       "|                Zone|            40|             30|           30|        2000|\n",
       "|            Low_Carb|            30|             40|           30|        1800|\n",
       "|Mediterraneen_Mod...|            55|             25|           30|        2100|\n",
       "|        Dash_Moderne|            50|             20|           25|        2000|\n",
       "|       Proteine_Pure|            20|             80|           10|        1500|\n",
       "|          Low_FODMAP|            40|             25|           20|        1800|\n",
       "+--------------------+--------------+---------------+-------------+------------+"
      ]
     },
     "execution_count": 49,
     "metadata": {},
     "output_type": "execute_result"
    }
   ],
   "source": [
    "# Chargement des données régimes depuis le lien CSV\n",
    "regimes_data = spark.read.format(\"csv\") \\\n",
    "        .option(\"header\", \"true\") \\\n",
    "        .option(\"delimiter\", \",\") \\\n",
    "        .option(\"encoding\", \"UTF-8\") \\\n",
    "        .load(\"/home/sokhna/Téléchargements/regimes_data.csv\")\n",
    "regimes_data"
   ]
  },
  {
   "cell_type": "markdown",
   "id": "b2c57348-fc5e-4e6c-a3aa-e7d46f1aacdd",
   "metadata": {},
   "source": [
    "# 4) Intégration des Informations Utilisateurs avec les Seuils des Régimes Alimentaires\n",
    "\n",
    "Dans cette section, nous intégrons les informations des utilisateurs avec les seuils des régimes alimentaires. Nous effectuons une jointure entre les données des utilisateurs et celles des régimes alimentaires en utilisant la colonne \"regime_alimentaire\" comme clé de jointure. Les colonnes sélectionnées incluent l'identifiant de l'utilisateur, le régime alimentaire, ainsi que les seuils maximums de glucides, de protéines, de lipides et de calories.\n",
    "\n",
    "\n",
    "# Génération Aléatoire du Menu Hebdomadaire\n",
    "\n",
    "Dans cette étape, nous générons aléatoirement un menu équilibré pour chaque jour de la semaine en fonction des produits alimentaires disponibles dans notre ensemble de données OpenFoodFacts. Nous filtrons les données pour nous assurer que les valeurs nutritionnelles essentielles telles que l'énergie, les lipides, les glucides, les protéines et le sel ne sont pas nulles.\n",
    "\n",
    "Pour chaque jour de la semaine, nous sélectionnons aléatoirement 7 produits alimentaires à partir de notre ensemble de données OpenFoodFacts, en garantissant qu'ils sont représentatifs des besoins nutritionnels des utilisateurs. Nous ajoutons ensuite ces sélections à notre menu hebdomadaire.\n",
    "\n",
    "# Stockage du Menu Hebdomadaire\n",
    "\n",
    "Une fois le menu hebdomadaire généré, nous le stockons dans un fichier CSV à l'emplacement spécifié sur le système de fichiers local. De plus, nous créons une table dans le Data Warehouse (DWH) pour stocker ce menu. Une autre table est créée pour établir un lien entre le menu hebdomadaire et l'utilisateur final.\n",
    "\n",
    "\n",
    "Ce rapport résume le processus de génération du menu hebdomadaire à partir des données OpenFoodFacts, des informations sur les utilisateurs et des régimes alimentaires, ainsi que les étapes suivies pour stocker les résultats dans un entrepôt de données."
   ]
  },
  {
   "cell_type": "code",
   "execution_count": 62,
   "id": "eb32f6d1-b443-483d-bfcc-1f23f38a2ba9",
   "metadata": {},
   "outputs": [
    {
     "name": "stdout",
     "output_type": "stream",
     "text": [
      "+--------------+--------------------+--------------+---------------+-------------+------------+\n",
      "|utilisateur_id|  regime_alimentaire|max_glucides_g|max_proteines_g|max_lipides_g|max_calories|\n",
      "+--------------+--------------------+--------------+---------------+-------------+------------+\n",
      "|             6|              FODMAP|            50|             30|           20|         200|\n",
      "|             4|       Mediterraneen|            50|             30|           20|         201|\n",
      "|             8|               Paleo|            40|             25|           35|        1800|\n",
      "|             1|          Vegetarien|            55|             25|           25|        2000|\n",
      "|             2|            Cetogene|            10|             70|           80|        1500|\n",
      "|             3|               Vegan|            50|             30|           20|        2000|\n",
      "|             5|                DASH|            60|             20|           25|        2200|\n",
      "|             9|     Weight_Watchers|            40|             25|           25|        1800|\n",
      "|            15|         Sans_gluten|            50|             30|           20|         208|\n",
      "|            16|             Alcalin|            50|             20|           30|        2000|\n",
      "|            15|         Sans_gluten|            50|             30|           20|         210|\n",
      "|            10|                Zone|            40|             30|           30|        2000|\n",
      "|             7|            Low_Carb|            30|             40|           30|        1800|\n",
      "|            12|Mediterraneen_Mod...|            55|             25|           30|        2100|\n",
      "|            13|        Dash_Moderne|            50|             20|           25|        2000|\n",
      "|            14|       Proteine_Pure|            20|             80|           10|        1500|\n",
      "|            11|          Low_FODMAP|            40|             25|           20|        1800|\n",
      "+--------------+--------------------+--------------+---------------+-------------+------------+\n",
      "\n"
     ]
    }
   ],
   "source": [
    "  # Intégration des informations des utilisateurs avec les seuils des régimes alimentaires\n",
    "menu_personnalise = utilisateurs_data.join(regimes_data, utilisateurs_data[\"regime_alimentaire\"] == regimes_data[\"regime\"]) \\\n",
    "        .select(\"utilisateur_id\", \"regime_alimentaire\", \"max_glucides_g\", \"max_proteines_g\", \"max_lipides_g\",\n",
    "                \"max_calories\")\n",
    "\n",
    "menu_personnalise.show()\n",
    "\n"
   ]
  },
  {
   "cell_type": "code",
   "execution_count": 63,
   "id": "28cac0eb-4499-41cd-aec7-9fb4a73c2f4f",
   "metadata": {},
   "outputs": [
    {
     "data": {
      "text/html": [
       "<table border='1'>\n",
       "<tr><th>code</th><th>product_name</th><th>countries_en</th><th>nutriscore_grade</th><th>energy_100g</th><th>fat_100g</th><th>carbohydrates_100g</th><th>proteins_100g</th><th>salt_100g</th></tr>\n",
       "<tr><td>2.6772226E7</td><td>Skyr</td><td>France</td><td>a</td><td>238.0</td><td>0.2</td><td>3.9</td><td>10.0</td><td>0.09</td></tr>\n",
       "<tr><td>123.0</td><td>Sauce Sweety chil...</td><td>France</td><td>unknown</td><td>88.0</td><td>0.0</td><td>4.8</td><td>0.2</td><td>2.04</td></tr>\n",
       "<tr><td>178.0</td><td>Mini coco</td><td>France</td><td>unknown</td><td>251.0</td><td>3.0</td><td>10.0</td><td>2.0</td><td>1.15</td></tr>\n",
       "<tr><td>80.0</td><td>Pur jus de pomme</td><td>France</td><td>d</td><td>264.0</td><td>0.0</td><td>15.5</td><td>0.2</td><td>0.0</td></tr>\n",
       "<tr><td>949.0</td><td>Salade de carotte...</td><td>France</td><td>a</td><td>134.0</td><td>0.3</td><td>5.3</td><td>0.9</td><td>0.42</td></tr>\n",
       "<tr><td>970.0</td><td>Fromage blanc aux...</td><td>France</td><td>unknown</td><td>540.0</td><td>4.9</td><td>16.3</td><td>4.4</td><td>0.25</td></tr>\n",
       "<tr><td>112.0</td><td>Iogurt de cabra</td><td>Spain</td><td>unknown</td><td>305.0</td><td>4.3</td><td>4.3</td><td>3.3</td><td>0.1</td></tr>\n",
       "<tr><td>1311.0</td><td>Salade de fruits ...</td><td>France</td><td>unknown</td><td>418.0</td><td>0.0</td><td>24.0</td><td>0.0</td><td>3.2</td></tr>\n",
       "<tr><td>1328.0</td><td>Chouquettes x 30</td><td>France</td><td>unknown</td><td>657.0</td><td>21.0</td><td>39.0</td><td>7.8</td><td>1.5</td></tr>\n",
       "<tr><td>1564.0</td><td>Fromage blanc p&ecirc;che</td><td>France</td><td>unknown</td><td>410.0</td><td>3.3</td><td>7.6</td><td>4.6</td><td>0.027</td></tr>\n",
       "<tr><td>186.0</td><td>Yaourt au chocolat</td><td>France</td><td>unknown</td><td>494.0</td><td>4.3</td><td>17.1</td><td>2.7</td><td>0.1</td></tr>\n",
       "<tr><td>1885.0</td><td>Compote de poire</td><td>France</td><td>a</td><td>657.0</td><td>0.0</td><td>36.0</td><td>0.6</td><td>0.0</td></tr>\n",
       "<tr><td>2042.0</td><td>Pa&euml;lla de poulet</td><td>France</td><td>unknown</td><td>640.0</td><td>9.1</td><td>9.2</td><td>8.3</td><td>2.8</td></tr>\n",
       "<tr><td>2219.0</td><td>Salade shaker chef</td><td>France</td><td>unknown</td><td>301.0</td><td>2.2</td><td>5.2</td><td>7.0</td><td>0.18</td></tr>\n",
       "<tr><td>2257.0</td><td>Salade de macedoi...</td><td>France</td><td>b</td><td>598.0</td><td>12.7</td><td>3.9</td><td>1.9</td><td>0.27</td></tr>\n",
       "<tr><td>2264.0</td><td>Baguette Poitevin</td><td>France</td><td>unknown</td><td>866.0</td><td>6.7</td><td>27.5</td><td>8.9</td><td>0.4</td></tr>\n",
       "<tr><td>2363.0</td><td>Suedois thon</td><td>France</td><td>unknown</td><td>678.0</td><td>3.7</td><td>20.7</td><td>9.1</td><td>0.194</td></tr>\n",
       "<tr><td>2400.0</td><td>Ciabatta Bombay</td><td>France</td><td>unknown</td><td>728.0</td><td>2.3</td><td>29.3</td><td>8.9</td><td>0.531</td></tr>\n",
       "<tr><td>3018.0</td><td>Salade tomate</td><td>France</td><td>unknown</td><td>75.0</td><td>0.2</td><td>2.2</td><td>0.9</td><td>5.0</td></tr>\n",
       "<tr><td>3384.0</td><td>Mousse chocolat d...</td><td>France</td><td>unknown</td><td>707.0</td><td>5.6</td><td>22.7</td><td>5.8</td><td>0.443</td></tr>\n",
       "</table>\n",
       "only showing top 20 rows\n"
      ],
      "text/plain": [
       "+-----------+--------------------+------------+----------------+-----------+--------+------------------+-------------+---------+\n",
       "|       code|        product_name|countries_en|nutriscore_grade|energy_100g|fat_100g|carbohydrates_100g|proteins_100g|salt_100g|\n",
       "+-----------+--------------------+------------+----------------+-----------+--------+------------------+-------------+---------+\n",
       "|2.6772226E7|                Skyr|      France|               a|      238.0|     0.2|               3.9|         10.0|     0.09|\n",
       "|      123.0|Sauce Sweety chil...|      France|         unknown|       88.0|     0.0|               4.8|          0.2|     2.04|\n",
       "|      178.0|           Mini coco|      France|         unknown|      251.0|     3.0|              10.0|          2.0|     1.15|\n",
       "|       80.0|    Pur jus de pomme|      France|               d|      264.0|     0.0|              15.5|          0.2|      0.0|\n",
       "|      949.0|Salade de carotte...|      France|               a|      134.0|     0.3|               5.3|          0.9|     0.42|\n",
       "|      970.0|Fromage blanc aux...|      France|         unknown|      540.0|     4.9|              16.3|          4.4|     0.25|\n",
       "|      112.0|     Iogurt de cabra|       Spain|         unknown|      305.0|     4.3|               4.3|          3.3|      0.1|\n",
       "|     1311.0|Salade de fruits ...|      France|         unknown|      418.0|     0.0|              24.0|          0.0|      3.2|\n",
       "|     1328.0|    Chouquettes x 30|      France|         unknown|      657.0|    21.0|              39.0|          7.8|      1.5|\n",
       "|     1564.0| Fromage blanc pêche|      France|         unknown|      410.0|     3.3|               7.6|          4.6|    0.027|\n",
       "|      186.0|  Yaourt au chocolat|      France|         unknown|      494.0|     4.3|              17.1|          2.7|      0.1|\n",
       "|     1885.0|    Compote de poire|      France|               a|      657.0|     0.0|              36.0|          0.6|      0.0|\n",
       "|     2042.0|    Paëlla de poulet|      France|         unknown|      640.0|     9.1|               9.2|          8.3|      2.8|\n",
       "|     2219.0|  Salade shaker chef|      France|         unknown|      301.0|     2.2|               5.2|          7.0|     0.18|\n",
       "|     2257.0|Salade de macedoi...|      France|               b|      598.0|    12.7|               3.9|          1.9|     0.27|\n",
       "|     2264.0|   Baguette Poitevin|      France|         unknown|      866.0|     6.7|              27.5|          8.9|      0.4|\n",
       "|     2363.0|        Suedois thon|      France|         unknown|      678.0|     3.7|              20.7|          9.1|    0.194|\n",
       "|     2400.0|     Ciabatta Bombay|      France|         unknown|      728.0|     2.3|              29.3|          8.9|    0.531|\n",
       "|     3018.0|       Salade tomate|      France|         unknown|       75.0|     0.2|               2.2|          0.9|      5.0|\n",
       "|     3384.0|Mousse chocolat d...|      France|         unknown|      707.0|     5.6|              22.7|          5.8|    0.443|\n",
       "+-----------+--------------------+------------+----------------+-----------+--------+------------------+-------------+---------+\n",
       "only showing top 20 rows"
      ]
     },
     "execution_count": 63,
     "metadata": {},
     "output_type": "execute_result"
    }
   ],
   "source": [
    "# Générer aléatoirement un menu sur une semaine\n",
    "menu_hebdomadaire = df_openfoodfacts.filter(col(\"energy_100g\").isNotNull()) \\\n",
    "                                             .filter(col(\"fat_100g\").isNotNull()) \\\n",
    "                                             .filter(col(\"carbohydrates_100g\").isNotNull()) \\\n",
    "                                             .filter(col(\"proteins_100g\").isNotNull()) \\\n",
    "                                             .filter(col(\"salt_100g\").isNotNull())\n",
    "menu_hebdomadaire"
   ]
  },
  {
   "cell_type": "code",
   "execution_count": 64,
   "id": "28ef5f1a-af8f-423b-9902-d60969f95e5e",
   "metadata": {},
   "outputs": [
    {
     "data": {
      "text/html": [
       "<table border='1'>\n",
       "<tr><th>code</th><th>product_name</th><th>countries_en</th><th>nutriscore_grade</th><th>energy_100g</th><th>fat_100g</th><th>carbohydrates_100g</th><th>proteins_100g</th><th>salt_100g</th><th>jour</th></tr>\n",
       "<tr><td>178.0</td><td>Mini coco</td><td>France</td><td>unknown</td><td>251.0</td><td>3.0</td><td>10.0</td><td>2.0</td><td>1.15</td><td>7</td></tr>\n",
       "<tr><td>1311.0</td><td>Salade de fruits ...</td><td>France</td><td>unknown</td><td>418.0</td><td>0.0</td><td>24.0</td><td>0.0</td><td>3.2</td><td>7</td></tr>\n",
       "<tr><td>2363.0</td><td>Suedois thon</td><td>France</td><td>unknown</td><td>678.0</td><td>3.7</td><td>20.7</td><td>9.1</td><td>0.194</td><td>7</td></tr>\n",
       "<tr><td>5166.0</td><td>cuisse de poulet ...</td><td>France</td><td>c</td><td>824.0</td><td>13.0</td><td>3.0</td><td>17.0</td><td>1.1</td><td>7</td></tr>\n",
       "<tr><td>15509.0</td><td>Baguette Ni&ccedil;ois</td><td>France</td><td>unknown</td><td>812.0</td><td>5.6</td><td>27.7</td><td>9.6</td><td>1.1</td><td>7</td></tr>\n",
       "<tr><td>1576.0</td><td>Pur jus de pomme</td><td>France</td><td>d</td><td>221.0</td><td>0.5</td><td>13.0</td><td>0.5</td><td>0.01</td><td>7</td></tr>\n",
       "<tr><td>6.4079933414E10</td><td>Pechuga de pavo b...</td><td>Spain</td><td>unknown</td><td>322.0</td><td>1.0</td><td>2.0</td><td>15.0</td><td>1.8</td><td>7</td></tr>\n",
       "</table>\n"
      ],
      "text/plain": [
       "+---------------+--------------------+------------+----------------+-----------+--------+------------------+-------------+---------+----+\n",
       "|           code|        product_name|countries_en|nutriscore_grade|energy_100g|fat_100g|carbohydrates_100g|proteins_100g|salt_100g|jour|\n",
       "+---------------+--------------------+------------+----------------+-----------+--------+------------------+-------------+---------+----+\n",
       "|          178.0|           Mini coco|      France|         unknown|      251.0|     3.0|              10.0|          2.0|     1.15|   7|\n",
       "|         1311.0|Salade de fruits ...|      France|         unknown|      418.0|     0.0|              24.0|          0.0|      3.2|   7|\n",
       "|         2363.0|        Suedois thon|      France|         unknown|      678.0|     3.7|              20.7|          9.1|    0.194|   7|\n",
       "|         5166.0|cuisse de poulet ...|      France|               c|      824.0|    13.0|               3.0|         17.0|      1.1|   7|\n",
       "|        15509.0|     Baguette Niçois|      France|         unknown|      812.0|     5.6|              27.7|          9.6|      1.1|   7|\n",
       "|         1576.0|    Pur jus de pomme|      France|               d|      221.0|     0.5|              13.0|          0.5|     0.01|   7|\n",
       "|6.4079933414E10|Pechuga de pavo b...|       Spain|         unknown|      322.0|     1.0|               2.0|         15.0|      1.8|   7|\n",
       "+---------------+--------------------+------------+----------------+-----------+--------+------------------+-------------+---------+----+"
      ]
     },
     "execution_count": 64,
     "metadata": {},
     "output_type": "execute_result"
    }
   ],
   "source": [
    "# Répéter pour chaque jour de la semaine\n",
    "for jour in range(1, 8):\n",
    "        # Sélectionner aléatoirement des produits pour chaque jour\n",
    "        menu_jour = menu_hebdomadaire.sample(False, 0.1).limit(7).withColumn(\"jour\", lit(jour))\n",
    "menu_jour"
   ]
  },
  {
   "cell_type": "code",
   "execution_count": 65,
   "id": "b29b6cfe-f433-46d0-bfe6-b12ba8a8bdfc",
   "metadata": {},
   "outputs": [
    {
     "name": "stdout",
     "output_type": "stream",
     "text": [
      "Voici le menu du jour :\n",
      "+---------------+--------------------+------------+----------------+-----------+--------+------------------+-------------+---------+----+\n",
      "|           code|        product_name|countries_en|nutriscore_grade|energy_100g|fat_100g|carbohydrates_100g|proteins_100g|salt_100g|jour|\n",
      "+---------------+--------------------+------------+----------------+-----------+--------+------------------+-------------+---------+----+\n",
      "|          178.0|           Mini coco|      France|         unknown|      251.0|     3.0|              10.0|          2.0|     1.15|   7|\n",
      "|         1311.0|Salade de fruits ...|      France|         unknown|      418.0|     0.0|              24.0|          0.0|      3.2|   7|\n",
      "|         2363.0|        Suedois thon|      France|         unknown|      678.0|     3.7|              20.7|          9.1|    0.194|   7|\n",
      "|         5166.0|cuisse de poulet ...|      France|               c|      824.0|    13.0|               3.0|         17.0|      1.1|   7|\n",
      "|        15509.0|     Baguette Niçois|      France|         unknown|      812.0|     5.6|              27.7|          9.6|      1.1|   7|\n",
      "|         1576.0|    Pur jus de pomme|      France|               d|      221.0|     0.5|              13.0|          0.5|     0.01|   7|\n",
      "|6.4079933414E10|Pechuga de pavo b...|       Spain|         unknown|      322.0|     1.0|               2.0|         15.0|      1.8|   7|\n",
      "+---------------+--------------------+------------+----------------+-----------+--------+------------------+-------------+---------+----+\n",
      "\n"
     ]
    }
   ],
   "source": [
    "# Affichage du menu de chaque jour\n",
    "print(\"Voici le menu du jour :\")\n",
    "menu_jour.show()"
   ]
  },
  {
   "cell_type": "code",
   "execution_count": null,
   "id": "c2b4eb92-bb6a-4e88-b7f7-435d6550b479",
   "metadata": {},
   "outputs": [],
   "source": [
    "# Stockage du menu dans le DWH\n",
    "menu_hebdomadaire_path = \"/home/sokhna/Téléchargements/menu_hebdomadaire\"\n",
    "menu_hebdomadaire.write.format(\"csv\") \\\n",
    "                     .option(\"header\", \"true\") \\\n",
    "                     .option(\"delimiter\", \",\") \\\n",
    "                     .mode(\"overwrite\") \\\n",
    "                     .save(menu_hebdomadaire_path)"
   ]
  },
  {
   "cell_type": "code",
   "execution_count": 77,
   "id": "10a6c197-ebf1-482e-b884-2878f4ee7fb6",
   "metadata": {},
   "outputs": [],
   "source": [
    "# Création d'une table dans le DWH pour stocker le menu hebdomadaire\n",
    "menu_hebdomadaire.createOrReplaceTempView(\"table_menu_hebdomadaire\")"
   ]
  },
  {
   "cell_type": "code",
   "execution_count": null,
   "id": "3cd6ba22-4882-4e76-9964-0f11606a5966",
   "metadata": {},
   "outputs": [],
   "source": [
    "spark.conf.set(\"spark.sql.catalogImplementation\", \"hive\")\n",
    "\n",
    "# Création d'une table pour lier le menu hebdomadaire à l'utilisateur final\n",
    "sql_create_link_table = \"\"\"\n",
    "    CREATE TABLE IF NOT EXISTS table_lien_utilisateur_menu (\n",
    "        utilisateur_id INT,\n",
    "        menu_id INT,\n",
    "        jour INT\n",
    "    )\n",
    "    USING PARQUET\n",
    "    OPTIONS (provider \"parquet\")\n",
    "\"\"\"\n",
    "spark.sql(sql_create_link_table)\n"
   ]
  },
  {
   "cell_type": "code",
   "execution_count": null,
   "id": "934918c8-d242-40cb-9d38-d52779594194",
   "metadata": {},
   "outputs": [],
   "source": [
    "# Ajout des informations de liaison dans la table du DWH\n",
    "sql_insert_link_info = \"INSERT INTO table_lien_utilisateur_menu VALUES (utilisateur_id, menu_id, jour)\"\n",
    "spark.sql(sql_insert_link_info)"
   ]
  },
  {
   "cell_type": "code",
   "execution_count": null,
   "id": "4af1a418-1513-4eb6-abbd-6ccaf21af5ea",
   "metadata": {},
   "outputs": [],
   "source": [
    "spark.stop()"
   ]
  },
  {
   "cell_type": "markdown",
   "id": "d047cb83-8e06-4363-8e22-60d503739a37",
   "metadata": {},
   "source": [
    "# Conclusion\n",
    "Ce rapport présente une analyse complète des données nutritionnelles à l'aide de PySpark. Le processus comprend le chargement, le nettoyage, l'intégration et la génération d'un menu hebdomadaire personnalisé pour chaque utilisateur. Les résultats obtenus peuvent être utilisés pour recommander des menus alimentaires équilibrés aux utilisateurs en fonction de leurs besoins nutritionnels."
   ]
  }
 ],
 "metadata": {
  "kernelspec": {
   "display_name": "Python 3 (ipykernel)",
   "language": "python",
   "name": "python3"
  },
  "language_info": {
   "codemirror_mode": {
    "name": "ipython",
    "version": 3
   },
   "file_extension": ".py",
   "mimetype": "text/x-python",
   "name": "python",
   "nbconvert_exporter": "python",
   "pygments_lexer": "ipython3",
   "version": "3.10.12"
  }
 },
 "nbformat": 4,
 "nbformat_minor": 5
}
